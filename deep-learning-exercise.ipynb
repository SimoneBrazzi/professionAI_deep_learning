{
 "cells": [
  {
   "cell_type": "code",
   "execution_count": 1,
   "id": "841ef6eb",
   "metadata": {
    "_cell_guid": "b1076dfc-b9ad-4769-8c92-a6c4dae69d19",
    "_uuid": "8f2839f25d086af736a60e9eeb907d3b93b6e0e5",
    "execution": {
     "iopub.execute_input": "2024-05-22T07:02:45.128964Z",
     "iopub.status.busy": "2024-05-22T07:02:45.128613Z",
     "iopub.status.idle": "2024-05-22T07:02:45.807017Z",
     "shell.execute_reply": "2024-05-22T07:02:45.806127Z"
    },
    "papermill": {
     "duration": 0.687054,
     "end_time": "2024-05-22T07:02:45.809283",
     "exception": false,
     "start_time": "2024-05-22T07:02:45.122229",
     "status": "completed"
    },
    "tags": []
   },
   "outputs": [],
   "source": [
    "# This Python 3 environment comes with many helpful analytics libraries installed\n",
    "# It is defined by the kaggle/python Docker image: https://github.com/kaggle/docker-python\n",
    "# For example, here's several helpful packages to load\n",
    "\n",
    "import numpy as np # linear algebra\n",
    "import pandas as pd # data processing, CSV file I/O (e.g. pd.read_csv)\n",
    "\n",
    "# Input data files are available in the read-only \"../input/\" directory\n",
    "# For example, running this (by clicking run or pressing Shift+Enter) will list all files under the input directory\n",
    "\n",
    "import os\n",
    "for dirname, _, filenames in os.walk('/kaggle/input'):\n",
    "    for filename in filenames:\n",
    "        print(os.path.join(dirname, filename))\n",
    "\n",
    "# You can write up to 20GB to the current directory (/kaggle/working/) that gets preserved as output when you create a version using \"Save & Run All\" \n",
    "# You can also write temporary files to /kaggle/temp/, but they won't be saved outside of the current session"
   ]
  },
  {
   "cell_type": "code",
   "execution_count": 2,
   "id": "20f2d9c6",
   "metadata": {
    "execution": {
     "iopub.execute_input": "2024-05-22T07:02:45.819748Z",
     "iopub.status.busy": "2024-05-22T07:02:45.819392Z",
     "iopub.status.idle": "2024-05-22T07:02:59.437753Z",
     "shell.execute_reply": "2024-05-22T07:02:59.436757Z"
    },
    "papermill": {
     "duration": 13.626187,
     "end_time": "2024-05-22T07:02:59.440293",
     "exception": false,
     "start_time": "2024-05-22T07:02:45.814106",
     "status": "completed"
    },
    "tags": []
   },
   "outputs": [
    {
     "name": "stderr",
     "output_type": "stream",
     "text": [
      "2024-05-22 07:02:47.393481: E external/local_xla/xla/stream_executor/cuda/cuda_dnn.cc:9261] Unable to register cuDNN factory: Attempting to register factory for plugin cuDNN when one has already been registered\n",
      "2024-05-22 07:02:47.393586: E external/local_xla/xla/stream_executor/cuda/cuda_fft.cc:607] Unable to register cuFFT factory: Attempting to register factory for plugin cuFFT when one has already been registered\n",
      "2024-05-22 07:02:47.506509: E external/local_xla/xla/stream_executor/cuda/cuda_blas.cc:1515] Unable to register cuBLAS factory: Attempting to register factory for plugin cuBLAS when one has already been registered\n"
     ]
    }
   ],
   "source": [
    "import pandas as pd\n",
    "import numpy as np\n",
    "import tensorflow as tf\n",
    "import keras\n",
    "import keras_nlp\n",
    "\n",
    "from keras.backend import clear_session\n",
    "from keras.models import Model\n",
    "from keras.layers import TextVectorization, Input, Dense, Embedding, Dropout, GlobalAveragePooling1D, LSTM, Bidirectional\n",
    "\n",
    "from sklearn.model_selection import train_test_split"
   ]
  },
  {
   "cell_type": "code",
   "execution_count": 3,
   "id": "fe7d628c",
   "metadata": {
    "execution": {
     "iopub.execute_input": "2024-05-22T07:02:59.451271Z",
     "iopub.status.busy": "2024-05-22T07:02:59.450715Z",
     "iopub.status.idle": "2024-05-22T07:02:59.462520Z",
     "shell.execute_reply": "2024-05-22T07:02:59.461689Z"
    },
    "papermill": {
     "duration": 0.019412,
     "end_time": "2024-05-22T07:02:59.464395",
     "exception": false,
     "start_time": "2024-05-22T07:02:59.444983",
     "status": "completed"
    },
    "tags": []
   },
   "outputs": [],
   "source": [
    "class Config():\n",
    "    def __init__(self):\n",
    "        self.url = \"https://s3.eu-west-3.amazonaws.com/profession.ai/datasets/Filter_Toxic_Comments_dataset.csv\"\n",
    "        self.max_tokens = 20000\n",
    "        self.output_sequence_length = 200\n",
    "        self.embedding_dim = 128\n",
    "        self.batch_size = 32\n",
    "        self.epochs = 10\n",
    "        self.train_split = 0.7\n",
    "        self.test_split = 0.15\n",
    "        self.val_split = 0.15\n",
    "        self.random_state = 42\n",
    "        self.features = 'comment_text'\n",
    "        self.labels = ['toxic', 'severe_toxic', 'obscene', 'threat', 'insult', 'identity_hate']\n",
    "        self.new_labels = ['toxic', 'severe_toxic', 'obscene', 'threat', 'insult', 'identity_hate', \"clean\"]\n",
    "        self.label_mapping = {label: i for i, label in enumerate(self.labels)}\n",
    "        self.new_label_mapping = {label: i for i, label in enumerate(self.new_labels)}\n",
    "\n",
    "    def split_dataset(self, df):\n",
    "      x = df[self.features]\n",
    "      y = df[self.labels]\n",
    "      xtrain, xtest, ytrain, ytest = train_test_split(x, y, test_size=self.test_split, random_state=self.random_state)\n",
    "      xtrain, xval, ytrain, yval = train_test_split(xtrain, ytrain, test_size=self.val_split, random_state=self.random_state)\n",
    "      \n",
    "      return (xtrain, ytrain), (xtest, ytest), (xval, yval)\n",
    "    \n",
    "    def early_stopping(self):\n",
    "      early_stopping = keras.callbacks.EarlyStopping(\n",
    "        monitor=\"val_loss\",\n",
    "        patience=3,\n",
    "            verbose=0,\n",
    "            mode=\"auto\",\n",
    "            baseline=None,\n",
    "            restore_best_weights=True,\n",
    "            start_from_epoch=0\n",
    "        )\n",
    "      return early_stopping\n",
    "    \n",
    "    def model_checkpoint(self, filepath):\n",
    "      \n",
    "      model_checkpoint = keras.callbacks.ModelCheckpoint(\n",
    "        filepath,\n",
    "        monitor=\"val_loss\",\n",
    "        verbose=0,\n",
    "        save_best_only=True,\n",
    "        save_weights_only=False,\n",
    "        mode=\"auto\",\n",
    "        save_freq=\"epoch\",\n",
    "        initial_value_threshold=None\n",
    "      )\n",
    "      \n",
    "      return model_checkpoint\n",
    "\n",
    "config = Config()"
   ]
  },
  {
   "cell_type": "code",
   "execution_count": 4,
   "id": "af7590f3",
   "metadata": {
    "execution": {
     "iopub.execute_input": "2024-05-22T07:02:59.474400Z",
     "iopub.status.busy": "2024-05-22T07:02:59.474144Z",
     "iopub.status.idle": "2024-05-22T07:03:21.934633Z",
     "shell.execute_reply": "2024-05-22T07:03:21.933678Z"
    },
    "papermill": {
     "duration": 22.467851,
     "end_time": "2024-05-22T07:03:21.936793",
     "exception": false,
     "start_time": "2024-05-22T07:02:59.468942",
     "status": "completed"
    },
    "tags": []
   },
   "outputs": [
    {
     "name": "stdout",
     "output_type": "stream",
     "text": [
      "Downloading data from https://s3.eu-west-3.amazonaws.com/profession.ai/datasets/Filter_Toxic_Comments_dataset.csv\n",
      "\u001b[1m66034407/66034407\u001b[0m \u001b[32m━━━━━━━━━━━━━━━━━━━━\u001b[0m\u001b[37m\u001b[0m \u001b[1m20s\u001b[0m 0us/step\n"
     ]
    },
    {
     "data": {
      "text/html": [
       "<div>\n",
       "<style scoped>\n",
       "    .dataframe tbody tr th:only-of-type {\n",
       "        vertical-align: middle;\n",
       "    }\n",
       "\n",
       "    .dataframe tbody tr th {\n",
       "        vertical-align: top;\n",
       "    }\n",
       "\n",
       "    .dataframe thead th {\n",
       "        text-align: right;\n",
       "    }\n",
       "</style>\n",
       "<table border=\"1\" class=\"dataframe\">\n",
       "  <thead>\n",
       "    <tr style=\"text-align: right;\">\n",
       "      <th></th>\n",
       "      <th>comment_text</th>\n",
       "      <th>toxic</th>\n",
       "      <th>severe_toxic</th>\n",
       "      <th>obscene</th>\n",
       "      <th>threat</th>\n",
       "      <th>insult</th>\n",
       "      <th>identity_hate</th>\n",
       "      <th>sum_injurious</th>\n",
       "    </tr>\n",
       "  </thead>\n",
       "  <tbody>\n",
       "    <tr>\n",
       "      <th>0</th>\n",
       "      <td>Explanation\\nWhy the edits made under my usern...</td>\n",
       "      <td>0</td>\n",
       "      <td>0</td>\n",
       "      <td>0</td>\n",
       "      <td>0</td>\n",
       "      <td>0</td>\n",
       "      <td>0</td>\n",
       "      <td>0</td>\n",
       "    </tr>\n",
       "    <tr>\n",
       "      <th>1</th>\n",
       "      <td>D'aww! He matches this background colour I'm s...</td>\n",
       "      <td>0</td>\n",
       "      <td>0</td>\n",
       "      <td>0</td>\n",
       "      <td>0</td>\n",
       "      <td>0</td>\n",
       "      <td>0</td>\n",
       "      <td>0</td>\n",
       "    </tr>\n",
       "    <tr>\n",
       "      <th>2</th>\n",
       "      <td>Hey man, I'm really not trying to edit war. It...</td>\n",
       "      <td>0</td>\n",
       "      <td>0</td>\n",
       "      <td>0</td>\n",
       "      <td>0</td>\n",
       "      <td>0</td>\n",
       "      <td>0</td>\n",
       "      <td>0</td>\n",
       "    </tr>\n",
       "    <tr>\n",
       "      <th>3</th>\n",
       "      <td>\"\\nMore\\nI can't make any real suggestions on ...</td>\n",
       "      <td>0</td>\n",
       "      <td>0</td>\n",
       "      <td>0</td>\n",
       "      <td>0</td>\n",
       "      <td>0</td>\n",
       "      <td>0</td>\n",
       "      <td>0</td>\n",
       "    </tr>\n",
       "    <tr>\n",
       "      <th>4</th>\n",
       "      <td>You, sir, are my hero. Any chance you remember...</td>\n",
       "      <td>0</td>\n",
       "      <td>0</td>\n",
       "      <td>0</td>\n",
       "      <td>0</td>\n",
       "      <td>0</td>\n",
       "      <td>0</td>\n",
       "      <td>0</td>\n",
       "    </tr>\n",
       "  </tbody>\n",
       "</table>\n",
       "</div>"
      ],
      "text/plain": [
       "                                        comment_text  toxic  severe_toxic  \\\n",
       "0  Explanation\\nWhy the edits made under my usern...      0             0   \n",
       "1  D'aww! He matches this background colour I'm s...      0             0   \n",
       "2  Hey man, I'm really not trying to edit war. It...      0             0   \n",
       "3  \"\\nMore\\nI can't make any real suggestions on ...      0             0   \n",
       "4  You, sir, are my hero. Any chance you remember...      0             0   \n",
       "\n",
       "   obscene  threat  insult  identity_hate  sum_injurious  \n",
       "0        0       0       0              0              0  \n",
       "1        0       0       0              0              0  \n",
       "2        0       0       0              0              0  \n",
       "3        0       0       0              0              0  \n",
       "4        0       0       0              0              0  "
      ]
     },
     "execution_count": 4,
     "metadata": {},
     "output_type": "execute_result"
    }
   ],
   "source": [
    "file = tf.keras.utils.get_file(\"Filter_Toxic_Comments_dataset.csv\", config.url)\n",
    "df = pd.read_csv(file)\n",
    "df.head()"
   ]
  },
  {
   "cell_type": "code",
   "execution_count": 5,
   "id": "fd42952e",
   "metadata": {
    "execution": {
     "iopub.execute_input": "2024-05-22T07:03:21.972939Z",
     "iopub.status.busy": "2024-05-22T07:03:21.972625Z",
     "iopub.status.idle": "2024-05-22T07:03:22.028116Z",
     "shell.execute_reply": "2024-05-22T07:03:22.027122Z"
    },
    "papermill": {
     "duration": 0.076485,
     "end_time": "2024-05-22T07:03:22.030664",
     "exception": false,
     "start_time": "2024-05-22T07:03:21.954179",
     "status": "completed"
    },
    "tags": []
   },
   "outputs": [],
   "source": [
    "(xtrain, ytrain), (xtest, ytest), (xval, yval) = config.split_dataset(df)"
   ]
  },
  {
   "cell_type": "code",
   "execution_count": 6,
   "id": "9d5a6adb",
   "metadata": {
    "execution": {
     "iopub.execute_input": "2024-05-22T07:03:22.066236Z",
     "iopub.status.busy": "2024-05-22T07:03:22.065645Z",
     "iopub.status.idle": "2024-05-22T07:03:22.118115Z",
     "shell.execute_reply": "2024-05-22T07:03:22.117148Z"
    },
    "papermill": {
     "duration": 0.073013,
     "end_time": "2024-05-22T07:03:22.120655",
     "exception": false,
     "start_time": "2024-05-22T07:03:22.047642",
     "status": "completed"
    },
    "tags": []
   },
   "outputs": [],
   "source": [
    "x = df[config.features]\n",
    "y = df[config.labels]\n",
    "\n",
    "xtrain, xtest, ytrain, ytest = train_test_split(x, y, test_size=config.test_split, random_state=config.random_state)\n",
    "xtrain, xval, ytrain, yval = train_test_split(xtrain, ytrain, test_size=config.val_split, random_state=config.random_state)\n"
   ]
  },
  {
   "cell_type": "code",
   "execution_count": 7,
   "id": "78335207",
   "metadata": {
    "execution": {
     "iopub.execute_input": "2024-05-22T07:03:22.157470Z",
     "iopub.status.busy": "2024-05-22T07:03:22.156680Z",
     "iopub.status.idle": "2024-05-22T07:03:22.161979Z",
     "shell.execute_reply": "2024-05-22T07:03:22.161141Z"
    },
    "papermill": {
     "duration": 0.025391,
     "end_time": "2024-05-22T07:03:22.164027",
     "exception": false,
     "start_time": "2024-05-22T07:03:22.138636",
     "status": "completed"
    },
    "tags": []
   },
   "outputs": [
    {
     "name": "stdout",
     "output_type": "stream",
     "text": [
      "xtrain shape: (115289,)\n",
      " ytrain shape: (115289, 6)\n",
      " xtest shape: (23936,)\n",
      " ytest shape: (23936, 6)\n",
      " xval shape: (20346,)\n",
      " yval shape: (20346, 6)\n",
      "\n"
     ]
    }
   ],
   "source": [
    "print(\n",
    "  f\"xtrain shape: {xtrain.shape}\\n\",\n",
    "  f\"ytrain shape: {ytrain.shape}\\n\",\n",
    "  f\"xtest shape: {xtest.shape}\\n\",\n",
    "  f\"ytest shape: {ytest.shape}\\n\",\n",
    "  f\"xval shape: {xval.shape}\\n\",\n",
    "  f\"yval shape: {yval.shape}\\n\"\n",
    "  )"
   ]
  },
  {
   "cell_type": "code",
   "execution_count": 8,
   "id": "ff817ea5",
   "metadata": {
    "execution": {
     "iopub.execute_input": "2024-05-22T07:03:22.199257Z",
     "iopub.status.busy": "2024-05-22T07:03:22.198968Z",
     "iopub.status.idle": "2024-05-22T07:03:22.918144Z",
     "shell.execute_reply": "2024-05-22T07:03:22.917280Z"
    },
    "papermill": {
     "duration": 0.73946,
     "end_time": "2024-05-22T07:03:22.920726",
     "exception": false,
     "start_time": "2024-05-22T07:03:22.181266",
     "status": "completed"
    },
    "tags": []
   },
   "outputs": [],
   "source": [
    "train_ds = tf.data.Dataset.from_tensor_slices(xtrain).batch(config.batch_size)\n",
    "test_ds = tf.data.Dataset.from_tensor_slices(xtest).batch(config.batch_size)\n",
    "val_ds = tf.data.Dataset.from_tensor_slices(xval).batch(config.batch_size)"
   ]
  },
  {
   "cell_type": "code",
   "execution_count": 9,
   "id": "86e514c3",
   "metadata": {
    "execution": {
     "iopub.execute_input": "2024-05-22T07:03:22.957158Z",
     "iopub.status.busy": "2024-05-22T07:03:22.956586Z",
     "iopub.status.idle": "2024-05-22T07:03:26.505936Z",
     "shell.execute_reply": "2024-05-22T07:03:26.504868Z"
    },
    "papermill": {
     "duration": 3.569977,
     "end_time": "2024-05-22T07:03:26.508547",
     "exception": false,
     "start_time": "2024-05-22T07:03:22.938570",
     "status": "completed"
    },
    "tags": []
   },
   "outputs": [],
   "source": [
    "text_vectorizer = TextVectorization(\n",
    "    max_tokens=config.max_tokens,\n",
    "    output_sequence_length=config.output_sequence_length,\n",
    "    output_mode='int',\n",
    "    pad_to_max_tokens=True,\n",
    "    standardize='lower_and_strip_punctuation',\n",
    "    split='whitespace'\n",
    ")\n",
    "\n",
    "text_vectorizer.adapt(xtrain)\n",
    "#text_vectorizer.get_vocabulary()[:100]"
   ]
  },
  {
   "cell_type": "code",
   "execution_count": 10,
   "id": "13268ff5",
   "metadata": {
    "execution": {
     "iopub.execute_input": "2024-05-22T07:03:26.546897Z",
     "iopub.status.busy": "2024-05-22T07:03:26.546519Z",
     "iopub.status.idle": "2024-05-22T07:03:27.388736Z",
     "shell.execute_reply": "2024-05-22T07:03:27.387715Z"
    },
    "papermill": {
     "duration": 0.864139,
     "end_time": "2024-05-22T07:03:27.390994",
     "exception": false,
     "start_time": "2024-05-22T07:03:26.526855",
     "status": "completed"
    },
    "tags": []
   },
   "outputs": [
    {
     "data": {
      "text/html": [
       "<pre style=\"white-space:pre;overflow-x:auto;line-height:normal;font-family:Menlo,'DejaVu Sans Mono',consolas,'Courier New',monospace\"><span style=\"font-weight: bold\">Model: \"functional_1\"</span>\n",
       "</pre>\n"
      ],
      "text/plain": [
       "\u001b[1mModel: \"functional_1\"\u001b[0m\n"
      ]
     },
     "metadata": {},
     "output_type": "display_data"
    },
    {
     "data": {
      "text/html": [
       "<pre style=\"white-space:pre;overflow-x:auto;line-height:normal;font-family:Menlo,'DejaVu Sans Mono',consolas,'Courier New',monospace\">┏━━━━━━━━━━━━━━━━━━━━━━━━━━━━━━━━━┳━━━━━━━━━━━━━━━━━━━━━━━━┳━━━━━━━━━━━━━━━┓\n",
       "┃<span style=\"font-weight: bold\"> Layer (type)                    </span>┃<span style=\"font-weight: bold\"> Output Shape           </span>┃<span style=\"font-weight: bold\">       Param # </span>┃\n",
       "┡━━━━━━━━━━━━━━━━━━━━━━━━━━━━━━━━━╇━━━━━━━━━━━━━━━━━━━━━━━━╇━━━━━━━━━━━━━━━┩\n",
       "│ input_layer (<span style=\"color: #0087ff; text-decoration-color: #0087ff\">InputLayer</span>)        │ (<span style=\"color: #00d7ff; text-decoration-color: #00d7ff\">None</span>, <span style=\"color: #00d7ff; text-decoration-color: #00d7ff\">None</span>)           │             <span style=\"color: #00af00; text-decoration-color: #00af00\">0</span> │\n",
       "├─────────────────────────────────┼────────────────────────┼───────────────┤\n",
       "│ text_vectorization              │ (<span style=\"color: #00d7ff; text-decoration-color: #00d7ff\">None</span>, <span style=\"color: #00af00; text-decoration-color: #00af00\">200</span>)            │             <span style=\"color: #00af00; text-decoration-color: #00af00\">0</span> │\n",
       "│ (<span style=\"color: #0087ff; text-decoration-color: #0087ff\">TextVectorization</span>)             │                        │               │\n",
       "├─────────────────────────────────┼────────────────────────┼───────────────┤\n",
       "│ embedding (<span style=\"color: #0087ff; text-decoration-color: #0087ff\">Embedding</span>)           │ (<span style=\"color: #00d7ff; text-decoration-color: #00d7ff\">None</span>, <span style=\"color: #00af00; text-decoration-color: #00af00\">200</span>, <span style=\"color: #00af00; text-decoration-color: #00af00\">128</span>)       │     <span style=\"color: #00af00; text-decoration-color: #00af00\">2,560,128</span> │\n",
       "├─────────────────────────────────┼────────────────────────┼───────────────┤\n",
       "│ bidirectional (<span style=\"color: #0087ff; text-decoration-color: #0087ff\">Bidirectional</span>)   │ (<span style=\"color: #00d7ff; text-decoration-color: #00d7ff\">None</span>, <span style=\"color: #00af00; text-decoration-color: #00af00\">200</span>, <span style=\"color: #00af00; text-decoration-color: #00af00\">128</span>)       │        <span style=\"color: #00af00; text-decoration-color: #00af00\">98,816</span> │\n",
       "├─────────────────────────────────┼────────────────────────┼───────────────┤\n",
       "│ bidirectional_1 (<span style=\"color: #0087ff; text-decoration-color: #0087ff\">Bidirectional</span>) │ (<span style=\"color: #00d7ff; text-decoration-color: #00d7ff\">None</span>, <span style=\"color: #00af00; text-decoration-color: #00af00\">128</span>)            │        <span style=\"color: #00af00; text-decoration-color: #00af00\">98,816</span> │\n",
       "├─────────────────────────────────┼────────────────────────┼───────────────┤\n",
       "│ dense (<span style=\"color: #0087ff; text-decoration-color: #0087ff\">Dense</span>)                   │ (<span style=\"color: #00d7ff; text-decoration-color: #00d7ff\">None</span>, <span style=\"color: #00af00; text-decoration-color: #00af00\">6</span>)              │           <span style=\"color: #00af00; text-decoration-color: #00af00\">774</span> │\n",
       "└─────────────────────────────────┴────────────────────────┴───────────────┘\n",
       "</pre>\n"
      ],
      "text/plain": [
       "┏━━━━━━━━━━━━━━━━━━━━━━━━━━━━━━━━━┳━━━━━━━━━━━━━━━━━━━━━━━━┳━━━━━━━━━━━━━━━┓\n",
       "┃\u001b[1m \u001b[0m\u001b[1mLayer (type)                   \u001b[0m\u001b[1m \u001b[0m┃\u001b[1m \u001b[0m\u001b[1mOutput Shape          \u001b[0m\u001b[1m \u001b[0m┃\u001b[1m \u001b[0m\u001b[1m      Param #\u001b[0m\u001b[1m \u001b[0m┃\n",
       "┡━━━━━━━━━━━━━━━━━━━━━━━━━━━━━━━━━╇━━━━━━━━━━━━━━━━━━━━━━━━╇━━━━━━━━━━━━━━━┩\n",
       "│ input_layer (\u001b[38;5;33mInputLayer\u001b[0m)        │ (\u001b[38;5;45mNone\u001b[0m, \u001b[38;5;45mNone\u001b[0m)           │             \u001b[38;5;34m0\u001b[0m │\n",
       "├─────────────────────────────────┼────────────────────────┼───────────────┤\n",
       "│ text_vectorization              │ (\u001b[38;5;45mNone\u001b[0m, \u001b[38;5;34m200\u001b[0m)            │             \u001b[38;5;34m0\u001b[0m │\n",
       "│ (\u001b[38;5;33mTextVectorization\u001b[0m)             │                        │               │\n",
       "├─────────────────────────────────┼────────────────────────┼───────────────┤\n",
       "│ embedding (\u001b[38;5;33mEmbedding\u001b[0m)           │ (\u001b[38;5;45mNone\u001b[0m, \u001b[38;5;34m200\u001b[0m, \u001b[38;5;34m128\u001b[0m)       │     \u001b[38;5;34m2,560,128\u001b[0m │\n",
       "├─────────────────────────────────┼────────────────────────┼───────────────┤\n",
       "│ bidirectional (\u001b[38;5;33mBidirectional\u001b[0m)   │ (\u001b[38;5;45mNone\u001b[0m, \u001b[38;5;34m200\u001b[0m, \u001b[38;5;34m128\u001b[0m)       │        \u001b[38;5;34m98,816\u001b[0m │\n",
       "├─────────────────────────────────┼────────────────────────┼───────────────┤\n",
       "│ bidirectional_1 (\u001b[38;5;33mBidirectional\u001b[0m) │ (\u001b[38;5;45mNone\u001b[0m, \u001b[38;5;34m128\u001b[0m)            │        \u001b[38;5;34m98,816\u001b[0m │\n",
       "├─────────────────────────────────┼────────────────────────┼───────────────┤\n",
       "│ dense (\u001b[38;5;33mDense\u001b[0m)                   │ (\u001b[38;5;45mNone\u001b[0m, \u001b[38;5;34m6\u001b[0m)              │           \u001b[38;5;34m774\u001b[0m │\n",
       "└─────────────────────────────────┴────────────────────────┴───────────────┘\n"
      ]
     },
     "metadata": {},
     "output_type": "display_data"
    },
    {
     "data": {
      "text/html": [
       "<pre style=\"white-space:pre;overflow-x:auto;line-height:normal;font-family:Menlo,'DejaVu Sans Mono',consolas,'Courier New',monospace\"><span style=\"font-weight: bold\"> Total params: </span><span style=\"color: #00af00; text-decoration-color: #00af00\">2,758,534</span> (10.52 MB)\n",
       "</pre>\n"
      ],
      "text/plain": [
       "\u001b[1m Total params: \u001b[0m\u001b[38;5;34m2,758,534\u001b[0m (10.52 MB)\n"
      ]
     },
     "metadata": {},
     "output_type": "display_data"
    },
    {
     "data": {
      "text/html": [
       "<pre style=\"white-space:pre;overflow-x:auto;line-height:normal;font-family:Menlo,'DejaVu Sans Mono',consolas,'Courier New',monospace\"><span style=\"font-weight: bold\"> Trainable params: </span><span style=\"color: #00af00; text-decoration-color: #00af00\">2,758,534</span> (10.52 MB)\n",
       "</pre>\n"
      ],
      "text/plain": [
       "\u001b[1m Trainable params: \u001b[0m\u001b[38;5;34m2,758,534\u001b[0m (10.52 MB)\n"
      ]
     },
     "metadata": {},
     "output_type": "display_data"
    },
    {
     "data": {
      "text/html": [
       "<pre style=\"white-space:pre;overflow-x:auto;line-height:normal;font-family:Menlo,'DejaVu Sans Mono',consolas,'Courier New',monospace\"><span style=\"font-weight: bold\"> Non-trainable params: </span><span style=\"color: #00af00; text-decoration-color: #00af00\">0</span> (0.00 B)\n",
       "</pre>\n"
      ],
      "text/plain": [
       "\u001b[1m Non-trainable params: \u001b[0m\u001b[38;5;34m0\u001b[0m (0.00 B)\n"
      ]
     },
     "metadata": {},
     "output_type": "display_data"
    }
   ],
   "source": [
    "def get_lstm_model():\n",
    "  clear_session()\n",
    "  # Input for variable-length sequences of integers\n",
    "  inputs = Input(shape=(None,), dtype=tf.string)\n",
    "  # Embed each integer in a 128-dimensional vector\n",
    "  text_vec = text_vectorizer(inputs)\n",
    "  x = Embedding(config.max_tokens + 1, 128)(text_vec)\n",
    "  # Add 2 bidirectional LSTMs\n",
    "  x = Bidirectional(LSTM(64, return_sequences=True))(x)\n",
    "  x = Bidirectional(LSTM(64))(x)\n",
    "  # Add a classifier\n",
    "  outputs = Dense(len(config.labels), activation=\"softmax\")(x)\n",
    "  model = Model(inputs, outputs)\n",
    "  model.compile(optimizer='adam', loss='categorical_crossentropy', metrics=['accuracy'])\n",
    "  \n",
    "  return model\n",
    "\n",
    "lstm_model = get_lstm_model()\n",
    "lstm_model.summary()"
   ]
  },
  {
   "cell_type": "code",
   "execution_count": 11,
   "id": "33bdc56c",
   "metadata": {
    "execution": {
     "iopub.execute_input": "2024-05-22T07:03:27.433366Z",
     "iopub.status.busy": "2024-05-22T07:03:27.433018Z",
     "iopub.status.idle": "2024-05-22T07:03:27.437565Z",
     "shell.execute_reply": "2024-05-22T07:03:27.436690Z"
    },
    "papermill": {
     "duration": 0.028173,
     "end_time": "2024-05-22T07:03:27.439746",
     "exception": false,
     "start_time": "2024-05-22T07:03:27.411573",
     "status": "completed"
    },
    "tags": []
   },
   "outputs": [],
   "source": [
    "early_stopping = config.early_stopping()\n",
    "model_checkpoint = config.model_checkpoint(filepath=\"lstm_model.keras\")"
   ]
  },
  {
   "cell_type": "code",
   "execution_count": 12,
   "id": "73933385",
   "metadata": {
    "execution": {
     "iopub.execute_input": "2024-05-22T07:03:27.478486Z",
     "iopub.status.busy": "2024-05-22T07:03:27.478181Z",
     "iopub.status.idle": "2024-05-22T07:26:07.226265Z",
     "shell.execute_reply": "2024-05-22T07:26:07.225340Z"
    },
    "papermill": {
     "duration": 1360.984243,
     "end_time": "2024-05-22T07:26:08.442920",
     "exception": false,
     "start_time": "2024-05-22T07:03:27.458677",
     "status": "completed"
    },
    "tags": []
   },
   "outputs": [
    {
     "name": "stdout",
     "output_type": "stream",
     "text": [
      "Epoch 1/10\n",
      "\u001b[1m3603/3603\u001b[0m \u001b[32m━━━━━━━━━━━━━━━━━━━━\u001b[0m\u001b[37m\u001b[0m \u001b[1m165s\u001b[0m 44ms/step - accuracy: 0.9818 - loss: 0.3410 - val_accuracy: 0.9478 - val_loss: 0.3308\n",
      "Epoch 2/10\n",
      "\u001b[1m3603/3603\u001b[0m \u001b[32m━━━━━━━━━━━━━━━━━━━━\u001b[0m\u001b[37m\u001b[0m \u001b[1m159s\u001b[0m 44ms/step - accuracy: 0.9582 - loss: 0.3303 - val_accuracy: 0.9918 - val_loss: 0.3185\n",
      "Epoch 3/10\n",
      "\u001b[1m3603/3603\u001b[0m \u001b[32m━━━━━━━━━━━━━━━━━━━━\u001b[0m\u001b[37m\u001b[0m \u001b[1m159s\u001b[0m 44ms/step - accuracy: 0.9869 - loss: 0.3326 - val_accuracy: 0.9584 - val_loss: 0.3187\n",
      "Epoch 4/10\n",
      "\u001b[1m3603/3603\u001b[0m \u001b[32m━━━━━━━━━━━━━━━━━━━━\u001b[0m\u001b[37m\u001b[0m \u001b[1m158s\u001b[0m 44ms/step - accuracy: 0.9877 - loss: 0.3298 - val_accuracy: 0.9918 - val_loss: 0.3155\n",
      "Epoch 5/10\n",
      "\u001b[1m3603/3603\u001b[0m \u001b[32m━━━━━━━━━━━━━━━━━━━━\u001b[0m\u001b[37m\u001b[0m \u001b[1m159s\u001b[0m 44ms/step - accuracy: 0.9927 - loss: 0.3295 - val_accuracy: 0.9938 - val_loss: 0.3141\n",
      "Epoch 6/10\n",
      "\u001b[1m3603/3603\u001b[0m \u001b[32m━━━━━━━━━━━━━━━━━━━━\u001b[0m\u001b[37m\u001b[0m \u001b[1m201s\u001b[0m 44ms/step - accuracy: 0.9929 - loss: 0.3285 - val_accuracy: 0.9917 - val_loss: 0.3187\n",
      "Epoch 7/10\n",
      "\u001b[1m3603/3603\u001b[0m \u001b[32m━━━━━━━━━━━━━━━━━━━━\u001b[0m\u001b[37m\u001b[0m \u001b[1m158s\u001b[0m 44ms/step - accuracy: 0.9901 - loss: 0.3308 - val_accuracy: 0.9907 - val_loss: 0.3154\n",
      "Epoch 8/10\n",
      "\u001b[1m3603/3603\u001b[0m \u001b[32m━━━━━━━━━━━━━━━━━━━━\u001b[0m\u001b[37m\u001b[0m \u001b[1m202s\u001b[0m 44ms/step - accuracy: 0.9933 - loss: 0.3224 - val_accuracy: 0.9893 - val_loss: 0.3217\n"
     ]
    }
   ],
   "source": [
    "history = lstm_model.fit(\n",
    "    xtrain, ytrain,\n",
    "    validation_data=(xval, yval),\n",
    "    epochs=10,\n",
    "    callbacks=[early_stopping, model_checkpoint],\n",
    "    verbose=1\n",
    ")"
   ]
  },
  {
   "cell_type": "code",
   "execution_count": 13,
   "id": "8b2f276d",
   "metadata": {
    "execution": {
     "iopub.execute_input": "2024-05-22T07:26:10.963923Z",
     "iopub.status.busy": "2024-05-22T07:26:10.963536Z",
     "iopub.status.idle": "2024-05-22T07:26:11.262334Z",
     "shell.execute_reply": "2024-05-22T07:26:11.261575Z"
    },
    "papermill": {
     "duration": 1.619913,
     "end_time": "2024-05-22T07:26:11.264655",
     "exception": false,
     "start_time": "2024-05-22T07:26:09.644742",
     "status": "completed"
    },
    "tags": []
   },
   "outputs": [],
   "source": [
    "history_df = pd.DataFrame(history.history)\n",
    "history_df.to_excel(\"history.xlsx\")"
   ]
  },
  {
   "cell_type": "code",
   "execution_count": null,
   "id": "72f92c9f",
   "metadata": {
    "papermill": {
     "duration": 1.289403,
     "end_time": "2024-05-22T07:26:13.758682",
     "exception": false,
     "start_time": "2024-05-22T07:26:12.469279",
     "status": "completed"
    },
    "tags": []
   },
   "outputs": [],
   "source": []
  }
 ],
 "metadata": {
  "kaggle": {
   "accelerator": "gpu",
   "dataSources": [],
   "isGpuEnabled": true,
   "isInternetEnabled": true,
   "language": "python",
   "sourceType": "notebook"
  },
  "kernelspec": {
   "display_name": "Python 3",
   "language": "python",
   "name": "python3"
  },
  "language_info": {
   "codemirror_mode": {
    "name": "ipython",
    "version": 3
   },
   "file_extension": ".py",
   "mimetype": "text/x-python",
   "name": "python",
   "nbconvert_exporter": "python",
   "pygments_lexer": "ipython3",
   "version": "3.10.13"
  },
  "papermill": {
   "default_parameters": {},
   "duration": 1415.260572,
   "end_time": "2024-05-22T07:26:17.674746",
   "environment_variables": {},
   "exception": null,
   "input_path": "__notebook__.ipynb",
   "output_path": "__notebook__.ipynb",
   "parameters": {},
   "start_time": "2024-05-22T07:02:42.414174",
   "version": "2.5.0"
  }
 },
 "nbformat": 4,
 "nbformat_minor": 5
}
