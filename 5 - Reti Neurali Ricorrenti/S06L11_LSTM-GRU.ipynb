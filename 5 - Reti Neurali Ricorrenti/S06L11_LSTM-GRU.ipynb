{
 "cells": [
  {
   "cell_type": "markdown",
   "id": "611fdb76",
   "metadata": {},
   "source": [
    "# Sentiment Analysis with LSTM-GRU"
   ]
  },
  {
   "cell_type": "code",
   "execution_count": 1,
   "id": "f3ad927b",
   "metadata": {},
   "outputs": [],
   "source": [
    "import warnings\n",
    "warnings.filterwarnings(\"ignore\")\n",
    "import os\n",
    "os.environ['TF_CPP_MIN_LOG_LEVEL'] = '3' \n",
    "import tensorflow as tf\n",
    "tf.compat.v1.logging.set_verbosity(tf.compat.v1.logging.ERROR)"
   ]
  },
  {
   "cell_type": "code",
   "execution_count": 2,
   "id": "fec684d4",
   "metadata": {},
   "outputs": [],
   "source": [
    "import pandas as pd\n",
    "import numpy as np\n",
    "import tensorflow as tf"
   ]
  },
  {
   "cell_type": "markdown",
   "id": "0cd8123f",
   "metadata": {},
   "source": [
    "**IMDB Dataset**"
   ]
  },
  {
   "cell_type": "code",
   "execution_count": 3,
   "id": "767c8cdf",
   "metadata": {},
   "outputs": [],
   "source": [
    "df = pd.read_csv(\"./IMDB Dataset.csv\")"
   ]
  },
  {
   "cell_type": "code",
   "execution_count": 4,
   "id": "e77495d7",
   "metadata": {},
   "outputs": [
    {
     "data": {
      "text/html": [
       "<div>\n",
       "<style scoped>\n",
       "    .dataframe tbody tr th:only-of-type {\n",
       "        vertical-align: middle;\n",
       "    }\n",
       "\n",
       "    .dataframe tbody tr th {\n",
       "        vertical-align: top;\n",
       "    }\n",
       "\n",
       "    .dataframe thead th {\n",
       "        text-align: right;\n",
       "    }\n",
       "</style>\n",
       "<table border=\"1\" class=\"dataframe\">\n",
       "  <thead>\n",
       "    <tr style=\"text-align: right;\">\n",
       "      <th></th>\n",
       "      <th>review</th>\n",
       "      <th>sentiment</th>\n",
       "    </tr>\n",
       "  </thead>\n",
       "  <tbody>\n",
       "    <tr>\n",
       "      <th>0</th>\n",
       "      <td>One of the other reviewers has mentioned that ...</td>\n",
       "      <td>positive</td>\n",
       "    </tr>\n",
       "    <tr>\n",
       "      <th>1</th>\n",
       "      <td>A wonderful little production. &lt;br /&gt;&lt;br /&gt;The...</td>\n",
       "      <td>positive</td>\n",
       "    </tr>\n",
       "    <tr>\n",
       "      <th>2</th>\n",
       "      <td>I thought this was a wonderful way to spend ti...</td>\n",
       "      <td>positive</td>\n",
       "    </tr>\n",
       "    <tr>\n",
       "      <th>3</th>\n",
       "      <td>Basically there's a family where a little boy ...</td>\n",
       "      <td>negative</td>\n",
       "    </tr>\n",
       "    <tr>\n",
       "      <th>4</th>\n",
       "      <td>Petter Mattei's \"Love in the Time of Money\" is...</td>\n",
       "      <td>positive</td>\n",
       "    </tr>\n",
       "  </tbody>\n",
       "</table>\n",
       "</div>"
      ],
      "text/plain": [
       "                                              review sentiment\n",
       "0  One of the other reviewers has mentioned that ...  positive\n",
       "1  A wonderful little production. <br /><br />The...  positive\n",
       "2  I thought this was a wonderful way to spend ti...  positive\n",
       "3  Basically there's a family where a little boy ...  negative\n",
       "4  Petter Mattei's \"Love in the Time of Money\" is...  positive"
      ]
     },
     "execution_count": 4,
     "metadata": {},
     "output_type": "execute_result"
    }
   ],
   "source": [
    "df.head()"
   ]
  },
  {
   "cell_type": "code",
   "execution_count": 5,
   "id": "a420c6bf",
   "metadata": {},
   "outputs": [],
   "source": [
    "df = df.sample(10000,random_state = 1)"
   ]
  },
  {
   "cell_type": "code",
   "execution_count": 6,
   "id": "f36fd9b1",
   "metadata": {},
   "outputs": [
    {
     "data": {
      "text/plain": [
       "negative    5044\n",
       "positive    4956\n",
       "Name: sentiment, dtype: int64"
      ]
     },
     "execution_count": 6,
     "metadata": {},
     "output_type": "execute_result"
    }
   ],
   "source": [
    "df.sentiment.value_counts()"
   ]
  },
  {
   "cell_type": "markdown",
   "id": "1db7733b",
   "metadata": {},
   "source": [
    "**Preprocessing and Text to Sequence**"
   ]
  },
  {
   "cell_type": "code",
   "execution_count": 7,
   "id": "7394ff11",
   "metadata": {},
   "outputs": [],
   "source": [
    "from keras_preprocessing.text import Tokenizer\n",
    "num_words = 10000\n",
    "tokenizer = Tokenizer(num_words=10000,oov_token=\"<OOV>\")\n",
    "\n"
   ]
  },
  {
   "cell_type": "code",
   "execution_count": 8,
   "id": "cbf25ee9",
   "metadata": {},
   "outputs": [],
   "source": [
    "X = df.review.values\n",
    "y = df.sentiment.values"
   ]
  },
  {
   "cell_type": "code",
   "execution_count": 9,
   "id": "31bf8d02",
   "metadata": {},
   "outputs": [],
   "source": [
    "from sklearn.preprocessing import LabelEncoder\n",
    "le = LabelEncoder()\n",
    "y = le.fit_transform(y)"
   ]
  },
  {
   "cell_type": "code",
   "execution_count": 10,
   "id": "8e3c5165",
   "metadata": {},
   "outputs": [],
   "source": [
    "from sklearn.model_selection import train_test_split\n",
    "X_train,X_test, y_train, y_test = train_test_split(X,y, test_size=.2, random_state=1)"
   ]
  },
  {
   "cell_type": "code",
   "execution_count": 11,
   "id": "031b19b2",
   "metadata": {},
   "outputs": [],
   "source": [
    "tokenizer.fit_on_texts(X_train)"
   ]
  },
  {
   "cell_type": "code",
   "execution_count": 12,
   "id": "ffce1358",
   "metadata": {},
   "outputs": [],
   "source": [
    "train_sequences= tokenizer.texts_to_sequences(X_train)\n",
    "test_sequences= tokenizer.texts_to_sequences(X_test)"
   ]
  },
  {
   "cell_type": "code",
   "execution_count": 13,
   "id": "6710e9fa",
   "metadata": {},
   "outputs": [],
   "source": [
    "vocabulary_size = len(tokenizer.word_index)+1"
   ]
  },
  {
   "cell_type": "code",
   "execution_count": 14,
   "id": "f026fbe3",
   "metadata": {},
   "outputs": [
    {
     "data": {
      "text/plain": [
       "1853"
      ]
     },
     "execution_count": 14,
     "metadata": {},
     "output_type": "execute_result"
    }
   ],
   "source": [
    "maxlen = len(max(train_sequences,key=len))\n",
    "maxlen"
   ]
  },
  {
   "cell_type": "code",
   "execution_count": 15,
   "id": "a9dd5d6d",
   "metadata": {},
   "outputs": [],
   "source": [
    "from keras_preprocessing.sequence import pad_sequences\n",
    "padded_train_sequences = pad_sequences(train_sequences,maxlen=maxlen)\n",
    "padded_test_sequences = pad_sequences(test_sequences,maxlen=maxlen)"
   ]
  },
  {
   "cell_type": "markdown",
   "id": "4ca1cb86",
   "metadata": {},
   "source": [
    "**LSTM Model**"
   ]
  },
  {
   "cell_type": "code",
   "execution_count": 22,
   "id": "f065b146",
   "metadata": {},
   "outputs": [
    {
     "name": "stdout",
     "output_type": "stream",
     "text": [
      "Model: \"sequential_2\"\n",
      "_________________________________________________________________\n",
      " Layer (type)                Output Shape              Param #   \n",
      "=================================================================\n",
      " embedding_2 (Embedding)     (None, 1853, 128)         6820992   \n",
      "                                                                 \n",
      " lstm_2 (LSTM)               (None, 64)                49408     \n",
      "                                                                 \n",
      " dense_2 (Dense)             (None, 1)                 65        \n",
      "                                                                 \n",
      "=================================================================\n",
      "Total params: 6,870,465\n",
      "Trainable params: 6,870,465\n",
      "Non-trainable params: 0\n",
      "_________________________________________________________________\n"
     ]
    }
   ],
   "source": [
    "from keras.models import Sequential\n",
    "from keras.layers import Embedding, LSTM, Dense\n",
    "\n",
    "model_LSTM = Sequential()\n",
    "model_LSTM.add(Embedding(vocabulary_size, 128, input_length=maxlen))\n",
    "model_LSTM.add(LSTM(64,activation='tanh'))\n",
    "model_LSTM.add(Dense(1,activation='sigmoid'))\n",
    "model_LSTM.summary()"
   ]
  },
  {
   "cell_type": "code",
   "execution_count": 24,
   "id": "e0628f94",
   "metadata": {},
   "outputs": [],
   "source": [
    "model_LSTM.compile(optimizer='rmsprop',loss='binary_crossentropy', metrics = 'accuracy')"
   ]
  },
  {
   "cell_type": "code",
   "execution_count": 25,
   "id": "61421851",
   "metadata": {},
   "outputs": [
    {
     "name": "stdout",
     "output_type": "stream",
     "text": [
      "Epoch 1/5\n",
      "25/25 [==============================] - 543s 22s/step - loss: 0.6384 - accuracy: 0.6363 - val_loss: 0.8398 - val_accuracy: 0.5300\n",
      "Epoch 2/5\n",
      "25/25 [==============================] - 728s 29s/step - loss: 0.4565 - accuracy: 0.8152 - val_loss: 0.4267 - val_accuracy: 0.8263\n",
      "Epoch 3/5\n",
      "25/25 [==============================] - 1016s 41s/step - loss: 0.3240 - accuracy: 0.8744 - val_loss: 0.3674 - val_accuracy: 0.8444\n",
      "Epoch 4/5\n",
      "25/25 [==============================] - 1202s 48s/step - loss: 0.2637 - accuracy: 0.9017 - val_loss: 0.3297 - val_accuracy: 0.8575\n",
      "Epoch 5/5\n",
      "25/25 [==============================] - 1240s 50s/step - loss: 0.1972 - accuracy: 0.9308 - val_loss: 0.3611 - val_accuracy: 0.8444\n"
     ]
    },
    {
     "data": {
      "text/plain": [
       "<keras.callbacks.History at 0x1f2af295b20>"
      ]
     },
     "execution_count": 25,
     "metadata": {},
     "output_type": "execute_result"
    }
   ],
   "source": [
    "model_LSTM.fit(padded_train_sequences,y_train, validation_split=.2, epochs= 5, batch_size=256)"
   ]
  },
  {
   "cell_type": "code",
   "execution_count": 27,
   "id": "3dffcd5c",
   "metadata": {},
   "outputs": [
    {
     "name": "stdout",
     "output_type": "stream",
     "text": [
      "63/63 [==============================] - 33s 529ms/step - loss: 0.3699 - accuracy: 0.8405\n"
     ]
    },
    {
     "data": {
      "text/plain": [
       "[0.3699425458908081, 0.840499997138977]"
      ]
     },
     "execution_count": 27,
     "metadata": {},
     "output_type": "execute_result"
    }
   ],
   "source": [
    "model_LSTM.evaluate(padded_test_sequences, y_test)"
   ]
  },
  {
   "cell_type": "markdown",
   "id": "c68fbc61",
   "metadata": {},
   "source": [
    "**GRU Model**"
   ]
  },
  {
   "cell_type": "code",
   "execution_count": 28,
   "id": "3f72c6a3",
   "metadata": {},
   "outputs": [
    {
     "name": "stdout",
     "output_type": "stream",
     "text": [
      "Model: \"sequential_3\"\n",
      "_________________________________________________________________\n",
      " Layer (type)                Output Shape              Param #   \n",
      "=================================================================\n",
      " embedding_3 (Embedding)     (None, 1853, 128)         6820992   \n",
      "                                                                 \n",
      " gru (GRU)                   (None, 64)                37248     \n",
      "                                                                 \n",
      " dense_3 (Dense)             (None, 1)                 65        \n",
      "                                                                 \n",
      "=================================================================\n",
      "Total params: 6,858,305\n",
      "Trainable params: 6,858,305\n",
      "Non-trainable params: 0\n",
      "_________________________________________________________________\n"
     ]
    }
   ],
   "source": [
    "from keras.models import Sequential\n",
    "from keras.layers import Embedding, GRU, Dense\n",
    "\n",
    "model_GRU = Sequential()\n",
    "model_GRU.add(Embedding(vocabulary_size, 128, input_length=maxlen))\n",
    "model_GRU.add(GRU(64,activation='tanh'))\n",
    "model_GRU.add(Dense(1,activation='sigmoid'))\n",
    "model_GRU.summary()"
   ]
  },
  {
   "cell_type": "code",
   "execution_count": 29,
   "id": "34a11360",
   "metadata": {},
   "outputs": [],
   "source": [
    "model_GRU.compile(optimizer = 'rmsprop', loss = 'binary_crossentropy', metrics = 'accuracy')"
   ]
  },
  {
   "cell_type": "code",
   "execution_count": 30,
   "id": "418412d2",
   "metadata": {},
   "outputs": [
    {
     "name": "stdout",
     "output_type": "stream",
     "text": [
      "Epoch 1/5\n",
      "25/25 [==============================] - 1153s 46s/step - loss: 0.6798 - accuracy: 0.6161 - val_loss: 0.5907 - val_accuracy: 0.7119\n",
      "Epoch 2/5\n",
      "25/25 [==============================] - 1212s 49s/step - loss: 0.4723 - accuracy: 0.8053 - val_loss: 0.5350 - val_accuracy: 0.7262\n",
      "Epoch 3/5\n",
      "25/25 [==============================] - 1142s 45s/step - loss: 0.3335 - accuracy: 0.8636 - val_loss: 0.4039 - val_accuracy: 0.8206\n",
      "Epoch 4/5\n",
      "25/25 [==============================] - 1016s 41s/step - loss: 0.2411 - accuracy: 0.9042 - val_loss: 0.4086 - val_accuracy: 0.8169\n",
      "Epoch 5/5\n",
      "25/25 [==============================] - 1014s 41s/step - loss: 0.1950 - accuracy: 0.9244 - val_loss: 0.5434 - val_accuracy: 0.7650\n"
     ]
    },
    {
     "data": {
      "text/plain": [
       "<keras.callbacks.History at 0x1f2af1e40d0>"
      ]
     },
     "execution_count": 30,
     "metadata": {},
     "output_type": "execute_result"
    }
   ],
   "source": [
    "model_GRU.fit(padded_train_sequences, y_train, validation_split = .2, epochs = 5, batch_size=256)"
   ]
  },
  {
   "cell_type": "code",
   "execution_count": 32,
   "id": "b5f55e7f",
   "metadata": {},
   "outputs": [
    {
     "name": "stdout",
     "output_type": "stream",
     "text": [
      "63/63 [==============================] - 22s 354ms/step - loss: 0.4900 - accuracy: 0.7880\n"
     ]
    },
    {
     "data": {
      "text/plain": [
       "[0.49001914262771606, 0.7879999876022339]"
      ]
     },
     "execution_count": 32,
     "metadata": {},
     "output_type": "execute_result"
    }
   ],
   "source": [
    "model_GRU.evaluate(padded_test_sequences, y_test)"
   ]
  },
  {
   "cell_type": "markdown",
   "id": "2e877313",
   "metadata": {},
   "source": [
    "\n",
    "**Bidirectional LSTM Model**\n",
    "\n"
   ]
  },
  {
   "cell_type": "code",
   "execution_count": 33,
   "id": "922b8c8c",
   "metadata": {},
   "outputs": [
    {
     "name": "stdout",
     "output_type": "stream",
     "text": [
      "Model: \"sequential_4\"\n",
      "_________________________________________________________________\n",
      " Layer (type)                Output Shape              Param #   \n",
      "=================================================================\n",
      " embedding_4 (Embedding)     (None, 1853, 128)         6820992   \n",
      "                                                                 \n",
      " bidirectional (Bidirectiona  (None, 128)              98816     \n",
      " l)                                                              \n",
      "                                                                 \n",
      " dense_4 (Dense)             (None, 1)                 129       \n",
      "                                                                 \n",
      "=================================================================\n",
      "Total params: 6,919,937\n",
      "Trainable params: 6,919,937\n",
      "Non-trainable params: 0\n",
      "_________________________________________________________________\n"
     ]
    }
   ],
   "source": [
    "from keras.models import Sequential\n",
    "from keras.layers import Embedding, Bidirectional,  LSTM, Dense\n",
    "\n",
    "model_BiLSTM = Sequential()\n",
    "model_BiLSTM.add(Embedding(vocabulary_size, 128, input_length=maxlen))\n",
    "model_BiLSTM.add(Bidirectional(LSTM(64,activation='tanh')))\n",
    "model_BiLSTM.add(Dense(1,activation='sigmoid'))\n",
    "model_BiLSTM.summary()"
   ]
  },
  {
   "cell_type": "code",
   "execution_count": null,
   "id": "96348679",
   "metadata": {},
   "outputs": [],
   "source": []
  }
 ],
 "metadata": {
  "kernelspec": {
   "display_name": "Python 3 (ipykernel)",
   "language": "python",
   "name": "python3"
  },
  "language_info": {
   "codemirror_mode": {
    "name": "ipython",
    "version": 3
   },
   "file_extension": ".py",
   "mimetype": "text/x-python",
   "name": "python",
   "nbconvert_exporter": "python",
   "pygments_lexer": "ipython3",
   "version": "3.9.1"
  }
 },
 "nbformat": 4,
 "nbformat_minor": 5
}
