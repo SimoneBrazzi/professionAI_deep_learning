{
 "cells": [
  {
   "cell_type": "markdown",
   "id": "8bc33373",
   "metadata": {},
   "source": [
    "## Esercitazione: Machine Translation"
   ]
  },
  {
   "cell_type": "markdown",
   "id": "033f6a32",
   "metadata": {},
   "source": [
    "Costruire un modello sequenziale per la traduzione (dall'inglese all'italiano). Il modello prende una sequenza in inglese e torna in output una sequenza in italiano:\n",
    "1. Costruire le sequenze ed effettuare il padding per entrambe le lingue (NB: le sequenze vanno paddate alla maxlen di entrambe le lingue)\n",
    "2. Dividi il dataset tra train e test con il 20% di test_size\n",
    "2. Definire un modello che abbia uno strato di embedding e almeno due strati ricorrenti e in uscita uno strato Dense con il numero di neuroni pari al vocabolario per la traduzione (italiano)\n",
    "3. NB: Per migliorare le performance sullo strato Dense conviene applicare un layer TimeDistributed in questo modo\n",
    "        TimeDistributed(Dense())\n",
    "3. Eseguire l'addestramento per almeno 100 epoche"
   ]
  },
  {
   "cell_type": "code",
   "execution_count": 2,
   "id": "1295ea20",
   "metadata": {},
   "outputs": [],
   "source": [
    "import pandas as pd\n",
    "import numpy as np\n",
    "df = pd.read_csv(\"machine_translation.csv\")"
   ]
  },
  {
   "cell_type": "code",
   "execution_count": 3,
   "id": "b3c9b9cc",
   "metadata": {},
   "outputs": [
    {
     "data": {
      "text/html": [
       "<div>\n",
       "<style scoped>\n",
       "    .dataframe tbody tr th:only-of-type {\n",
       "        vertical-align: middle;\n",
       "    }\n",
       "\n",
       "    .dataframe tbody tr th {\n",
       "        vertical-align: top;\n",
       "    }\n",
       "\n",
       "    .dataframe thead th {\n",
       "        text-align: right;\n",
       "    }\n",
       "</style>\n",
       "<table border=\"1\" class=\"dataframe\">\n",
       "  <thead>\n",
       "    <tr style=\"text-align: right;\">\n",
       "      <th></th>\n",
       "      <th>italian</th>\n",
       "      <th>english</th>\n",
       "    </tr>\n",
       "  </thead>\n",
       "  <tbody>\n",
       "    <tr>\n",
       "      <th>0</th>\n",
       "      <td>tom portò i suoi.</td>\n",
       "      <td>tom brought his.</td>\n",
       "    </tr>\n",
       "    <tr>\n",
       "      <th>1</th>\n",
       "      <td>a te non piace il pesce?</td>\n",
       "      <td>don't you like fish?</td>\n",
       "    </tr>\n",
       "    <tr>\n",
       "      <th>2</th>\n",
       "      <td>non abbiamo mai riso.</td>\n",
       "      <td>we never laughed.</td>\n",
       "    </tr>\n",
       "    <tr>\n",
       "      <th>3</th>\n",
       "      <td>aspetti un momento.</td>\n",
       "      <td>hang on a moment.</td>\n",
       "    </tr>\n",
       "    <tr>\n",
       "      <th>4</th>\n",
       "      <td>quando è finito?</td>\n",
       "      <td>when did that end?</td>\n",
       "    </tr>\n",
       "    <tr>\n",
       "      <th>...</th>\n",
       "      <td>...</td>\n",
       "      <td>...</td>\n",
       "    </tr>\n",
       "    <tr>\n",
       "      <th>49995</th>\n",
       "      <td>non la riesco a salvare.</td>\n",
       "      <td>i can't save you.</td>\n",
       "    </tr>\n",
       "    <tr>\n",
       "      <th>49996</th>\n",
       "      <td>lui è scomparso.</td>\n",
       "      <td>he disappeared.</td>\n",
       "    </tr>\n",
       "    <tr>\n",
       "      <th>49997</th>\n",
       "      <td>ha più di trent'anni.</td>\n",
       "      <td>he's over thirty.</td>\n",
       "    </tr>\n",
       "    <tr>\n",
       "      <th>49998</th>\n",
       "      <td>il cane sta ansimando.</td>\n",
       "      <td>the dog is panting.</td>\n",
       "    </tr>\n",
       "    <tr>\n",
       "      <th>49999</th>\n",
       "      <td>spero di non essere il prossimo.</td>\n",
       "      <td>i hope i'm not next.</td>\n",
       "    </tr>\n",
       "  </tbody>\n",
       "</table>\n",
       "<p>50000 rows × 2 columns</p>\n",
       "</div>"
      ],
      "text/plain": [
       "                                italian               english\n",
       "0                     tom portò i suoi.      tom brought his.\n",
       "1              a te non piace il pesce?  don't you like fish?\n",
       "2                 non abbiamo mai riso.     we never laughed.\n",
       "3                   aspetti un momento.     hang on a moment.\n",
       "4                      quando è finito?    when did that end?\n",
       "...                                 ...                   ...\n",
       "49995          non la riesco a salvare.     i can't save you.\n",
       "49996                  lui è scomparso.       he disappeared.\n",
       "49997             ha più di trent'anni.     he's over thirty.\n",
       "49998            il cane sta ansimando.   the dog is panting.\n",
       "49999  spero di non essere il prossimo.  i hope i'm not next.\n",
       "\n",
       "[50000 rows x 2 columns]"
      ]
     },
     "execution_count": 3,
     "metadata": {},
     "output_type": "execute_result"
    }
   ],
   "source": [
    "df"
   ]
  },
  {
   "cell_type": "code",
   "execution_count": null,
   "id": "e9a2a304",
   "metadata": {},
   "outputs": [],
   "source": []
  }
 ],
 "metadata": {
  "kernelspec": {
   "display_name": "Python 3 (ipykernel)",
   "language": "python",
   "name": "python3"
  },
  "language_info": {
   "codemirror_mode": {
    "name": "ipython",
    "version": 3
   },
   "file_extension": ".py",
   "mimetype": "text/x-python",
   "name": "python",
   "nbconvert_exporter": "python",
   "pygments_lexer": "ipython3",
   "version": "3.9.1"
  }
 },
 "nbformat": 4,
 "nbformat_minor": 5
}
