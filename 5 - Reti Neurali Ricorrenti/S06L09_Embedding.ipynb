{
 "cells": [
  {
   "cell_type": "markdown",
   "id": "406fc760",
   "metadata": {},
   "source": [
    "# Embedding\n"
   ]
  },
  {
   "cell_type": "code",
   "execution_count": 1,
   "id": "946e53f7",
   "metadata": {},
   "outputs": [],
   "source": [
    "import warnings\n",
    "warnings.filterwarnings(\"ignore\")\n",
    "import os\n",
    "os.environ['TF_CPP_MIN_LOG_LEVEL'] = '3' \n",
    "import tensorflow as tf\n",
    "tf.compat.v1.logging.set_verbosity(tf.compat.v1.logging.ERROR)"
   ]
  },
  {
   "cell_type": "code",
   "execution_count": 2,
   "id": "004ef055",
   "metadata": {},
   "outputs": [],
   "source": [
    "import numpy as np\n",
    "from keras.models import Sequential\n",
    "from keras.layers import Dense ,Embedding\n",
    "from keras_preprocessing.text import Tokenizer\n",
    "from keras_preprocessing.sequence import pad_sequences"
   ]
  },
  {
   "cell_type": "code",
   "execution_count": 3,
   "id": "4b5b72d6",
   "metadata": {},
   "outputs": [],
   "source": [
    "corpus = ['ristorante pessimo',\n",
    "         'piatto di pasta scondito',\n",
    "         'pizza squisita, ci tornerò',\n",
    "         'la pasta scotta e scondita',\n",
    "         'miglior pizzeria in zona',\n",
    "         'consigliato, pizza buona',\n",
    "         'bravi. pizza molto buona.',\n",
    "         'pasta cattiva. Sconsigliato']\n",
    "\n",
    "y =['negativa','negativa','positiva','negativa','positiva','positiva','positiva','negativa']"
   ]
  },
  {
   "cell_type": "code",
   "execution_count": 4,
   "id": "b5f0cd04",
   "metadata": {},
   "outputs": [
    {
     "name": "stdout",
     "output_type": "stream",
     "text": [
      "vocabulary size: 25\n"
     ]
    }
   ],
   "source": [
    "tokenizer = Tokenizer(num_words= 25)\n",
    "tokenizer.fit_on_texts(corpus)\n",
    "vocabulary_size = len(tokenizer.word_index)+1\n",
    "print('vocabulary size: {}'.format(vocabulary_size))"
   ]
  },
  {
   "cell_type": "code",
   "execution_count": 5,
   "id": "be897c3e",
   "metadata": {},
   "outputs": [],
   "source": [
    "sequences = tokenizer.texts_to_sequences(corpus)\n",
    "max_len = len(max(sequences, key=len))\n",
    "padded_sequences = pad_sequences(sequences, maxlen=max_len)"
   ]
  },
  {
   "cell_type": "code",
   "execution_count": 6,
   "id": "986505f1",
   "metadata": {},
   "outputs": [
    {
     "name": "stdout",
     "output_type": "stream",
     "text": [
      "[[ 0  0  0  4  5]\n",
      " [ 0  6  7  1  8]\n",
      " [ 0  2  9 10 11]\n",
      " [12  1 13 14 15]\n",
      " [ 0 16 17 18 19]\n",
      " [ 0  0 20  2  3]\n",
      " [ 0 21  2 22  3]\n",
      " [ 0  0  1 23 24]]\n"
     ]
    }
   ],
   "source": [
    "print(padded_sequences)"
   ]
  },
  {
   "cell_type": "code",
   "execution_count": 7,
   "id": "6478a8c6",
   "metadata": {},
   "outputs": [
    {
     "name": "stdout",
     "output_type": "stream",
     "text": [
      "Model: \"sequential\"\n",
      "_________________________________________________________________\n",
      " Layer (type)                Output Shape              Param #   \n",
      "=================================================================\n",
      " embedding (Embedding)       (None, 5, 2)              50        \n",
      "                                                                 \n",
      "=================================================================\n",
      "Total params: 50\n",
      "Trainable params: 50\n",
      "Non-trainable params: 0\n",
      "_________________________________________________________________\n"
     ]
    }
   ],
   "source": [
    "#Simple NN for embedding\n",
    "model = Sequential()\n",
    "model.add(Embedding(vocabulary_size, output_dim = 2, input_length = max_len))\n",
    "model.summary()\n",
    "\n"
   ]
  },
  {
   "cell_type": "code",
   "execution_count": 8,
   "id": "6c8d7e55",
   "metadata": {},
   "outputs": [],
   "source": [
    "model.compile(optimizer='adam',loss='mse',metrics=['acc']) "
   ]
  },
  {
   "cell_type": "code",
   "execution_count": 9,
   "id": "07ad2fd0",
   "metadata": {},
   "outputs": [
    {
     "name": "stdout",
     "output_type": "stream",
     "text": [
      "1/1 [==============================] - 0s 60ms/step\n"
     ]
    }
   ],
   "source": [
    "embeddings = model.predict(padded_sequences)"
   ]
  },
  {
   "cell_type": "code",
   "execution_count": 10,
   "id": "c7fddd9a",
   "metadata": {},
   "outputs": [
    {
     "data": {
      "text/plain": [
       "(8, 5, 2)"
      ]
     },
     "execution_count": 10,
     "metadata": {},
     "output_type": "execute_result"
    }
   ],
   "source": [
    "embeddings.shape\n",
    "#8 documents, 5 words for document, 2 element representation for each word"
   ]
  },
  {
   "cell_type": "markdown",
   "id": "2cc77b88",
   "metadata": {},
   "source": [
    "**Embedding for Document**"
   ]
  },
  {
   "cell_type": "code",
   "execution_count": 11,
   "id": "a85b15b4",
   "metadata": {},
   "outputs": [
    {
     "data": {
      "image/png": "[encoded data removed]",
      "text/plain": [
       "<Figure size 640x480 with 1 Axes>"
      ]
     },
     "metadata": {},
     "output_type": "display_data"
    }
   ],
   "source": [
    "import matplotlib.pyplot as plt\n",
    "#prendiamo il quarto documento\n",
    "fig, ax = plt.subplots()\n",
    "for i,word in enumerate(embeddings[2]):\n",
    "    ax.scatter(word[0],word[1])\n",
    "    ax.annotate(str(i), (word[0],word[1]))"
   ]
  },
  {
   "cell_type": "markdown",
   "id": "d89d16e9",
   "metadata": {},
   "source": [
    "**Embedding for each word**"
   ]
  },
  {
   "cell_type": "code",
   "execution_count": 12,
   "id": "63efeff4",
   "metadata": {},
   "outputs": [],
   "source": [
    "from sklearn.preprocessing import LabelEncoder\n",
    "le = LabelEncoder()\n",
    "y = le.fit_transform(y)\n",
    "y = np.asarray(y).astype('float32').reshape((-1,1))"
   ]
  },
  {
   "cell_type": "code",
   "execution_count": 13,
   "id": "002a01c4",
   "metadata": {},
   "outputs": [
    {
     "name": "stdout",
     "output_type": "stream",
     "text": [
      "Model: \"sequential_1\"\n",
      "_________________________________________________________________\n",
      " Layer (type)                Output Shape              Param #   \n",
      "=================================================================\n",
      " embedding_1 (Embedding)     (None, 5, 2)              50        \n",
      "                                                                 \n",
      " dense (Dense)               (None, 5, 1)              3         \n",
      "                                                                 \n",
      "=================================================================\n",
      "Total params: 53\n",
      "Trainable params: 53\n",
      "Non-trainable params: 0\n",
      "_________________________________________________________________\n"
     ]
    }
   ],
   "source": [
    "model = Sequential()\n",
    "model.add(Embedding(input_dim=vocabulary_size,output_dim=2,input_length=max_len))\n",
    "model.add(Dense(1, activation='sigmoid'))\n",
    "model.summary()"
   ]
  },
  {
   "cell_type": "code",
   "execution_count": 14,
   "id": "4aed738b",
   "metadata": {},
   "outputs": [
    {
     "data": {
      "text/plain": [
       "<keras.callbacks.History at 0x158016ed0>"
      ]
     },
     "execution_count": 14,
     "metadata": {},
     "output_type": "execute_result"
    }
   ],
   "source": [
    "model.compile(optimizer='adam',loss='binary_crossentropy',metrics=['accuracy']) \n",
    "model.fit(padded_sequences, y,epochs=100,verbose = 0)"
   ]
  },
  {
   "cell_type": "code",
   "execution_count": 15,
   "id": "321536d3",
   "metadata": {},
   "outputs": [
    {
     "data": {
      "text/plain": [
       "(25, 2)"
      ]
     },
     "execution_count": 15,
     "metadata": {},
     "output_type": "execute_result"
    }
   ],
   "source": [
    "#weights of layer 0 are embeddings\n",
    "embeddings = model.layers[0].get_weights()[0]\n",
    "embeddings.shape"
   ]
  },
  {
   "cell_type": "code",
   "execution_count": 19,
   "id": "36bf6082",
   "metadata": {},
   "outputs": [
    {
     "data": {
      "image/png": "[encoded data removed]",
      "text/plain": [
       "<Figure size 640x480 with 1 Axes>"
      ]
     },
     "metadata": {},
     "output_type": "display_data"
    }
   ],
   "source": [
    "vocab = list(tokenizer.word_index.keys())\n",
    "fig, ax = plt.subplots()\n",
    "for i in range(1,len(embeddings)):\n",
    "    e_x,e_y = embeddings[i]\n",
    "    ax.scatter(e_x,e_y)\n",
    "    ax.annotate(vocab[i-1], (e_x,e_y))"
   ]
  },
  {
   "cell_type": "code",
   "execution_count": null,
   "id": "d36a63fc",
   "metadata": {},
   "outputs": [],
   "source": []
  },
  {
   "cell_type": "code",
   "execution_count": null,
   "id": "0f7a4781",
   "metadata": {},
   "outputs": [],
   "source": []
  },
  {
   "cell_type": "code",
   "execution_count": null,
   "id": "9d102e93",
   "metadata": {},
   "outputs": [],
   "source": []
  }
 ],
 "metadata": {
  "kernelspec": {
   "display_name": "Python 3 (ipykernel)",
   "language": "python",
   "name": "python3"
  },
  "language_info": {
   "codemirror_mode": {
    "name": "ipython",
    "version": 3
   },
   "file_extension": ".py",
   "mimetype": "text/x-python",
   "name": "python",
   "nbconvert_exporter": "python",
   "pygments_lexer": "ipython3",
   "version": "3.9.1"
  }
 },
 "nbformat": 4,
 "nbformat_minor": 5
}
