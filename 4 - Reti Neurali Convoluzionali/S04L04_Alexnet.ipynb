{
 "cells": [
  {
   "cell_type": "markdown",
   "id": "db846791",
   "metadata": {},
   "source": [
    "[PAPER SU ALEXNET](https://proceedings.neurips.cc/paper/2012/file/c399862d3b9d6b76c8436e924a68c45b-Paper.pdf)"
   ]
  },
  {
   "cell_type": "raw",
   "id": "62389066",
   "metadata": {},
   "source": [
    "\"The net contains eight layers with weights; the first five are convolutional and the remaining three are fullyconnected. The output of the last fully-connected layer is fed to a 1000-way softmax which produces a distribution over the 1000 class labels.\""
   ]
  },
  {
   "cell_type": "raw",
   "id": "1f42e17f",
   "metadata": {},
   "source": [
    "La figura originale del paper è questa (tagliata.. e per due GPUs)"
   ]
  },
  {
   "cell_type": "markdown",
   "id": "2870a5f2",
   "metadata": {},
   "source": [
    "![title](https://miro.medium.com/max/1400/1*qyc21qM0oxWEuRaj-XJKcw.png)   "
   ]
  },
  {
   "cell_type": "markdown",
   "id": "56ffb3e2",
   "metadata": {},
   "source": [
    "Noi facciamo una versione analoga single-device (come se le parti delle due gpus fossero stacked)"
   ]
  },
  {
   "cell_type": "markdown",
   "id": "2c51c69d",
   "metadata": {},
   "source": [
    "![title](https://neurohive.io/wp-content/uploads/2018/10/AlexNet-1.png)"
   ]
  },
  {
   "cell_type": "raw",
   "id": "e78ffebe",
   "metadata": {},
   "source": [
    "Tenendo questa figura come riferimento, ci costruiamo una AlexNet e ragioniamo sul dimensionamento"
   ]
  },
  {
   "cell_type": "code",
   "execution_count": 2,
   "id": "4b2b8277",
   "metadata": {},
   "outputs": [],
   "source": [
    "#say no to warnings!\n",
    "import warnings\n",
    "warnings.filterwarnings(\"ignore\")\n",
    "import os\n",
    "os.environ['TF_CPP_MIN_LOG_LEVEL'] = '3' \n",
    "import tensorflow as tf\n",
    "tf.compat.v1.logging.set_verbosity(tf.compat.v1.logging.ERROR)"
   ]
  },
  {
   "cell_type": "code",
   "execution_count": 3,
   "id": "151d9506",
   "metadata": {},
   "outputs": [],
   "source": [
    "import tensorflow as tf\n",
    "import numpy as np\n",
    "from tensorflow.keras.backend import clear_session\n",
    "import matplotlib.pyplot as plt\n",
    "from tensorflow.keras import Sequential\n",
    "from tensorflow.keras.layers import InputLayer,Dense,\\\n",
    "    Conv2D,MaxPool2D,BatchNormalization,Flatten,Dropout"
   ]
  },
  {
   "cell_type": "code",
   "execution_count": 10,
   "id": "77a59e6c",
   "metadata": {},
   "outputs": [],
   "source": [
    "clear_session()\n",
    "alexnet_1 = Sequential([\n",
    "    InputLayer(input_shape=(227,227,3)),\n",
    "    Conv2D(96,kernel_size=(11,11),strides=(4,4),activation='relu'),\n",
    "    MaxPool2D(pool_size=(3,3),strides=(2,2)),\n",
    "    Conv2D(256,kernel_size=(5,5),strides=(1,1),\n",
    "           padding='same',activation='relu'),\n",
    "    MaxPool2D(pool_size=(3,3),strides=(2,2)),\n",
    "    Conv2D(384,kernel_size=(3,3),strides=(1,1),\n",
    "           padding='same',activation='relu'),\n",
    "    Conv2D(384,kernel_size=(3,3),strides=(1,1),\n",
    "           padding='same',activation='relu'),\n",
    "    Conv2D(256,kernel_size=(3,3),strides=(1,1),\n",
    "           padding='same',activation='relu'),\n",
    "    MaxPool2D(pool_size=(3,3),strides=(2,2)),\n",
    "    Flatten(),\n",
    "    Dense(4096,activation='relu'),\n",
    "    Dense(4096,activation='relu'),\n",
    "    Dense(1000,activation='softmax')\n",
    "])"
   ]
  },
  {
   "cell_type": "code",
   "execution_count": 11,
   "id": "e03f8890",
   "metadata": {},
   "outputs": [
    {
     "name": "stdout",
     "output_type": "stream",
     "text": [
      "Model: \"sequential\"\n",
      "_________________________________________________________________\n",
      "Layer (type)                 Output Shape              Param #   \n",
      "=================================================================\n",
      "conv2d (Conv2D)              (None, 55, 55, 96)        34944     \n",
      "_________________________________________________________________\n",
      "max_pooling2d (MaxPooling2D) (None, 27, 27, 96)        0         \n",
      "_________________________________________________________________\n",
      "conv2d_1 (Conv2D)            (None, 27, 27, 256)       614656    \n",
      "_________________________________________________________________\n",
      "max_pooling2d_1 (MaxPooling2 (None, 13, 13, 256)       0         \n",
      "_________________________________________________________________\n",
      "conv2d_2 (Conv2D)            (None, 13, 13, 384)       885120    \n",
      "_________________________________________________________________\n",
      "conv2d_3 (Conv2D)            (None, 13, 13, 384)       1327488   \n",
      "_________________________________________________________________\n",
      "conv2d_4 (Conv2D)            (None, 13, 13, 256)       884992    \n",
      "_________________________________________________________________\n",
      "max_pooling2d_2 (MaxPooling2 (None, 6, 6, 256)         0         \n",
      "_________________________________________________________________\n",
      "flatten (Flatten)            (None, 9216)              0         \n",
      "_________________________________________________________________\n",
      "dense (Dense)                (None, 4096)              37752832  \n",
      "_________________________________________________________________\n",
      "dense_1 (Dense)              (None, 4096)              16781312  \n",
      "_________________________________________________________________\n",
      "dense_2 (Dense)              (None, 1000)              4097000   \n",
      "=================================================================\n",
      "Total params: 62,378,344\n",
      "Trainable params: 62,378,344\n",
      "Non-trainable params: 0\n",
      "_________________________________________________________________\n"
     ]
    }
   ],
   "source": [
    "alexnet_1.summary()"
   ]
  },
  {
   "cell_type": "code",
   "execution_count": null,
   "id": "57d85097",
   "metadata": {},
   "outputs": [],
   "source": [
    "#RAGIONIAMO SU OGNI OUTPUT SHAPE ET NUM PARAM\n",
    "#floor((n_in + 2p - k)/s)+1"
   ]
  },
  {
   "cell_type": "raw",
   "id": "54f9105b",
   "metadata": {},
   "source": [
    "Our neural network architecture has 60 million parameters."
   ]
  },
  {
   "cell_type": "raw",
   "id": "940398f7",
   "metadata": {},
   "source": [
    "Cosa stiamo ancora ignorando?\n",
    "- inizializzazione pesi\n",
    "- inizializzazione bias\n",
    "- inserimento batch normalization\n",
    "- inserimento dropout"
   ]
  },
  {
   "cell_type": "raw",
   "id": "1c32ee6a",
   "metadata": {},
   "source": [
    "We initialized the weights in each layer from a zero-mean Gaussian distribution with standard deviation 0.01. "
   ]
  },
  {
   "cell_type": "raw",
   "id": "cea6acf7",
   "metadata": {},
   "source": [
    "We initialized the neuron biases in the second, fourth, and fifth convolutional layers, as well as in the fully-connected hidden layers, with the constant 1. [...] \n",
    "We initialized the neuron biases in the remaining layers with the constant 0."
   ]
  },
  {
   "cell_type": "raw",
   "id": "7477b1e0",
   "metadata": {},
   "source": [
    "Response-normalization layers follow the first and second convolutional layers"
   ]
  },
  {
   "cell_type": "raw",
   "id": "bf1cae20",
   "metadata": {},
   "source": [
    "The recently-introduced technique, called “dropout”, consists of setting to zero the output of each hidden neuron with probability 0.5. We use dropout in the first two fully-connected layers."
   ]
  },
  {
   "cell_type": "code",
   "execution_count": 34,
   "id": "8eadc38b",
   "metadata": {},
   "outputs": [],
   "source": [
    "clear_session()\n",
    "w_init = tf.keras.initializers.RandomNormal(stddev=0.01)\n",
    "alexnet_2 = Sequential([\n",
    "    InputLayer(input_shape=(227,227,3)),\n",
    "    Conv2D(96,kernel_size=(11,11),strides=(4,4),\n",
    "           kernel_initializer=w_init,\n",
    "           bias_initializer='zeros',activation='relu'),\n",
    "    BatchNormalization(),\n",
    "    MaxPool2D(pool_size=(3,3),strides=(2,2)),\n",
    "    Conv2D(256,kernel_size=(5,5),strides=(1,1),padding='same',\n",
    "           kernel_initializer=w_init,\n",
    "           bias_initializer='ones',activation='relu'),\n",
    "    BatchNormalization(),\n",
    "    MaxPool2D(pool_size=(3,3),strides=(2,2)),\n",
    "    Conv2D(384,kernel_size=(3,3),strides=(1,1),padding='same',\n",
    "           kernel_initializer=w_init,\n",
    "           bias_initializer='zeros',activation='relu'),\n",
    "    Conv2D(384,kernel_size=(3,3),strides=(1,1),padding='same',\n",
    "           kernel_initializer=w_init,\n",
    "           bias_initializer='ones',activation='relu'),\n",
    "    Conv2D(256,kernel_size=(3,3),strides=(1,1),padding='same',\n",
    "           kernel_initializer=w_init,\n",
    "           bias_initializer='ones',activation='relu'),\n",
    "    MaxPool2D(pool_size=(3,3),strides=(2,2)),\n",
    "    Flatten(),\n",
    "    Dense(4096,kernel_initializer=w_init,\n",
    "          bias_initializer='ones',activation='relu'),\n",
    "    Dropout(.5),\n",
    "    Dense(4096,kernel_initializer=w_init,\n",
    "          bias_initializer='ones',activation='relu'),\n",
    "    Dropout(.5),\n",
    "    Dense(1000,kernel_initializer=w_init,\n",
    "          bias_initializer='zeros',activation='softmax')\n",
    "])"
   ]
  },
  {
   "cell_type": "code",
   "execution_count": 35,
   "id": "15396d3c",
   "metadata": {},
   "outputs": [
    {
     "name": "stdout",
     "output_type": "stream",
     "text": [
      "Model: \"sequential\"\n",
      "_________________________________________________________________\n",
      "Layer (type)                 Output Shape              Param #   \n",
      "=================================================================\n",
      "conv2d (Conv2D)              (None, 55, 55, 96)        34944     \n",
      "_________________________________________________________________\n",
      "batch_normalization (BatchNo (None, 55, 55, 96)        384       \n",
      "_________________________________________________________________\n",
      "max_pooling2d (MaxPooling2D) (None, 27, 27, 96)        0         \n",
      "_________________________________________________________________\n",
      "conv2d_1 (Conv2D)            (None, 27, 27, 256)       614656    \n",
      "_________________________________________________________________\n",
      "batch_normalization_1 (Batch (None, 27, 27, 256)       1024      \n",
      "_________________________________________________________________\n",
      "max_pooling2d_1 (MaxPooling2 (None, 13, 13, 256)       0         \n",
      "_________________________________________________________________\n",
      "conv2d_2 (Conv2D)            (None, 13, 13, 384)       885120    \n",
      "_________________________________________________________________\n",
      "conv2d_3 (Conv2D)            (None, 13, 13, 384)       1327488   \n",
      "_________________________________________________________________\n",
      "conv2d_4 (Conv2D)            (None, 13, 13, 256)       884992    \n",
      "_________________________________________________________________\n",
      "max_pooling2d_2 (MaxPooling2 (None, 6, 6, 256)         0         \n",
      "_________________________________________________________________\n",
      "flatten (Flatten)            (None, 9216)              0         \n",
      "_________________________________________________________________\n",
      "dense (Dense)                (None, 4096)              37752832  \n",
      "_________________________________________________________________\n",
      "dropout (Dropout)            (None, 4096)              0         \n",
      "_________________________________________________________________\n",
      "dense_1 (Dense)              (None, 4096)              16781312  \n",
      "_________________________________________________________________\n",
      "dropout_1 (Dropout)          (None, 4096)              0         \n",
      "_________________________________________________________________\n",
      "dense_2 (Dense)              (None, 1000)              4097000   \n",
      "=================================================================\n",
      "Total params: 62,379,752\n",
      "Trainable params: 62,379,048\n",
      "Non-trainable params: 704\n",
      "_________________________________________________________________\n"
     ]
    }
   ],
   "source": [
    "alexnet_2.summary()"
   ]
  },
  {
   "cell_type": "markdown",
   "id": "da02b256",
   "metadata": {},
   "source": [
    "<font color='red'>\n",
    "Our network maximizes the multinomial logistic regression objective, which is equivalent to maximizing the average <br>across training cases of the log-probability of the correct label under the prediction distribution. <br>  \n",
    "We trained our models using stochastic gradient descent\n",
    "with a batch size of 128 examples, momentum of 0.9, and\n",
    "weight decay of 0.0005. <br>We used an equal learning rate for all layers, which we adjusted manually throughout training.</font>"
   ]
  },
  {
   "cell_type": "code",
   "execution_count": 36,
   "id": "b4f2d145",
   "metadata": {},
   "outputs": [
    {
     "data": {
      "text/plain": [
       "(128, 1000)"
      ]
     },
     "execution_count": 36,
     "metadata": {},
     "output_type": "execute_result"
    }
   ],
   "source": [
    "dummy_input = np.random.rand(128,227,227,3)\n",
    "dummy_output = alexnet_2.predict(dummy_input)\n",
    "dummy_output.shape"
   ]
  },
  {
   "cell_type": "code",
   "execution_count": null,
   "id": "f12e6dd5",
   "metadata": {},
   "outputs": [],
   "source": []
  },
  {
   "cell_type": "code",
   "execution_count": null,
   "id": "cb82fe95",
   "metadata": {},
   "outputs": [],
   "source": []
  },
  {
   "cell_type": "code",
   "execution_count": null,
   "id": "ce6e2103",
   "metadata": {},
   "outputs": [],
   "source": []
  },
  {
   "cell_type": "code",
   "execution_count": null,
   "id": "45990609",
   "metadata": {},
   "outputs": [],
   "source": []
  },
  {
   "cell_type": "code",
   "execution_count": null,
   "id": "a5b55929",
   "metadata": {},
   "outputs": [],
   "source": []
  },
  {
   "cell_type": "code",
   "execution_count": null,
   "id": "73c2494e",
   "metadata": {},
   "outputs": [],
   "source": []
  }
 ],
 "metadata": {
  "kernelspec": {
   "display_name": "tflow",
   "language": "python",
   "name": "tflow"
  },
  "language_info": {
   "codemirror_mode": {
    "name": "ipython",
    "version": 3
   },
   "file_extension": ".py",
   "mimetype": "text/x-python",
   "name": "python",
   "nbconvert_exporter": "python",
   "pygments_lexer": "ipython3",
   "version": "3.7.13"
  }
 },
 "nbformat": 4,
 "nbformat_minor": 5
}
