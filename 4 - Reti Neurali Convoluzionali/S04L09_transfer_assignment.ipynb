{
 "cells": [
  {
   "cell_type": "markdown",
   "id": "166c717f",
   "metadata": {},
   "source": [
    "### 1) Carica il dataset food/no_food\n",
    "(puoi fare un ciclo for o usare flow_from_directory)\n",
    "### 2) Usa sempre ResNet50 per ottenere una matrice di features (train e test)\n",
    "(devi ottenere due matrici di dimensione (3000, 2048) e (1000, 2048))\n",
    "### 3) Addestra una regressione logistica\n",
    "(esatto, la resnet fa heavy lifting.. e sulle features basta un modello molto semplice)\n",
    "### 4) Riesci ad avere >.75 in test?\n",
    "### 5) Visualizza alcune immagini, la ground truth, e la predizione"
   ]
  },
  {
   "cell_type": "raw",
   "id": "5341119d",
   "metadata": {},
   "source": [
    "Va BENISSIMO scopiazzare dai notebooks precedenti!"
   ]
  },
  {
   "cell_type": "code",
   "execution_count": null,
   "id": "9d923b45",
   "metadata": {},
   "outputs": [],
   "source": []
  }
 ],
 "metadata": {
  "kernelspec": {
   "display_name": "tflow",
   "language": "python",
   "name": "tflow"
  },
  "language_info": {
   "codemirror_mode": {
    "name": "ipython",
    "version": 3
   },
   "file_extension": ".py",
   "mimetype": "text/x-python",
   "name": "python",
   "nbconvert_exporter": "python",
   "pygments_lexer": "ipython3",
   "version": "3.7.13"
  }
 },
 "nbformat": 4,
 "nbformat_minor": 5
}
