{
 "cells": [
  {
   "cell_type": "code",
   "execution_count": 1,
   "id": "2b7ecf20",
   "metadata": {},
   "outputs": [],
   "source": [
    "import numpy as np\n",
    "#\n",
    "import tensorflow as tf\n",
    "from tensorflow.keras.backend import clear_session\n",
    "from tensorflow.keras import Model,Sequential\n",
    "from tensorflow.keras.layers import Input,InputLayer,Dense"
   ]
  },
  {
   "cell_type": "code",
   "execution_count": 2,
   "id": "55d4e852",
   "metadata": {},
   "outputs": [],
   "source": [
    "#say no to warnings!\n",
    "import warnings\n",
    "warnings.filterwarnings(\"ignore\")\n",
    "import os\n",
    "os.environ['TF_CPP_MIN_LOG_LEVEL'] = '3' \n",
    "import tensorflow as tf\n",
    "tf.compat.v1.logging.set_verbosity(tf.compat.v1.logging.ERROR)"
   ]
  },
  {
   "cell_type": "markdown",
   "id": "0dde9f0a",
   "metadata": {},
   "source": [
    "# MODELLO SEQUENZIALE"
   ]
  },
  {
   "cell_type": "code",
   "execution_count": 3,
   "id": "fd8e8036",
   "metadata": {},
   "outputs": [],
   "source": [
    "def get_seq_model():\n",
    "    seq_model = Sequential()\n",
    "    input_layer = InputLayer(input_shape=(100,))\n",
    "    hidden_layer_one = Dense(128,activation='relu')\n",
    "    hidden_layer_two = Dense(32,activation='relu')\n",
    "    output_layer = Dense(10,activation='softmax')\n",
    "    seq_model.add(input_layer)\n",
    "    seq_model.add(hidden_layer_one)\n",
    "    seq_model.add(hidden_layer_two)\n",
    "    seq_model.add(output_layer)\n",
    "    return seq_model"
   ]
  },
  {
   "cell_type": "code",
   "execution_count": 4,
   "id": "fee134e1",
   "metadata": {},
   "outputs": [
    {
     "name": "stdout",
     "output_type": "stream",
     "text": [
      "Model: \"sequential\"\n",
      "_________________________________________________________________\n",
      "Layer (type)                 Output Shape              Param #   \n",
      "=================================================================\n",
      "dense (Dense)                (None, 128)               12928     \n",
      "_________________________________________________________________\n",
      "dense_1 (Dense)              (None, 32)                4128      \n",
      "_________________________________________________________________\n",
      "dense_2 (Dense)              (None, 10)                330       \n",
      "=================================================================\n",
      "Total params: 17,386\n",
      "Trainable params: 17,386\n",
      "Non-trainable params: 0\n",
      "_________________________________________________________________\n"
     ]
    }
   ],
   "source": [
    "seq_model = get_seq_model()\n",
    "seq_model.summary()"
   ]
  },
  {
   "cell_type": "markdown",
   "id": "35503374",
   "metadata": {},
   "source": [
    "# MODELLO FUNZIONALE"
   ]
  },
  {
   "cell_type": "code",
   "execution_count": 5,
   "id": "8038e7d2",
   "metadata": {},
   "outputs": [],
   "source": [
    "input_layer = tf.keras.layers.Input(shape=(100,))\n",
    "hidden_layer_one = tf.keras.layers.Dense(128,activation='relu')(input_layer)\n",
    "hidden_layer_two = tf.keras.layers.Dense(32,activation='relu')(hidden_layer_one)\n",
    "output_layer = tf.keras.layers.Dense(10,activation='softmax')(hidden_layer_two)"
   ]
  },
  {
   "cell_type": "code",
   "execution_count": 6,
   "id": "0fdc0d4c",
   "metadata": {},
   "outputs": [],
   "source": [
    "func_model = tf.keras.Model(inputs=input_layer, outputs=output_layer)"
   ]
  },
  {
   "cell_type": "code",
   "execution_count": 7,
   "id": "8c8f7cff",
   "metadata": {},
   "outputs": [
    {
     "name": "stdout",
     "output_type": "stream",
     "text": [
      "Model: \"model\"\n",
      "_________________________________________________________________\n",
      "Layer (type)                 Output Shape              Param #   \n",
      "=================================================================\n",
      "input_2 (InputLayer)         [(None, 100)]             0         \n",
      "_________________________________________________________________\n",
      "dense_3 (Dense)              (None, 128)               12928     \n",
      "_________________________________________________________________\n",
      "dense_4 (Dense)              (None, 32)                4128      \n",
      "_________________________________________________________________\n",
      "dense_5 (Dense)              (None, 10)                330       \n",
      "=================================================================\n",
      "Total params: 17,386\n",
      "Trainable params: 17,386\n",
      "Non-trainable params: 0\n",
      "_________________________________________________________________\n"
     ]
    }
   ],
   "source": [
    "func_model.summary()"
   ]
  },
  {
   "cell_type": "code",
   "execution_count": 8,
   "id": "a9f0bebb",
   "metadata": {},
   "outputs": [],
   "source": [
    "def get_func_model():\n",
    "    input_layer = Input(shape=(100,))\n",
    "    hidden_layer_one = Dense(128,activation='relu')(input_layer)\n",
    "    hidden_layer_two = Dense(32,activation='relu')(hidden_layer_one)\n",
    "    output_layer = Dense(10,activation='softmax')(hidden_layer_two)\n",
    "    func_model = Model(inputs=input_layer, outputs=output_layer)\n",
    "    return func_model"
   ]
  },
  {
   "cell_type": "code",
   "execution_count": 9,
   "id": "42435452",
   "metadata": {},
   "outputs": [
    {
     "name": "stdout",
     "output_type": "stream",
     "text": [
      "Model: \"model_1\"\n",
      "_________________________________________________________________\n",
      "Layer (type)                 Output Shape              Param #   \n",
      "=================================================================\n",
      "input_3 (InputLayer)         [(None, 100)]             0         \n",
      "_________________________________________________________________\n",
      "dense_6 (Dense)              (None, 128)               12928     \n",
      "_________________________________________________________________\n",
      "dense_7 (Dense)              (None, 32)                4128      \n",
      "_________________________________________________________________\n",
      "dense_8 (Dense)              (None, 10)                330       \n",
      "=================================================================\n",
      "Total params: 17,386\n",
      "Trainable params: 17,386\n",
      "Non-trainable params: 0\n",
      "_________________________________________________________________\n"
     ]
    }
   ],
   "source": [
    "func_model = get_func_model()\n",
    "func_model.summary()"
   ]
  },
  {
   "cell_type": "code",
   "execution_count": null,
   "id": "7e7efa61",
   "metadata": {},
   "outputs": [],
   "source": []
  }
 ],
 "metadata": {
  "kernelspec": {
   "display_name": "tflow",
   "language": "python",
   "name": "tflow"
  },
  "language_info": {
   "codemirror_mode": {
    "name": "ipython",
    "version": 3
   },
   "file_extension": ".py",
   "mimetype": "text/x-python",
   "name": "python",
   "nbconvert_exporter": "python",
   "pygments_lexer": "ipython3",
   "version": "3.7.13"
  }
 },
 "nbformat": 4,
 "nbformat_minor": 5
}
