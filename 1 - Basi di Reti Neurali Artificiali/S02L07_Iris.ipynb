{
 "cells": [
  {
   "cell_type": "code",
   "execution_count": 1,
   "id": "539ddf82",
   "metadata": {},
   "outputs": [],
   "source": [
    "#say no to warnings!\n",
    "import warnings\n",
    "warnings.filterwarnings(\"ignore\")\n",
    "import os\n",
    "os.environ['TF_CPP_MIN_LOG_LEVEL'] = '3' \n",
    "import tensorflow as tf\n",
    "tf.compat.v1.logging.set_verbosity(tf.compat.v1.logging.ERROR)"
   ]
  },
  {
   "cell_type": "code",
   "execution_count": 2,
   "id": "ed7e5764",
   "metadata": {},
   "outputs": [],
   "source": [
    "import numpy as np\n",
    "import tensorflow as tf\n",
    "import matplotlib.pyplot as plt\n",
    "from sklearn.datasets import load_iris\n",
    "from sklearn.model_selection import train_test_split\n",
    "from tensorflow.keras.layers import InputLayer,Dense\n",
    "from tensorflow.keras import Sequential"
   ]
  },
  {
   "cell_type": "code",
   "execution_count": 3,
   "id": "35947960",
   "metadata": {},
   "outputs": [],
   "source": [
    "iris = load_iris()"
   ]
  },
  {
   "cell_type": "code",
   "execution_count": 4,
   "id": "0771007d",
   "metadata": {},
   "outputs": [
    {
     "data": {
      "text/plain": [
       "dict_keys(['data', 'target', 'frame', 'target_names', 'DESCR', 'feature_names', 'filename', 'data_module'])"
      ]
     },
     "execution_count": 4,
     "metadata": {},
     "output_type": "execute_result"
    }
   ],
   "source": [
    "iris.keys()"
   ]
  },
  {
   "cell_type": "code",
   "execution_count": 5,
   "id": "4c153d53",
   "metadata": {},
   "outputs": [
    {
     "name": "stdout",
     "output_type": "stream",
     "text": [
      ".. _iris_dataset:\n",
      "\n",
      "Iris plants dataset\n",
      "--------------------\n",
      "\n",
      "**Data Set Characteristics:**\n",
      "\n",
      "    :Number of Instances: 150 (50 in each of three classes)\n",
      "    :Number of Attributes: 4 numeric, predictive attributes and the class\n",
      "    :Attribute Information:\n",
      "        - sepal length in cm\n",
      "        - sepal width in cm\n",
      "        - petal length in cm\n",
      "        - petal width in cm\n",
      "        - class:\n",
      "                - Iris-Setosa\n",
      "                - Iris-Versicolour\n",
      "                - Iris-Virginica\n",
      "                \n",
      "    :Summary Statistics:\n",
      "\n",
      "    ============== ==== ==== ======= ===== ====================\n",
      "                    Min  Max   Mean    SD   Class Correlation\n",
      "    ============== ==== ==== ======= ===== ====================\n",
      "    sepal length:   4.3  7.9   5.84   0.83    0.7826\n",
      "    sepal width:    2.0  4.4   3.05   0.43   -0.4194\n",
      "    petal length:   1.0  6.9   3.76   1.76    0.9490  (high!)\n",
      "    petal width:    0.1  2.5   1.20   0.76    0.9565  (high!)\n",
      "    ============== ==== ==== ======= ===== ====================\n",
      "\n",
      "    :Missing Attribute Values: None\n",
      "    :Class Distribution: 33.3% for each of 3 classes.\n",
      "    :Creator: R.A. Fisher\n",
      "    :Donor: Michael Marshall (MARSHALL%PLU@io.arc.nasa.gov)\n",
      "    :Date: July, 1988\n",
      "\n",
      "The famous Iris database, first used by Sir R.A. Fisher. The dataset is taken\n",
      "from Fisher's paper. Note that it's the same as in R, but not as in the UCI\n",
      "Machine Learning Repository, which has two wrong data points.\n",
      "\n",
      "This is perhaps the best known database to be found in the\n",
      "pattern recognition literature.  Fisher's paper is a classic in the field and\n",
      "is referenced frequently to this day.  (See Duda & Hart, for example.)  The\n",
      "data set contains 3 classes of 50 instances each, where each class refers to a\n",
      "type of iris plant.  One class is linearly separable from the other 2; the\n",
      "latter are NOT linearly separable from each other.\n",
      "\n",
      ".. topic:: References\n",
      "\n",
      "   - Fisher, R.A. \"The use of multiple measurements in taxonomic problems\"\n",
      "     Annual Eugenics, 7, Part II, 179-188 (1936); also in \"Contributions to\n",
      "     Mathematical Statistics\" (John Wiley, NY, 1950).\n",
      "   - Duda, R.O., & Hart, P.E. (1973) Pattern Classification and Scene Analysis.\n",
      "     (Q327.D83) John Wiley & Sons.  ISBN 0-471-22361-1.  See page 218.\n",
      "   - Dasarathy, B.V. (1980) \"Nosing Around the Neighborhood: A New System\n",
      "     Structure and Classification Rule for Recognition in Partially Exposed\n",
      "     Environments\".  IEEE Transactions on Pattern Analysis and Machine\n",
      "     Intelligence, Vol. PAMI-2, No. 1, 67-71.\n",
      "   - Gates, G.W. (1972) \"The Reduced Nearest Neighbor Rule\".  IEEE Transactions\n",
      "     on Information Theory, May 1972, 431-433.\n",
      "   - See also: 1988 MLC Proceedings, 54-64.  Cheeseman et al\"s AUTOCLASS II\n",
      "     conceptual clustering system finds 3 classes in the data.\n",
      "   - Many, many more ...\n"
     ]
    }
   ],
   "source": [
    "print(iris['DESCR'])"
   ]
  },
  {
   "cell_type": "code",
   "execution_count": 6,
   "id": "8d727f58",
   "metadata": {},
   "outputs": [
    {
     "data": {
      "text/plain": [
       "(150, 4)"
      ]
     },
     "execution_count": 6,
     "metadata": {},
     "output_type": "execute_result"
    }
   ],
   "source": [
    "iris['data'].shape"
   ]
  },
  {
   "cell_type": "code",
   "execution_count": 7,
   "id": "ad5b45cc",
   "metadata": {},
   "outputs": [
    {
     "data": {
      "text/plain": [
       "array([0, 0, 0, 0, 0, 0, 0, 0, 0, 0, 0, 0, 0, 0, 0, 0, 0, 0, 0, 0, 0, 0,\n",
       "       0, 0, 0, 0, 0, 0, 0, 0, 0, 0, 0, 0, 0, 0, 0, 0, 0, 0, 0, 0, 0, 0,\n",
       "       0, 0, 0, 0, 0, 0, 1, 1, 1, 1, 1, 1, 1, 1, 1, 1, 1, 1, 1, 1, 1, 1,\n",
       "       1, 1, 1, 1, 1, 1, 1, 1, 1, 1, 1, 1, 1, 1, 1, 1, 1, 1, 1, 1, 1, 1,\n",
       "       1, 1, 1, 1, 1, 1, 1, 1, 1, 1, 1, 1, 2, 2, 2, 2, 2, 2, 2, 2, 2, 2,\n",
       "       2, 2, 2, 2, 2, 2, 2, 2, 2, 2, 2, 2, 2, 2, 2, 2, 2, 2, 2, 2, 2, 2,\n",
       "       2, 2, 2, 2, 2, 2, 2, 2, 2, 2, 2, 2, 2, 2, 2, 2, 2, 2])"
      ]
     },
     "execution_count": 7,
     "metadata": {},
     "output_type": "execute_result"
    }
   ],
   "source": [
    "iris['target']"
   ]
  },
  {
   "cell_type": "code",
   "execution_count": 8,
   "id": "9b454c69",
   "metadata": {},
   "outputs": [],
   "source": [
    "def get_iris_net():\n",
    "    tf.random.set_seed(2022)\n",
    "    model = Sequential()\n",
    "    model.add(InputLayer(input_shape=(4,)))\n",
    "    model.add(Dense(32,activation='relu'))\n",
    "    model.add(Dense(32,activation='relu'))\n",
    "    model.add(Dense(3,activation='softmax'))\n",
    "    return model"
   ]
  },
  {
   "cell_type": "code",
   "execution_count": 9,
   "id": "39497762",
   "metadata": {},
   "outputs": [],
   "source": [
    "model = get_iris_net()\n",
    "pred = model.predict(iris['data'])"
   ]
  },
  {
   "cell_type": "code",
   "execution_count": 10,
   "id": "ed75c175",
   "metadata": {},
   "outputs": [
    {
     "data": {
      "text/plain": [
       "{1.0}"
      ]
     },
     "execution_count": 10,
     "metadata": {},
     "output_type": "execute_result"
    }
   ],
   "source": [
    "set(np.round(np.sum(pred,axis=1),3))"
   ]
  },
  {
   "cell_type": "code",
   "execution_count": 11,
   "id": "9c3c5b9a",
   "metadata": {},
   "outputs": [
    {
     "data": {
      "text/plain": [
       "array([[0.7598338 , 0.12833957, 0.11182663],\n",
       "       [0.73755807, 0.14226732, 0.12017456],\n",
       "       [0.73282003, 0.1424429 , 0.12473707],\n",
       "       [0.74075484, 0.13802224, 0.12122291],\n",
       "       [0.7618925 , 0.12694491, 0.11116258],\n",
       "       [0.80610186, 0.10544462, 0.08845343],\n",
       "       [0.75094914, 0.1332004 , 0.11585045],\n",
       "       [0.7600393 , 0.12875219, 0.1112085 ],\n",
       "       [0.7209102 , 0.14923072, 0.12985912],\n",
       "       [0.7441018 , 0.13725804, 0.11864018],\n",
       "       [0.77941555, 0.11829758, 0.10228693],\n",
       "       [0.7632372 , 0.12468351, 0.11207931],\n",
       "       [0.73130476, 0.14391588, 0.12477934],\n",
       "       [0.6967582 , 0.15869334, 0.14454842],\n",
       "       [0.78027624, 0.11577679, 0.10394702],\n",
       "       [0.81885386, 0.09895676, 0.08218937],\n",
       "       [0.7838032 , 0.11705586, 0.09914082],\n",
       "       [0.76428854, 0.1273516 , 0.10835982],\n",
       "       [0.8032141 , 0.10758985, 0.08919606],\n",
       "       [0.7824007 , 0.11697781, 0.10062151],\n",
       "       [0.78169096, 0.11910892, 0.09920011],\n",
       "       [0.78259873, 0.11866258, 0.09873865],\n",
       "       [0.7300134 , 0.14169255, 0.128294  ],\n",
       "       [0.7818802 , 0.12070927, 0.09741054],\n",
       "       [0.7840666 , 0.11184473, 0.10408862],\n",
       "       [0.7529611 , 0.13501386, 0.11202497],\n",
       "       [0.774177  , 0.12317435, 0.10264861],\n",
       "       [0.76816434, 0.12463129, 0.10720434],\n",
       "       [0.7590846 , 0.12956499, 0.11135039],\n",
       "       [0.7540312 , 0.13031608, 0.11565282],\n",
       "       [0.7523531 , 0.13299608, 0.11465085],\n",
       "       [0.7753423 , 0.12330163, 0.10135612],\n",
       "       [0.7882652 , 0.11034434, 0.10139047],\n",
       "       [0.79549694, 0.10889491, 0.09560817],\n",
       "       [0.74740976, 0.1367641 , 0.11582615],\n",
       "       [0.732337  , 0.1422621 , 0.12540089],\n",
       "       [0.76158947, 0.12719576, 0.11121475],\n",
       "       [0.75561094, 0.12845768, 0.1159314 ],\n",
       "       [0.7171597 , 0.15074255, 0.13209774],\n",
       "       [0.7624826 , 0.12782037, 0.10969702],\n",
       "       [0.7562867 , 0.13102952, 0.11268378],\n",
       "       [0.6939268 , 0.16684638, 0.13922685],\n",
       "       [0.7265051 , 0.1448734 , 0.12862152],\n",
       "       [0.7873716 , 0.11833682, 0.09429164],\n",
       "       [0.810328  , 0.10057925, 0.08909276],\n",
       "       [0.73851085, 0.1424998 , 0.11898937],\n",
       "       [0.78458583, 0.1135688 , 0.10184536],\n",
       "       [0.7368935 , 0.13992187, 0.1231847 ],\n",
       "       [0.7770758 , 0.11928175, 0.10364246],\n",
       "       [0.7505497 , 0.13399829, 0.11545198],\n",
       "       [0.9548671 , 0.02690196, 0.01823085],\n",
       "       [0.9482132 , 0.03039068, 0.02139606],\n",
       "       [0.95937204, 0.02433218, 0.01629577],\n",
       "       [0.9179525 , 0.04846068, 0.03358672],\n",
       "       [0.9486884 , 0.03095937, 0.02035222],\n",
       "       [0.9415231 , 0.03334683, 0.02513014],\n",
       "       [0.95361763, 0.02704378, 0.01933853],\n",
       "       [0.8772508 , 0.0690125 , 0.05373674],\n",
       "       [0.94856703, 0.0304112 , 0.0210218 ],\n",
       "       [0.9158848 , 0.04830216, 0.03581306],\n",
       "       [0.8836702 , 0.06771864, 0.04861116],\n",
       "       [0.9350192 , 0.03798876, 0.02699194],\n",
       "       [0.91478974, 0.05191631, 0.03329396],\n",
       "       [0.9498563 , 0.02909923, 0.02104451],\n",
       "       [0.90792453, 0.05311688, 0.03895859],\n",
       "       [0.9455842 , 0.03239717, 0.02201863],\n",
       "       [0.9432065 , 0.03254723, 0.0242462 ],\n",
       "       [0.92408895, 0.04297632, 0.03293479],\n",
       "       [0.9399149 , 0.03809953, 0.0219856 ],\n",
       "       [0.914785  , 0.0490879 , 0.03612704],\n",
       "       [0.9544763 , 0.02672973, 0.0187939 ],\n",
       "       [0.9267862 , 0.04314266, 0.03007103],\n",
       "       [0.9534545 , 0.0282326 , 0.01831291],\n",
       "       [0.9488316 , 0.02926265, 0.02190573],\n",
       "       [0.9390705 , 0.03594672, 0.02498276],\n",
       "       [0.94468486, 0.03296585, 0.02234926],\n",
       "       [0.9545892 , 0.02749341, 0.01791745],\n",
       "       [0.9604263 , 0.02403722, 0.01553657],\n",
       "       [0.94407856, 0.03280615, 0.02311534],\n",
       "       [0.89405924, 0.0611661 , 0.04477463],\n",
       "       [0.9087111 , 0.05280332, 0.03848559],\n",
       "       [0.90156394, 0.05660598, 0.04183003],\n",
       "       [0.91932   , 0.04679084, 0.03388923],\n",
       "       [0.96009254, 0.02382781, 0.01607959],\n",
       "       [0.9437033 , 0.03215228, 0.02414431],\n",
       "       [0.9477173 , 0.02998851, 0.02229412],\n",
       "       [0.9540378 , 0.02740419, 0.01855798],\n",
       "       [0.93711436, 0.03915425, 0.02373145],\n",
       "       [0.9291277 , 0.04005035, 0.03082196],\n",
       "       [0.9199722 , 0.04665657, 0.03337125],\n",
       "       [0.93598306, 0.03643681, 0.02758007],\n",
       "       [0.9478713 , 0.03013317, 0.02199553],\n",
       "       [0.92247707, 0.04512602, 0.03239685],\n",
       "       [0.8759481 , 0.0706458 , 0.05340609],\n",
       "       [0.9300703 , 0.04021673, 0.029713  ],\n",
       "       [0.9330013 , 0.03753852, 0.02946015],\n",
       "       [0.932437  , 0.03853341, 0.02902957],\n",
       "       [0.9387915 , 0.03571024, 0.02549831],\n",
       "       [0.8626234 , 0.07904618, 0.05833046],\n",
       "       [0.92804796, 0.04142777, 0.03052427],\n",
       "       [0.9825246 , 0.01113756, 0.00633796],\n",
       "       [0.960841  , 0.02381419, 0.01534481],\n",
       "       [0.97704303, 0.01444575, 0.00851123],\n",
       "       [0.97269213, 0.01655925, 0.01074854],\n",
       "       [0.97651446, 0.01468149, 0.00880409],\n",
       "       [0.98584366, 0.0090493 , 0.00510697],\n",
       "       [0.94210815, 0.03419987, 0.0236921 ],\n",
       "       [0.98240256, 0.01097166, 0.00662575],\n",
       "       [0.97402394, 0.01636139, 0.00961457],\n",
       "       [0.98198134, 0.01136163, 0.00665703],\n",
       "       [0.9630753 , 0.02254588, 0.01437883],\n",
       "       [0.9644649 , 0.02193854, 0.01359663],\n",
       "       [0.9702912 , 0.01860038, 0.0111084 ],\n",
       "       [0.9568647 , 0.0266274 , 0.01650797],\n",
       "       [0.96342576, 0.02319045, 0.01338369],\n",
       "       [0.9674091 , 0.02021399, 0.01237694],\n",
       "       [0.97055423, 0.01782823, 0.01161761],\n",
       "       [0.98842293, 0.00718083, 0.00439622],\n",
       "       [0.9877867 , 0.00825941, 0.00395377],\n",
       "       [0.95350003, 0.02860814, 0.01789179],\n",
       "       [0.97472966, 0.01588987, 0.00938046],\n",
       "       [0.956224  , 0.02653172, 0.01724428],\n",
       "       [0.98629886, 0.00890915, 0.00479191],\n",
       "       [0.9550651 , 0.02762235, 0.01731252],\n",
       "       [0.97547567, 0.01503987, 0.00948448],\n",
       "       [0.97918826, 0.01271764, 0.00809408],\n",
       "       [0.9528506 , 0.02874519, 0.01840417],\n",
       "       [0.955992  , 0.02630375, 0.01770424],\n",
       "       [0.9720472 , 0.01746119, 0.01049161],\n",
       "       [0.97545105, 0.01485932, 0.00968966],\n",
       "       [0.9790622 , 0.01333366, 0.00760407],\n",
       "       [0.9853613 , 0.0089483 , 0.00569045],\n",
       "       [0.9720552 , 0.01758222, 0.01036258],\n",
       "       [0.9601479 , 0.02359388, 0.0162581 ],\n",
       "       [0.9717334 , 0.01681471, 0.01145193],\n",
       "       [0.98019654, 0.01302368, 0.00677983],\n",
       "       [0.9762274 , 0.01486368, 0.00890893],\n",
       "       [0.97126895, 0.01726215, 0.01146892],\n",
       "       [0.9531985 , 0.02791099, 0.01889057],\n",
       "       [0.9693164 , 0.01923836, 0.01144514],\n",
       "       [0.97278756, 0.01723116, 0.00998124],\n",
       "       [0.96421105, 0.02301715, 0.01277178],\n",
       "       [0.960841  , 0.02381419, 0.01534481],\n",
       "       [0.97837204, 0.01357905, 0.00804896],\n",
       "       [0.97576046, 0.01533559, 0.00890388],\n",
       "       [0.96494204, 0.02242806, 0.0126298 ],\n",
       "       [0.95630664, 0.02742945, 0.01626387],\n",
       "       [0.96401   , 0.02218873, 0.01380117],\n",
       "       [0.9722953 , 0.01709035, 0.01061436],\n",
       "       [0.9623274 , 0.02242137, 0.01525123]], dtype=float32)"
      ]
     },
     "execution_count": 11,
     "metadata": {},
     "output_type": "execute_result"
    }
   ],
   "source": [
    "pred"
   ]
  },
  {
   "cell_type": "code",
   "execution_count": 12,
   "id": "915f6983",
   "metadata": {},
   "outputs": [
    {
     "data": {
      "text/plain": [
       "array([0, 0, 0, 0, 0, 0, 0, 0, 0, 0, 0, 0, 0, 0, 0, 0, 0, 0, 0, 0, 0, 0,\n",
       "       0, 0, 0, 0, 0, 0, 0, 0, 0, 0, 0, 0, 0, 0, 0, 0, 0, 0, 0, 0, 0, 0,\n",
       "       0, 0, 0, 0, 0, 0, 0, 0, 0, 0, 0, 0, 0, 0, 0, 0, 0, 0, 0, 0, 0, 0,\n",
       "       0, 0, 0, 0, 0, 0, 0, 0, 0, 0, 0, 0, 0, 0, 0, 0, 0, 0, 0, 0, 0, 0,\n",
       "       0, 0, 0, 0, 0, 0, 0, 0, 0, 0, 0, 0, 0, 0, 0, 0, 0, 0, 0, 0, 0, 0,\n",
       "       0, 0, 0, 0, 0, 0, 0, 0, 0, 0, 0, 0, 0, 0, 0, 0, 0, 0, 0, 0, 0, 0,\n",
       "       0, 0, 0, 0, 0, 0, 0, 0, 0, 0, 0, 0, 0, 0, 0, 0, 0, 0])"
      ]
     },
     "execution_count": 12,
     "metadata": {},
     "output_type": "execute_result"
    }
   ],
   "source": [
    "predictions = np.argmax(pred,axis=1)\n",
    "predictions"
   ]
  },
  {
   "cell_type": "code",
   "execution_count": 13,
   "id": "133f6d9e",
   "metadata": {},
   "outputs": [
    {
     "data": {
      "text/plain": [
       "0.3333333333333333"
      ]
     },
     "execution_count": 13,
     "metadata": {},
     "output_type": "execute_result"
    }
   ],
   "source": [
    "sum(predictions==iris['target'])/len(iris['target'])"
   ]
  },
  {
   "cell_type": "code",
   "execution_count": 14,
   "id": "4ccc8693",
   "metadata": {},
   "outputs": [],
   "source": [
    "model.compile(loss='sparse_categorical_crossentropy', metrics=['accuracy'])"
   ]
  },
  {
   "cell_type": "code",
   "execution_count": 15,
   "id": "4287e4ff",
   "metadata": {},
   "outputs": [
    {
     "name": "stdout",
     "output_type": "stream",
     "text": [
      "150/150 [==============================] - 0s 677us/sample - loss: 2.6946 - accuracy: 0.3333\n"
     ]
    },
    {
     "data": {
      "text/plain": [
       "[2.6946037864685057, 0.33333334]"
      ]
     },
     "execution_count": 15,
     "metadata": {},
     "output_type": "execute_result"
    }
   ],
   "source": [
    "model.evaluate(iris['data'],iris['target'])"
   ]
  },
  {
   "cell_type": "code",
   "execution_count": 16,
   "id": "b78eb22f",
   "metadata": {},
   "outputs": [],
   "source": [
    "xtrain, xtest, ytrain, ytest = train_test_split(iris['data'],iris['target'])"
   ]
  },
  {
   "cell_type": "code",
   "execution_count": 17,
   "id": "c210c22f",
   "metadata": {},
   "outputs": [
    {
     "data": {
      "text/plain": [
       "(array([0, 1, 2]), array([33, 37, 42]))"
      ]
     },
     "execution_count": 17,
     "metadata": {},
     "output_type": "execute_result"
    }
   ],
   "source": [
    "np.unique(ytrain,return_counts=True)"
   ]
  },
  {
   "cell_type": "code",
   "execution_count": 18,
   "id": "46612ad4",
   "metadata": {},
   "outputs": [
    {
     "name": "stdout",
     "output_type": "stream",
     "text": [
      "38/38 [==============================] - 0s 285us/sample - loss: 2.1562 - accuracy: 0.4474\n"
     ]
    },
    {
     "data": {
      "text/plain": [
       "[2.1561526373813025, 0.4473684]"
      ]
     },
     "execution_count": 18,
     "metadata": {},
     "output_type": "execute_result"
    }
   ],
   "source": [
    "model.evaluate(xtest,ytest)"
   ]
  },
  {
   "cell_type": "code",
   "execution_count": 19,
   "id": "3f49348b",
   "metadata": {
    "scrolled": false
   },
   "outputs": [
    {
     "name": "stdout",
     "output_type": "stream",
     "text": [
      "Train on 112 samples, validate on 38 samples\n",
      "Epoch 1/50\n",
      "112/112 [==============================] - 0s 3ms/sample - loss: 2.3217 - accuracy: 0.2946 - val_loss: 1.3778 - val_accuracy: 0.4474\n",
      "Epoch 2/50\n",
      "112/112 [==============================] - 0s 245us/sample - loss: 1.5224 - accuracy: 0.2946 - val_loss: 1.1773 - val_accuracy: 0.4474\n",
      "Epoch 3/50\n",
      "112/112 [==============================] - 0s 228us/sample - loss: 1.2540 - accuracy: 0.2946 - val_loss: 1.1052 - val_accuracy: 0.4474\n",
      "Epoch 4/50\n",
      "112/112 [==============================] - 0s 249us/sample - loss: 1.1276 - accuracy: 0.2411 - val_loss: 1.0887 - val_accuracy: 0.1842\n",
      "Epoch 5/50\n",
      "112/112 [==============================] - 0s 244us/sample - loss: 1.0602 - accuracy: 0.3839 - val_loss: 1.0843 - val_accuracy: 0.2105\n",
      "Epoch 6/50\n",
      "112/112 [==============================] - 0s 227us/sample - loss: 1.0279 - accuracy: 0.3750 - val_loss: 1.0632 - val_accuracy: 0.1842\n",
      "Epoch 7/50\n",
      "112/112 [==============================] - 0s 233us/sample - loss: 1.0054 - accuracy: 0.3750 - val_loss: 1.0575 - val_accuracy: 0.2105\n",
      "Epoch 8/50\n",
      "112/112 [==============================] - 0s 256us/sample - loss: 0.9851 - accuracy: 0.3750 - val_loss: 1.0438 - val_accuracy: 0.2105\n",
      "Epoch 9/50\n",
      "112/112 [==============================] - 0s 269us/sample - loss: 0.9642 - accuracy: 0.3750 - val_loss: 1.0167 - val_accuracy: 0.2105\n",
      "Epoch 10/50\n",
      "112/112 [==============================] - 0s 282us/sample - loss: 0.9457 - accuracy: 0.3750 - val_loss: 0.9939 - val_accuracy: 0.2105\n",
      "Epoch 11/50\n",
      "112/112 [==============================] - 0s 272us/sample - loss: 0.9212 - accuracy: 0.3839 - val_loss: 0.9599 - val_accuracy: 0.2368\n",
      "Epoch 12/50\n",
      "112/112 [==============================] - 0s 261us/sample - loss: 0.9049 - accuracy: 0.4554 - val_loss: 0.9376 - val_accuracy: 0.4737\n",
      "Epoch 13/50\n",
      "112/112 [==============================] - 0s 277us/sample - loss: 0.8821 - accuracy: 0.5893 - val_loss: 0.9208 - val_accuracy: 0.6053\n",
      "Epoch 14/50\n",
      "112/112 [==============================] - 0s 270us/sample - loss: 0.8616 - accuracy: 0.6518 - val_loss: 0.9007 - val_accuracy: 0.6579\n",
      "Epoch 15/50\n",
      "112/112 [==============================] - 0s 266us/sample - loss: 0.8380 - accuracy: 0.6696 - val_loss: 0.8611 - val_accuracy: 0.6579\n",
      "Epoch 16/50\n",
      "112/112 [==============================] - 0s 259us/sample - loss: 0.8149 - accuracy: 0.6696 - val_loss: 0.8461 - val_accuracy: 0.6579\n",
      "Epoch 17/50\n",
      "112/112 [==============================] - 0s 264us/sample - loss: 0.7931 - accuracy: 0.6696 - val_loss: 0.7804 - val_accuracy: 0.8684\n",
      "Epoch 18/50\n",
      "112/112 [==============================] - 0s 260us/sample - loss: 0.7746 - accuracy: 0.9196 - val_loss: 0.7832 - val_accuracy: 0.6579\n",
      "Epoch 19/50\n",
      "112/112 [==============================] - 0s 270us/sample - loss: 0.7543 - accuracy: 0.6696 - val_loss: 0.7700 - val_accuracy: 0.6579\n",
      "Epoch 20/50\n",
      "112/112 [==============================] - 0s 279us/sample - loss: 0.7261 - accuracy: 0.6696 - val_loss: 0.7259 - val_accuracy: 0.6579\n",
      "Epoch 21/50\n",
      "112/112 [==============================] - 0s 261us/sample - loss: 0.7012 - accuracy: 0.6696 - val_loss: 0.6919 - val_accuracy: 0.7105\n",
      "Epoch 22/50\n",
      "112/112 [==============================] - 0s 257us/sample - loss: 0.6807 - accuracy: 0.7589 - val_loss: 0.6657 - val_accuracy: 0.8684\n",
      "Epoch 23/50\n",
      "112/112 [==============================] - 0s 253us/sample - loss: 0.6634 - accuracy: 0.8214 - val_loss: 0.6452 - val_accuracy: 0.6842\n",
      "Epoch 24/50\n",
      "112/112 [==============================] - 0s 294us/sample - loss: 0.6342 - accuracy: 0.7143 - val_loss: 0.6068 - val_accuracy: 0.8684\n",
      "Epoch 25/50\n",
      "112/112 [==============================] - 0s 282us/sample - loss: 0.6120 - accuracy: 0.8929 - val_loss: 0.5950 - val_accuracy: 0.7105\n",
      "Epoch 26/50\n",
      "112/112 [==============================] - 0s 232us/sample - loss: 0.5943 - accuracy: 0.8125 - val_loss: 0.5718 - val_accuracy: 0.7105\n",
      "Epoch 27/50\n",
      "112/112 [==============================] - 0s 257us/sample - loss: 0.5685 - accuracy: 0.7589 - val_loss: 0.5212 - val_accuracy: 0.9474\n",
      "Epoch 28/50\n",
      "112/112 [==============================] - 0s 244us/sample - loss: 0.5466 - accuracy: 0.9196 - val_loss: 0.5032 - val_accuracy: 0.8684\n",
      "Epoch 29/50\n",
      "112/112 [==============================] - 0s 251us/sample - loss: 0.5254 - accuracy: 0.8750 - val_loss: 0.4774 - val_accuracy: 0.9211\n",
      "Epoch 30/50\n",
      "112/112 [==============================] - 0s 263us/sample - loss: 0.5049 - accuracy: 0.9107 - val_loss: 0.4799 - val_accuracy: 0.8158\n",
      "Epoch 31/50\n",
      "112/112 [==============================] - 0s 249us/sample - loss: 0.5071 - accuracy: 0.8393 - val_loss: 0.4448 - val_accuracy: 0.8684\n",
      "Epoch 32/50\n",
      "112/112 [==============================] - 0s 262us/sample - loss: 0.4739 - accuracy: 0.8661 - val_loss: 0.4151 - val_accuracy: 0.9474\n",
      "Epoch 33/50\n",
      "112/112 [==============================] - 0s 288us/sample - loss: 0.4603 - accuracy: 0.9375 - val_loss: 0.4234 - val_accuracy: 0.8421\n",
      "Epoch 34/50\n",
      "112/112 [==============================] - 0s 264us/sample - loss: 0.4461 - accuracy: 0.8929 - val_loss: 0.3896 - val_accuracy: 0.9737\n",
      "Epoch 35/50\n",
      "112/112 [==============================] - 0s 264us/sample - loss: 0.4435 - accuracy: 0.8929 - val_loss: 0.3890 - val_accuracy: 0.8684\n",
      "Epoch 36/50\n",
      "112/112 [==============================] - 0s 249us/sample - loss: 0.4279 - accuracy: 0.8839 - val_loss: 0.3629 - val_accuracy: 0.9474\n",
      "Epoch 37/50\n",
      "112/112 [==============================] - 0s 277us/sample - loss: 0.4069 - accuracy: 0.9464 - val_loss: 0.3583 - val_accuracy: 0.9211\n",
      "Epoch 38/50\n",
      "112/112 [==============================] - 0s 242us/sample - loss: 0.3975 - accuracy: 0.9464 - val_loss: 0.3517 - val_accuracy: 0.9211\n",
      "Epoch 39/50\n",
      "112/112 [==============================] - 0s 252us/sample - loss: 0.3924 - accuracy: 0.9554 - val_loss: 0.3821 - val_accuracy: 0.8158\n",
      "Epoch 40/50\n",
      "112/112 [==============================] - 0s 256us/sample - loss: 0.3868 - accuracy: 0.8661 - val_loss: 0.3306 - val_accuracy: 0.9211\n",
      "Epoch 41/50\n",
      "112/112 [==============================] - 0s 255us/sample - loss: 0.3672 - accuracy: 0.9375 - val_loss: 0.3123 - val_accuracy: 0.9474\n",
      "Epoch 42/50\n",
      "112/112 [==============================] - 0s 257us/sample - loss: 0.3730 - accuracy: 0.9464 - val_loss: 0.3064 - val_accuracy: 0.9474\n",
      "Epoch 43/50\n",
      "112/112 [==============================] - 0s 270us/sample - loss: 0.3599 - accuracy: 0.9464 - val_loss: 0.3083 - val_accuracy: 0.9211\n",
      "Epoch 44/50\n",
      "112/112 [==============================] - 0s 265us/sample - loss: 0.3497 - accuracy: 0.9375 - val_loss: 0.2970 - val_accuracy: 0.9737\n",
      "Epoch 45/50\n",
      "112/112 [==============================] - 0s 258us/sample - loss: 0.3474 - accuracy: 0.9464 - val_loss: 0.2871 - val_accuracy: 0.9737\n",
      "Epoch 46/50\n",
      "112/112 [==============================] - 0s 269us/sample - loss: 0.3351 - accuracy: 0.9286 - val_loss: 0.2775 - val_accuracy: 0.9737\n",
      "Epoch 47/50\n",
      "112/112 [==============================] - 0s 259us/sample - loss: 0.3244 - accuracy: 0.9732 - val_loss: 0.2933 - val_accuracy: 0.8947\n",
      "Epoch 48/50\n",
      "112/112 [==============================] - 0s 268us/sample - loss: 0.3187 - accuracy: 0.9375 - val_loss: 0.2811 - val_accuracy: 0.9211\n",
      "Epoch 49/50\n",
      "112/112 [==============================] - 0s 261us/sample - loss: 0.3137 - accuracy: 0.9286 - val_loss: 0.2589 - val_accuracy: 0.9737\n",
      "Epoch 50/50\n",
      "112/112 [==============================] - 0s 252us/sample - loss: 0.3054 - accuracy: 0.9554 - val_loss: 0.2680 - val_accuracy: 0.9211\n"
     ]
    }
   ],
   "source": [
    "model = get_iris_net()\n",
    "model.compile(loss='sparse_categorical_crossentropy', metrics=['accuracy'])\n",
    "hist = model.fit(xtrain,ytrain,epochs=50,verbose=1,validation_data=(xtest,ytest))"
   ]
  },
  {
   "cell_type": "code",
   "execution_count": 20,
   "id": "93566a9e",
   "metadata": {},
   "outputs": [
    {
     "name": "stdout",
     "output_type": "stream",
     "text": [
      "150/150 [==============================] - 0s 92us/sample - loss: 0.2907 - accuracy: 0.9333\n"
     ]
    },
    {
     "data": {
      "text/plain": [
       "[0.2907129983107249, 0.93333334]"
      ]
     },
     "execution_count": 20,
     "metadata": {},
     "output_type": "execute_result"
    }
   ],
   "source": [
    "model.evaluate(iris['data'],iris['target'])"
   ]
  },
  {
   "cell_type": "code",
   "execution_count": 21,
   "id": "a836c456",
   "metadata": {},
   "outputs": [
    {
     "data": {
      "text/plain": [
       "dict_keys(['loss', 'accuracy', 'val_loss', 'val_accuracy'])"
      ]
     },
     "execution_count": 21,
     "metadata": {},
     "output_type": "execute_result"
    }
   ],
   "source": [
    "hist.history.keys()"
   ]
  },
  {
   "cell_type": "code",
   "execution_count": 22,
   "id": "b14268b3",
   "metadata": {},
   "outputs": [
    {
     "data": {
      "image/png": "[encoded data removed]",
      "text/plain": [
       "<Figure size 864x288 with 2 Axes>"
      ]
     },
     "metadata": {
      "needs_background": "light"
     },
     "output_type": "display_data"
    }
   ],
   "source": [
    "plt.figure(figsize=(12,4))\n",
    "for i,e in enumerate(['loss','acc']):\n",
    "    plt.subplot(1,2,i+1)\n",
    "    for k in hist.history.keys():\n",
    "        if e in k:\n",
    "            plt.plot(hist.history[k],label=k)\n",
    "            plt.legend()\n",
    "plt.tight_layout()"
   ]
  },
  {
   "cell_type": "code",
   "execution_count": null,
   "id": "1741002a",
   "metadata": {},
   "outputs": [],
   "source": []
  }
 ],
 "metadata": {
  "kernelspec": {
   "display_name": "tflow",
   "language": "python",
   "name": "tflow"
  },
  "language_info": {
   "codemirror_mode": {
    "name": "ipython",
    "version": 3
   },
   "file_extension": ".py",
   "mimetype": "text/x-python",
   "name": "python",
   "nbconvert_exporter": "python",
   "pygments_lexer": "ipython3",
   "version": "3.7.13"
  }
 },
 "nbformat": 4,
 "nbformat_minor": 5
}
