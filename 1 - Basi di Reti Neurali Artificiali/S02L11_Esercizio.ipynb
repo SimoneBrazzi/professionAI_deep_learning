{
 "cells": [
  {
   "cell_type": "markdown",
   "id": "73460ff8",
   "metadata": {},
   "source": [
    "### Prendiamo sempre il dataset MNIST. Facciamo un classificatore pari-dispari\n",
    " - Prendi il dataset crea delle labels binarie\n",
    " - Fai split e preprocessing come nel notebook precedente\n",
    " - Crea un MLP come nel notebook precedente ed addestralo"
   ]
  },
  {
   "cell_type": "markdown",
   "id": "af9a0f31",
   "metadata": {},
   "source": [
    "### Singolo neurone di output\n",
    "- Per classificazione binaria, posso anche costruire la rete usando UN neurone di output, sigmoide e binary crossentropy!\n",
    " - Crea ed addestra un MLP di questo tipo, senza toccare il dataset"
   ]
  },
  {
   "cell_type": "markdown",
   "id": "2edf4328",
   "metadata": {},
   "source": [
    "### API funzionali\n",
    "- sempre senza toccare il dataset, ricrea il modello precedente usando le API funzionali ed addestralo"
   ]
  },
  {
   "cell_type": "markdown",
   "id": "44e87968",
   "metadata": {},
   "source": [
    "<font color='red'>Va BENISSIMO fare copia-incolla dai notebook precedenti: <br>\n",
    "    &nbsp;&nbsp;&nbsp;&nbsp; → non devi imparare cose a memoria, devi capire come funzionano e sapere dove copiare, cosa modifiare e come! <br>\n",
    "    Riesci a superare tutti gli errori ed a ottenere delle buone test accuracy?</font>"
   ]
  },
  {
   "cell_type": "code",
   "execution_count": null,
   "id": "d191a559",
   "metadata": {},
   "outputs": [],
   "source": []
  }
 ],
 "metadata": {
  "kernelspec": {
   "display_name": "tflow",
   "language": "python",
   "name": "tflow"
  },
  "language_info": {
   "codemirror_mode": {
    "name": "ipython",
    "version": 3
   },
   "file_extension": ".py",
   "mimetype": "text/x-python",
   "name": "python",
   "nbconvert_exporter": "python",
   "pygments_lexer": "ipython3",
   "version": "3.7.13"
  }
 },
 "nbformat": 4,
 "nbformat_minor": 5
}
