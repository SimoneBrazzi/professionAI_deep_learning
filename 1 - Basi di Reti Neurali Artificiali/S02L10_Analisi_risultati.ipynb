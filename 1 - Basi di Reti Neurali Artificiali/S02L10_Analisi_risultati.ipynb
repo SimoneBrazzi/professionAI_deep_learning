{
 "cells": [
  {
   "cell_type": "code",
   "execution_count": 1,
   "id": "704315d8",
   "metadata": {},
   "outputs": [],
   "source": [
    "#say no to warnings!\n",
    "import warnings\n",
    "warnings.filterwarnings(\"ignore\")\n",
    "import os\n",
    "os.environ['TF_CPP_MIN_LOG_LEVEL'] = '3' \n",
    "import tensorflow as tf\n",
    "tf.compat.v1.logging.set_verbosity(tf.compat.v1.logging.ERROR)"
   ]
  },
  {
   "cell_type": "code",
   "execution_count": 2,
   "id": "b248b037",
   "metadata": {},
   "outputs": [],
   "source": [
    "import numpy as np\n",
    "import tensorflow as tf\n",
    "import matplotlib.pyplot as plt\n",
    "from sklearn.datasets import load_iris\n",
    "from sklearn.model_selection import train_test_split\n",
    "from sklearn.metrics import confusion_matrix\n",
    "from tensorflow.keras import Sequential\n",
    "from tensorflow.keras.layers import InputLayer,Dense\n",
    "from tensorflow.keras.datasets.mnist import load_data as mnist_load_data\n",
    "from tensorflow.keras.backend import clear_session"
   ]
  },
  {
   "cell_type": "markdown",
   "id": "cdf58452",
   "metadata": {},
   "source": [
    "# Iris e matrice di confusione"
   ]
  },
  {
   "cell_type": "code",
   "execution_count": 3,
   "id": "8e643524",
   "metadata": {},
   "outputs": [],
   "source": [
    "iris = load_iris()\n",
    "xtrain, xtest, ytrain, ytest = train_test_split(iris['data'],iris['target'])"
   ]
  },
  {
   "cell_type": "code",
   "execution_count": 4,
   "id": "394e522a",
   "metadata": {},
   "outputs": [],
   "source": [
    "def get_iris_net():\n",
    "    tf.random.set_seed(2022)\n",
    "    model = Sequential()\n",
    "    model.add(InputLayer(input_shape=(4,)))\n",
    "    model.add(Dense(32,activation='relu'))\n",
    "    model.add(Dense(32,activation='relu'))\n",
    "    model.add(Dense(3,activation='softmax'))\n",
    "    return model"
   ]
  },
  {
   "cell_type": "code",
   "execution_count": 5,
   "id": "fa67e146",
   "metadata": {},
   "outputs": [],
   "source": [
    "model = get_iris_net()\n",
    "model.compile(loss='sparse_categorical_crossentropy', metrics=['accuracy'])"
   ]
  },
  {
   "cell_type": "code",
   "execution_count": 6,
   "id": "1b1a1122",
   "metadata": {},
   "outputs": [
    {
     "data": {
      "text/plain": [
       "array([[0.97704303, 0.01444575, 0.00851123],\n",
       "       [0.9399149 , 0.03809953, 0.0219856 ],\n",
       "       [0.9534545 , 0.0282326 , 0.01831291],\n",
       "       [0.7770758 , 0.11928175, 0.10364246],\n",
       "       [0.9455842 , 0.03239717, 0.02201863],\n",
       "       [0.7873716 , 0.11833682, 0.09429164],\n",
       "       [0.9550651 , 0.02762235, 0.01731252],\n",
       "       [0.97545105, 0.01485932, 0.00968966],\n",
       "       [0.92804796, 0.04142777, 0.03052427],\n",
       "       [0.9199722 , 0.04665657, 0.03337125],\n",
       "       [0.9601479 , 0.02359388, 0.0162581 ],\n",
       "       [0.932437  , 0.03853341, 0.02902957],\n",
       "       [0.98019654, 0.01302368, 0.00677983],\n",
       "       [0.80610186, 0.10544462, 0.08845343],\n",
       "       [0.9267862 , 0.04314266, 0.03007103],\n",
       "       [0.7624826 , 0.12782037, 0.10969702],\n",
       "       [0.76816434, 0.12463129, 0.10720434],\n",
       "       [0.732337  , 0.1422621 , 0.12540089],\n",
       "       [0.7818802 , 0.12070927, 0.09741054],\n",
       "       [0.7824007 , 0.11697781, 0.10062151],\n",
       "       [0.98584366, 0.0090493 , 0.00510697],\n",
       "       [0.7171597 , 0.15074255, 0.13209774],\n",
       "       [0.7300134 , 0.14169255, 0.128294  ],\n",
       "       [0.8626234 , 0.07904618, 0.05833046],\n",
       "       [0.92247707, 0.04512602, 0.03239685],\n",
       "       [0.960841  , 0.02381419, 0.01534481],\n",
       "       [0.73130476, 0.14391588, 0.12477934],\n",
       "       [0.97918826, 0.01271764, 0.00809408],\n",
       "       [0.9568647 , 0.0266274 , 0.01650797],\n",
       "       [0.7505497 , 0.13399829, 0.11545198],\n",
       "       [0.810328  , 0.10057925, 0.08909276],\n",
       "       [0.97651446, 0.01468149, 0.00880409],\n",
       "       [0.94210815, 0.03419987, 0.0236921 ],\n",
       "       [0.7441018 , 0.13725804, 0.11864018],\n",
       "       [0.97576046, 0.01533559, 0.00890388],\n",
       "       [0.9604263 , 0.02403722, 0.01553657],\n",
       "       [0.9825246 , 0.01113756, 0.00633796],\n",
       "       [0.7882652 , 0.11034434, 0.10139047]], dtype=float32)"
      ]
     },
     "execution_count": 6,
     "metadata": {},
     "output_type": "execute_result"
    }
   ],
   "source": [
    "predictions_before = model.predict(xtest)\n",
    "predictions_before"
   ]
  },
  {
   "cell_type": "code",
   "execution_count": 7,
   "id": "aa80935a",
   "metadata": {},
   "outputs": [],
   "source": [
    "pred_indexes_before = np.argmax(predictions_before,axis=1)"
   ]
  },
  {
   "cell_type": "code",
   "execution_count": 8,
   "id": "1b7e6c9d",
   "metadata": {},
   "outputs": [
    {
     "data": {
      "text/plain": [
       "array([[15,  0,  0],\n",
       "       [10,  0,  0],\n",
       "       [13,  0,  0]])"
      ]
     },
     "execution_count": 8,
     "metadata": {},
     "output_type": "execute_result"
    }
   ],
   "source": [
    "confusion_matrix(ytest,pred_indexes_before)"
   ]
  },
  {
   "cell_type": "code",
   "execution_count": 9,
   "id": "69e5f301",
   "metadata": {},
   "outputs": [
    {
     "data": {
      "text/plain": [
       "(array([0, 1, 2]), array([15, 10, 13]))"
      ]
     },
     "execution_count": 9,
     "metadata": {},
     "output_type": "execute_result"
    }
   ],
   "source": [
    "np.unique(ytest,return_counts=True)"
   ]
  },
  {
   "cell_type": "code",
   "execution_count": 10,
   "id": "1a3b1300",
   "metadata": {},
   "outputs": [
    {
     "name": "stdout",
     "output_type": "stream",
     "text": [
      "Train on 112 samples, validate on 38 samples\n",
      "Epoch 1/50\n",
      "112/112 [==============================] - 0s 4ms/sample - loss: 2.2667 - accuracy: 0.3125 - val_loss: 1.5265 - val_accuracy: 0.3947\n",
      "Epoch 2/50\n",
      "112/112 [==============================] - 0s 174us/sample - loss: 1.5093 - accuracy: 0.3125 - val_loss: 1.2533 - val_accuracy: 0.3947\n",
      "Epoch 3/50\n",
      "112/112 [==============================] - 0s 228us/sample - loss: 1.2618 - accuracy: 0.3125 - val_loss: 1.1239 - val_accuracy: 0.3947\n",
      "Epoch 4/50\n",
      "112/112 [==============================] - 0s 245us/sample - loss: 1.1355 - accuracy: 0.1875 - val_loss: 1.0746 - val_accuracy: 0.2105\n",
      "Epoch 5/50\n",
      "112/112 [==============================] - 0s 213us/sample - loss: 1.0775 - accuracy: 0.2143 - val_loss: 1.0453 - val_accuracy: 0.4737\n",
      "Epoch 6/50\n",
      "112/112 [==============================] - 0s 240us/sample - loss: 1.0410 - accuracy: 0.3929 - val_loss: 1.0255 - val_accuracy: 0.4737\n",
      "Epoch 7/50\n",
      "112/112 [==============================] - 0s 229us/sample - loss: 1.0127 - accuracy: 0.4196 - val_loss: 1.0033 - val_accuracy: 0.5000\n",
      "Epoch 8/50\n",
      "112/112 [==============================] - 0s 258us/sample - loss: 0.9902 - accuracy: 0.4554 - val_loss: 0.9761 - val_accuracy: 0.5263\n",
      "Epoch 9/50\n",
      "112/112 [==============================] - 0s 238us/sample - loss: 0.9689 - accuracy: 0.4554 - val_loss: 0.9495 - val_accuracy: 0.3684\n",
      "Epoch 10/50\n",
      "112/112 [==============================] - 0s 246us/sample - loss: 0.9499 - accuracy: 0.3393 - val_loss: 0.9195 - val_accuracy: 0.4474\n",
      "Epoch 11/50\n",
      "112/112 [==============================] - 0s 279us/sample - loss: 0.9273 - accuracy: 0.5268 - val_loss: 0.9001 - val_accuracy: 0.7368\n",
      "Epoch 12/50\n",
      "112/112 [==============================] - 0s 265us/sample - loss: 0.8997 - accuracy: 0.6339 - val_loss: 0.8851 - val_accuracy: 0.8158\n",
      "Epoch 13/50\n",
      "112/112 [==============================] - 0s 250us/sample - loss: 0.8813 - accuracy: 0.6964 - val_loss: 0.8594 - val_accuracy: 0.9474\n",
      "Epoch 14/50\n",
      "112/112 [==============================] - 0s 277us/sample - loss: 0.8558 - accuracy: 0.8214 - val_loss: 0.8281 - val_accuracy: 0.9211\n",
      "Epoch 15/50\n",
      "112/112 [==============================] - 0s 257us/sample - loss: 0.8388 - accuracy: 0.7589 - val_loss: 0.7923 - val_accuracy: 0.9211\n",
      "Epoch 16/50\n",
      "112/112 [==============================] - 0s 260us/sample - loss: 0.8114 - accuracy: 0.7321 - val_loss: 0.7849 - val_accuracy: 0.9474\n",
      "Epoch 17/50\n",
      "112/112 [==============================] - 0s 266us/sample - loss: 0.7912 - accuracy: 0.8125 - val_loss: 0.7392 - val_accuracy: 0.7368\n",
      "Epoch 18/50\n",
      "112/112 [==============================] - 0s 265us/sample - loss: 0.7662 - accuracy: 0.6607 - val_loss: 0.7293 - val_accuracy: 0.9474\n",
      "Epoch 19/50\n",
      "112/112 [==============================] - 0s 250us/sample - loss: 0.7453 - accuracy: 0.8571 - val_loss: 0.7098 - val_accuracy: 0.9737\n",
      "Epoch 20/50\n",
      "112/112 [==============================] - 0s 254us/sample - loss: 0.7286 - accuracy: 0.7589 - val_loss: 0.6965 - val_accuracy: 0.7632\n",
      "Epoch 21/50\n",
      "112/112 [==============================] - 0s 250us/sample - loss: 0.7109 - accuracy: 0.8304 - val_loss: 0.6657 - val_accuracy: 0.8421\n",
      "Epoch 22/50\n",
      "112/112 [==============================] - 0s 274us/sample - loss: 0.6825 - accuracy: 0.8750 - val_loss: 0.6381 - val_accuracy: 0.9737\n",
      "Epoch 23/50\n",
      "112/112 [==============================] - 0s 265us/sample - loss: 0.6612 - accuracy: 0.9018 - val_loss: 0.6099 - val_accuracy: 0.9737\n",
      "Epoch 24/50\n",
      "112/112 [==============================] - 0s 242us/sample - loss: 0.6423 - accuracy: 0.8839 - val_loss: 0.5945 - val_accuracy: 0.8947\n",
      "Epoch 25/50\n",
      "112/112 [==============================] - 0s 260us/sample - loss: 0.6273 - accuracy: 0.8929 - val_loss: 0.5749 - val_accuracy: 0.8947\n",
      "Epoch 26/50\n",
      "112/112 [==============================] - 0s 270us/sample - loss: 0.6034 - accuracy: 0.8750 - val_loss: 0.5407 - val_accuracy: 0.9474\n",
      "Epoch 27/50\n",
      "112/112 [==============================] - 0s 258us/sample - loss: 0.5820 - accuracy: 0.9196 - val_loss: 0.5145 - val_accuracy: 0.7895\n",
      "Epoch 28/50\n",
      "112/112 [==============================] - 0s 281us/sample - loss: 0.5636 - accuracy: 0.7679 - val_loss: 0.4936 - val_accuracy: 0.9474\n",
      "Epoch 29/50\n",
      "112/112 [==============================] - 0s 259us/sample - loss: 0.5550 - accuracy: 0.8482 - val_loss: 0.4786 - val_accuracy: 0.9474\n",
      "Epoch 30/50\n",
      "112/112 [==============================] - 0s 282us/sample - loss: 0.5257 - accuracy: 0.9196 - val_loss: 0.4692 - val_accuracy: 0.9737\n",
      "Epoch 31/50\n",
      "112/112 [==============================] - 0s 268us/sample - loss: 0.5114 - accuracy: 0.8839 - val_loss: 0.4689 - val_accuracy: 0.8947\n",
      "Epoch 32/50\n",
      "112/112 [==============================] - 0s 273us/sample - loss: 0.4949 - accuracy: 0.9286 - val_loss: 0.4280 - val_accuracy: 0.9474\n",
      "Epoch 33/50\n",
      "112/112 [==============================] - 0s 253us/sample - loss: 0.4811 - accuracy: 0.8839 - val_loss: 0.4187 - val_accuracy: 0.9474\n",
      "Epoch 34/50\n",
      "112/112 [==============================] - 0s 268us/sample - loss: 0.4647 - accuracy: 0.9286 - val_loss: 0.4060 - val_accuracy: 0.9737\n",
      "Epoch 35/50\n",
      "112/112 [==============================] - 0s 276us/sample - loss: 0.4538 - accuracy: 0.9464 - val_loss: 0.3886 - val_accuracy: 0.8421\n",
      "Epoch 36/50\n",
      "112/112 [==============================] - 0s 268us/sample - loss: 0.4523 - accuracy: 0.8304 - val_loss: 0.3896 - val_accuracy: 0.9737\n",
      "Epoch 37/50\n",
      "112/112 [==============================] - 0s 231us/sample - loss: 0.4401 - accuracy: 0.9286 - val_loss: 0.3676 - val_accuracy: 0.9211\n",
      "Epoch 38/50\n",
      "112/112 [==============================] - 0s 241us/sample - loss: 0.4248 - accuracy: 0.9107 - val_loss: 0.3710 - val_accuracy: 0.9737\n",
      "Epoch 39/50\n",
      "112/112 [==============================] - 0s 249us/sample - loss: 0.4162 - accuracy: 0.9643 - val_loss: 0.3663 - val_accuracy: 0.9474\n",
      "Epoch 40/50\n",
      "112/112 [==============================] - 0s 253us/sample - loss: 0.4052 - accuracy: 0.9375 - val_loss: 0.3514 - val_accuracy: 1.0000\n",
      "Epoch 41/50\n",
      "112/112 [==============================] - 0s 256us/sample - loss: 0.3960 - accuracy: 0.9554 - val_loss: 0.3366 - val_accuracy: 0.9211\n",
      "Epoch 42/50\n",
      "112/112 [==============================] - 0s 288us/sample - loss: 0.3853 - accuracy: 0.9018 - val_loss: 0.3541 - val_accuracy: 0.9211\n",
      "Epoch 43/50\n",
      "112/112 [==============================] - 0s 244us/sample - loss: 0.3799 - accuracy: 0.9464 - val_loss: 0.3171 - val_accuracy: 0.9474\n",
      "Epoch 44/50\n",
      "112/112 [==============================] - 0s 240us/sample - loss: 0.3769 - accuracy: 0.9107 - val_loss: 0.3110 - val_accuracy: 0.9211\n",
      "Epoch 45/50\n",
      "112/112 [==============================] - 0s 253us/sample - loss: 0.3633 - accuracy: 0.9196 - val_loss: 0.3079 - val_accuracy: 0.9737\n",
      "Epoch 46/50\n",
      "112/112 [==============================] - 0s 241us/sample - loss: 0.3609 - accuracy: 0.9554 - val_loss: 0.3000 - val_accuracy: 0.9737\n",
      "Epoch 47/50\n",
      "112/112 [==============================] - 0s 264us/sample - loss: 0.3484 - accuracy: 0.9375 - val_loss: 0.3054 - val_accuracy: 0.9211\n",
      "Epoch 48/50\n",
      "112/112 [==============================] - 0s 263us/sample - loss: 0.3553 - accuracy: 0.9107 - val_loss: 0.2867 - val_accuracy: 0.9737\n",
      "Epoch 49/50\n",
      "112/112 [==============================] - 0s 257us/sample - loss: 0.3347 - accuracy: 0.9464 - val_loss: 0.2902 - val_accuracy: 0.9474\n",
      "Epoch 50/50\n",
      "112/112 [==============================] - 0s 257us/sample - loss: 0.3272 - accuracy: 0.9732 - val_loss: 0.2861 - val_accuracy: 0.9474\n"
     ]
    },
    {
     "data": {
      "text/plain": [
       "<tensorflow.python.keras.callbacks.History at 0x7fc2a40a1e10>"
      ]
     },
     "execution_count": 10,
     "metadata": {},
     "output_type": "execute_result"
    }
   ],
   "source": [
    "model.fit(xtrain,ytrain,validation_data=(xtest,ytest),epochs=50)"
   ]
  },
  {
   "cell_type": "code",
   "execution_count": 11,
   "id": "18688ee9",
   "metadata": {},
   "outputs": [
    {
     "data": {
      "text/plain": [
       "array([2, 1, 1, 0, 1, 0, 1, 2, 1, 1, 1, 1, 2, 0, 1, 0, 0, 0, 0, 0, 2, 0,\n",
       "       0, 1, 1, 2, 0, 2, 2, 0, 0, 2, 2, 0, 2, 1, 2, 0])"
      ]
     },
     "execution_count": 11,
     "metadata": {},
     "output_type": "execute_result"
    }
   ],
   "source": [
    "predictions_after = model.predict(xtest)\n",
    "pred_indexes_after= np.argmax(predictions_after,axis=1)\n",
    "pred_indexes_after"
   ]
  },
  {
   "cell_type": "code",
   "execution_count": 12,
   "id": "36272097",
   "metadata": {},
   "outputs": [
    {
     "data": {
      "text/plain": [
       "array([[15,  0,  0],\n",
       "       [ 0, 10,  0],\n",
       "       [ 0,  2, 11]])"
      ]
     },
     "execution_count": 12,
     "metadata": {},
     "output_type": "execute_result"
    }
   ],
   "source": [
    "confusion_matrix(ytest,pred_indexes_after)"
   ]
  },
  {
   "cell_type": "markdown",
   "id": "5f148c49",
   "metadata": {},
   "source": [
    "# MNIST e analisi misclassificazione"
   ]
  },
  {
   "cell_type": "code",
   "execution_count": 13,
   "id": "c8b36b44",
   "metadata": {},
   "outputs": [],
   "source": [
    "(x_train, y_train), (x_test, y_test) = mnist_load_data()\n",
    "num_datapoints_train = x_train.shape[0]\n",
    "num_datapoints_test = x_test.shape[0]\n",
    "x_train = np.reshape(x_train, [num_datapoints_train, -1])\n",
    "x_test = np.reshape(x_test, [num_datapoints_test, -1])\n",
    "x_train.shape\n",
    "x_train = x_train.astype(\"float32\") / 255\n",
    "x_test = x_test.astype(\"float32\") / 255"
   ]
  },
  {
   "cell_type": "code",
   "execution_count": 14,
   "id": "2af9c3b7",
   "metadata": {},
   "outputs": [],
   "source": [
    "def get_mnist_mlp():\n",
    "    model = Sequential()\n",
    "    model.add(InputLayer(input_shape=(784,)))\n",
    "    model.add(Dense(1000,activation='relu'))\n",
    "    model.add(Dense(1000,activation='relu'))\n",
    "    model.add(Dense(10,activation='softmax'))\n",
    "    return model"
   ]
  },
  {
   "cell_type": "code",
   "execution_count": 15,
   "id": "6a6f028e",
   "metadata": {},
   "outputs": [
    {
     "name": "stdout",
     "output_type": "stream",
     "text": [
      "Train on 60000 samples, validate on 10000 samples\n",
      "Epoch 1/2\n",
      "60000/60000 [==============================] - 7s 120us/sample - loss: 0.2032 - accuracy: 0.9421 - val_loss: 0.1393 - val_accuracy: 0.9632\n",
      "Epoch 2/2\n",
      "60000/60000 [==============================] - 7s 116us/sample - loss: 0.1203 - accuracy: 0.9716 - val_loss: 0.1588 - val_accuracy: 0.9612\n"
     ]
    },
    {
     "data": {
      "text/plain": [
       "<tensorflow.python.keras.callbacks.History at 0x7fc244105dd0>"
      ]
     },
     "execution_count": 15,
     "metadata": {},
     "output_type": "execute_result"
    }
   ],
   "source": [
    "model = get_mnist_mlp()\n",
    "model.compile(loss='sparse_categorical_crossentropy',metrics=['accuracy'])\n",
    "model.fit(x_train,y_train,validation_data=(x_test,y_test), epochs=2)"
   ]
  },
  {
   "cell_type": "code",
   "execution_count": 16,
   "id": "8eb354b2",
   "metadata": {},
   "outputs": [
    {
     "name": "stdout",
     "output_type": "stream",
     "text": [
      "10000/10000 [==============================] - 1s 72us/sample - loss: 0.1588 - accuracy: 0.9612\n"
     ]
    },
    {
     "data": {
      "text/plain": [
       "[0.1587614304990857, 0.9612]"
      ]
     },
     "execution_count": 16,
     "metadata": {},
     "output_type": "execute_result"
    }
   ],
   "source": [
    "model.evaluate(x_test,y_test)"
   ]
  },
  {
   "cell_type": "code",
   "execution_count": 17,
   "id": "85934e46",
   "metadata": {},
   "outputs": [
    {
     "data": {
      "text/plain": [
       "array([[ 972,    0,    1,    1,    0,    2,    2,    1,    1,    0],\n",
       "       [   0, 1004,   11,    2,    0,    2,   18,    5,   92,    1],\n",
       "       [   1,    0, 1015,    3,    1,    0,    5,    4,    2,    1],\n",
       "       [   0,    0,    7,  973,    0,   17,    0,    4,    4,    5],\n",
       "       [   1,    0,    3,    0,  936,    2,   14,    4,    0,   22],\n",
       "       [   5,    0,    0,    3,    2,  871,    7,    0,    3,    1],\n",
       "       [   5,    0,    2,    0,    1,    1,  946,    0,    3,    0],\n",
       "       [   2,    0,   13,    5,    3,    1,    0,  999,    3,    2],\n",
       "       [   2,    0,    4,    7,    4,   14,    4,    3,  932,    4],\n",
       "       [   3,    0,    0,    9,    5,   16,    0,    5,    7,  964]])"
      ]
     },
     "execution_count": 17,
     "metadata": {},
     "output_type": "execute_result"
    }
   ],
   "source": [
    "predictions_after = model.predict(x_test)\n",
    "pred_indexes_after= np.argmax(predictions_after,axis=1)\n",
    "confusion_matrix(y_test,pred_indexes_after)"
   ]
  },
  {
   "cell_type": "code",
   "execution_count": 18,
   "id": "217d9843",
   "metadata": {},
   "outputs": [
    {
     "data": {
      "text/plain": [
       "array([[ 0,  0,  1,  1,  0,  2,  2,  1,  1,  0],\n",
       "       [ 0,  0, 11,  2,  0,  2, 18,  5, 92,  1],\n",
       "       [ 1,  0,  0,  3,  1,  0,  5,  4,  2,  1],\n",
       "       [ 0,  0,  7,  0,  0, 17,  0,  4,  4,  5],\n",
       "       [ 1,  0,  3,  0,  0,  2, 14,  4,  0, 22],\n",
       "       [ 5,  0,  0,  3,  2,  0,  7,  0,  3,  1],\n",
       "       [ 5,  0,  2,  0,  1,  1,  0,  0,  3,  0],\n",
       "       [ 2,  0, 13,  5,  3,  1,  0,  0,  3,  2],\n",
       "       [ 2,  0,  4,  7,  4, 14,  4,  3,  0,  4],\n",
       "       [ 3,  0,  0,  9,  5, 16,  0,  5,  7,  0]])"
      ]
     },
     "execution_count": 18,
     "metadata": {},
     "output_type": "execute_result"
    }
   ],
   "source": [
    "cm = confusion_matrix(y_test,pred_indexes_after)\n",
    "cm[range(10),range(10)]=0\n",
    "cm"
   ]
  },
  {
   "cell_type": "code",
   "execution_count": 19,
   "id": "436d4bc5",
   "metadata": {},
   "outputs": [
    {
     "data": {
      "text/plain": [
       "388"
      ]
     },
     "execution_count": 19,
     "metadata": {},
     "output_type": "execute_result"
    }
   ],
   "source": [
    "sum(cm.flatten())"
   ]
  },
  {
   "cell_type": "code",
   "execution_count": 20,
   "id": "e8580d80",
   "metadata": {},
   "outputs": [
    {
     "data": {
      "text/plain": [
       "0.9612"
      ]
     },
     "execution_count": 20,
     "metadata": {},
     "output_type": "execute_result"
    }
   ],
   "source": [
    "1-(sum(cm.flatten())/len(y_test))"
   ]
  },
  {
   "cell_type": "code",
   "execution_count": 21,
   "id": "75178116",
   "metadata": {},
   "outputs": [
    {
     "data": {
      "text/plain": [
       "388"
      ]
     },
     "execution_count": 21,
     "metadata": {},
     "output_type": "execute_result"
    }
   ],
   "source": [
    "misclassified = [i for i in range(len(y_test)) if y_test[i]!=pred_indexes_after[i]]\n",
    "len(misclassified)"
   ]
  },
  {
   "cell_type": "code",
   "execution_count": 22,
   "id": "58cf9375",
   "metadata": {},
   "outputs": [
    {
     "name": "stdout",
     "output_type": "stream",
     "text": [
      "[1178 1760  321 7921 1865 5749 8540 1878 9692 8094 4140 2343]\n"
     ]
    },
    {
     "data": {
      "image/png": "[encoded data removed]",
      "text/plain": [
       "<Figure size 1152x648 with 12 Axes>"
      ]
     },
     "metadata": {},
     "output_type": "display_data"
    }
   ],
   "source": [
    "plt.figure(figsize=(16,9))\n",
    "examples = np.random.choice(misclassified,12)\n",
    "print(examples)\n",
    "for i,e in enumerate(examples):\n",
    "    plt.subplot(3,4,i+1)\n",
    "    plt.imshow(x_test[e].reshape(28,28),cmap='Blues')\n",
    "    plt.title('Is '+str(y_test[e])+', classif as '+str(pred_indexes_after[e]))\n",
    "    plt.xticks([],[])\n",
    "    plt.yticks([],[])\n",
    "plt.tight_layout();"
   ]
  },
  {
   "cell_type": "code",
   "execution_count": null,
   "id": "5f09f124",
   "metadata": {},
   "outputs": [],
   "source": []
  }
 ],
 "metadata": {
  "kernelspec": {
   "display_name": "tflow",
   "language": "python",
   "name": "tflow"
  },
  "language_info": {
   "codemirror_mode": {
    "name": "ipython",
    "version": 3
   },
   "file_extension": ".py",
   "mimetype": "text/x-python",
   "name": "python",
   "nbconvert_exporter": "python",
   "pygments_lexer": "ipython3",
   "version": "3.7.13"
  }
 },
 "nbformat": 4,
 "nbformat_minor": 5
}
