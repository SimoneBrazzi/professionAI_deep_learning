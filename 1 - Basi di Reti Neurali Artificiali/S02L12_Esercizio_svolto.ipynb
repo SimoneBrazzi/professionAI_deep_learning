{
 "cells": [
  {
   "cell_type": "markdown",
   "id": "73460ff8",
   "metadata": {},
   "source": [
    "### Prendiamo sempre il dataset MNIST. Facciamo un classificatore pari-dispari\n",
    " - Prendi il dataset crea delle labels binarie\n",
    " - Fai split e preprocessing come nel notebook precedente\n",
    " - Crea un MLP come nel notebook precedente ed addestralo"
   ]
  },
  {
   "cell_type": "markdown",
   "id": "af9a0f31",
   "metadata": {},
   "source": [
    "### Singolo neurone di output\n",
    "- Per classificazione binaria, posso anche costruire la rete usando UN neurone di output, sigmoide e binary crossentropy!\n",
    " - Crea ed addestra un MLP di questo tipo, senza toccare il dataset"
   ]
  },
  {
   "cell_type": "markdown",
   "id": "2edf4328",
   "metadata": {},
   "source": [
    "### API funzionali\n",
    "- sempre senza toccare il dataset, ricrea il modello precedente usando le API funzionali ed addestralo"
   ]
  },
  {
   "cell_type": "markdown",
   "id": "44e87968",
   "metadata": {},
   "source": [
    "<font color='red'>Va BENISSIMO fare copia-incolla dai notebook precedenti: <br>\n",
    "    &nbsp;&nbsp;&nbsp;&nbsp; → non devi imparare cose a memoria, devi capire come funzionano e sapere dove copiare, cosa modifiare e come! <br>\n",
    "    Riesci a superare tutti gli errori ed a ottenere delle buone test accuracy?</font>"
   ]
  },
  {
   "cell_type": "code",
   "execution_count": 1,
   "id": "d191a559",
   "metadata": {},
   "outputs": [],
   "source": [
    "#say no to warnings!\n",
    "import warnings\n",
    "warnings.filterwarnings(\"ignore\")\n",
    "import os\n",
    "os.environ['TF_CPP_MIN_LOG_LEVEL'] = '3' \n",
    "import tensorflow as tf\n",
    "tf.compat.v1.logging.set_verbosity(tf.compat.v1.logging.ERROR)"
   ]
  },
  {
   "cell_type": "code",
   "execution_count": 2,
   "id": "1d680274",
   "metadata": {},
   "outputs": [],
   "source": [
    "from tensorflow.keras.datasets.mnist import load_data\n",
    "from tensorflow.keras.backend import clear_session\n",
    "from tensorflow.keras import Sequential,Model\n",
    "from tensorflow.keras.layers import InputLayer,Dense,Input\n",
    "import numpy as np"
   ]
  },
  {
   "cell_type": "markdown",
   "id": "a6b2d3e2",
   "metadata": {},
   "source": [
    "# Dataset"
   ]
  },
  {
   "cell_type": "code",
   "execution_count": 3,
   "id": "c6a28513",
   "metadata": {},
   "outputs": [],
   "source": [
    "(x_train, y_train), (x_test, y_test) = load_data()\n",
    "x_train_flat = np.reshape(x_train, (60000,784))\n",
    "x_test_flat = np.reshape(x_test, (10000,784))\n",
    "x_train_flat = x_train_flat.astype(\"float32\") / 255\n",
    "x_test_flat = x_test_flat.astype(\"float32\") / 255\n",
    "y_train_bin = y_train%2\n",
    "y_test_bin = y_test%2"
   ]
  },
  {
   "cell_type": "markdown",
   "id": "2b35b10a",
   "metadata": {},
   "source": [
    "# Modello con due neuroni"
   ]
  },
  {
   "cell_type": "code",
   "execution_count": 4,
   "id": "d0f3fd9c",
   "metadata": {},
   "outputs": [],
   "source": [
    "def get_seq_model():\n",
    "    seq_model = Sequential()\n",
    "    seq_model.add(InputLayer(input_shape=(784,)))\n",
    "    seq_model.add(Dense(500,activation='relu'))\n",
    "    seq_model.add(Dense(500,activation='relu'))\n",
    "    seq_model.add(Dense(2,activation='softmax'))\n",
    "    seq_model.compile(loss='sparse_categorical_crossentropy',metrics=['accuracy'])\n",
    "    return seq_model"
   ]
  },
  {
   "cell_type": "code",
   "execution_count": 5,
   "id": "ac22ea58",
   "metadata": {},
   "outputs": [],
   "source": [
    "clear_session()\n",
    "seq_model = get_seq_model()"
   ]
  },
  {
   "cell_type": "code",
   "execution_count": 6,
   "id": "7238b733",
   "metadata": {},
   "outputs": [
    {
     "name": "stdout",
     "output_type": "stream",
     "text": [
      "313/313 [==============================] - 1s 1ms/step - loss: 0.7254 - accuracy: 0.4761\n"
     ]
    },
    {
     "data": {
      "text/plain": [
       "[0.7253998517990112, 0.47609999775886536]"
      ]
     },
     "execution_count": 6,
     "metadata": {},
     "output_type": "execute_result"
    }
   ],
   "source": [
    "seq_model.evaluate(x_test_flat,y_test_bin)"
   ]
  },
  {
   "cell_type": "code",
   "execution_count": 7,
   "id": "b8931f0b",
   "metadata": {},
   "outputs": [
    {
     "name": "stdout",
     "output_type": "stream",
     "text": [
      "1875/1875 [==============================] - 7s 4ms/step - loss: 0.1073 - accuracy: 0.9640 - val_loss: 0.0596 - val_accuracy: 0.9815\n"
     ]
    },
    {
     "data": {
      "text/plain": [
       "<keras.callbacks.History at 0x1b7840820>"
      ]
     },
     "execution_count": 7,
     "metadata": {},
     "output_type": "execute_result"
    }
   ],
   "source": [
    "seq_model.fit(x_train_flat,y_train_bin,epochs=1,\\\n",
    "             validation_data=(x_test_flat,y_test_bin))"
   ]
  },
  {
   "cell_type": "code",
   "execution_count": 8,
   "id": "23a4a4a7",
   "metadata": {},
   "outputs": [
    {
     "name": "stdout",
     "output_type": "stream",
     "text": [
      "313/313 [==============================] - 0s 1ms/step - loss: 0.0596 - accuracy: 0.9815\n"
     ]
    },
    {
     "data": {
      "text/plain": [
       "[0.05964532494544983, 0.9815000295639038]"
      ]
     },
     "execution_count": 8,
     "metadata": {},
     "output_type": "execute_result"
    }
   ],
   "source": [
    "seq_model.evaluate(x_test_flat,y_test_bin)"
   ]
  },
  {
   "cell_type": "markdown",
   "id": "ab81cffd",
   "metadata": {},
   "source": [
    "# Modello con un neurone"
   ]
  },
  {
   "cell_type": "code",
   "execution_count": 9,
   "id": "8ed44580",
   "metadata": {},
   "outputs": [],
   "source": [
    "def get_one_neuron_model():\n",
    "    seq_model = Sequential()\n",
    "    seq_model.add(InputLayer(input_shape=(784,)))\n",
    "    seq_model.add(Dense(500,activation='relu'))\n",
    "    seq_model.add(Dense(500,activation='relu'))\n",
    "    seq_model.add(Dense(1,activation='sigmoid'))\n",
    "    seq_model.compile(loss='binary_crossentropy',metrics=['accuracy'])\n",
    "    return seq_model"
   ]
  },
  {
   "cell_type": "code",
   "execution_count": 10,
   "id": "8612f5f5",
   "metadata": {},
   "outputs": [],
   "source": [
    "clear_session()\n",
    "one_neuron_model = get_one_neuron_model()"
   ]
  },
  {
   "cell_type": "code",
   "execution_count": 11,
   "id": "bdc47575",
   "metadata": {},
   "outputs": [
    {
     "name": "stdout",
     "output_type": "stream",
     "text": [
      "313/313 [==============================] - 1s 1ms/step - loss: 0.7051 - accuracy: 0.4778\n"
     ]
    },
    {
     "data": {
      "text/plain": [
       "[0.705148458480835, 0.47780001163482666]"
      ]
     },
     "execution_count": 11,
     "metadata": {},
     "output_type": "execute_result"
    }
   ],
   "source": [
    "one_neuron_model.evaluate(x_test_flat,y_test_bin)"
   ]
  },
  {
   "cell_type": "code",
   "execution_count": 12,
   "id": "77d14a11",
   "metadata": {},
   "outputs": [
    {
     "name": "stdout",
     "output_type": "stream",
     "text": [
      "1875/1875 [==============================] - 7s 4ms/step - loss: 0.1028 - accuracy: 0.9651 - val_loss: 0.0910 - val_accuracy: 0.9697\n"
     ]
    },
    {
     "data": {
      "text/plain": [
       "<keras.callbacks.History at 0x1b7a2ddb0>"
      ]
     },
     "execution_count": 12,
     "metadata": {},
     "output_type": "execute_result"
    }
   ],
   "source": [
    "one_neuron_model.fit(x_train_flat,y_train_bin,epochs=1,\\\n",
    "             validation_data=(x_test_flat,y_test_bin))"
   ]
  },
  {
   "cell_type": "code",
   "execution_count": 13,
   "id": "ff80c51f",
   "metadata": {},
   "outputs": [
    {
     "name": "stdout",
     "output_type": "stream",
     "text": [
      "313/313 [==============================] - 0s 2ms/step - loss: 0.0910 - accuracy: 0.9697\n"
     ]
    },
    {
     "data": {
      "text/plain": [
       "[0.0910438746213913, 0.9696999788284302]"
      ]
     },
     "execution_count": 13,
     "metadata": {},
     "output_type": "execute_result"
    }
   ],
   "source": [
    "one_neuron_model.evaluate(x_test_flat,y_test_bin)"
   ]
  },
  {
   "cell_type": "markdown",
   "id": "1ac2b1d2",
   "metadata": {},
   "source": [
    "# Modello funzionale"
   ]
  },
  {
   "cell_type": "code",
   "execution_count": 14,
   "id": "5364828d",
   "metadata": {},
   "outputs": [],
   "source": [
    "def get_func_model():\n",
    "    input_layer = Input(shape=(784,))\n",
    "    hidden_layer_one = Dense(500,activation='relu')(input_layer)\n",
    "    hidden_layer_two = Dense(500,activation='relu')(hidden_layer_one)\n",
    "    output_layer = Dense(1,activation='sigmoid')(hidden_layer_two)\n",
    "    func_model = Model(inputs=input_layer,outputs=output_layer)\n",
    "    func_model.compile(loss='binary_crossentropy',metrics=['accuracy'])\n",
    "    return func_model"
   ]
  },
  {
   "cell_type": "code",
   "execution_count": 15,
   "id": "bc228fa5",
   "metadata": {},
   "outputs": [],
   "source": [
    "clear_session()\n",
    "func_model = get_func_model()"
   ]
  },
  {
   "cell_type": "code",
   "execution_count": 16,
   "id": "a4e8dedd",
   "metadata": {},
   "outputs": [
    {
     "name": "stdout",
     "output_type": "stream",
     "text": [
      "313/313 [==============================] - 1s 1ms/step - loss: 0.7001 - accuracy: 0.5005\n"
     ]
    },
    {
     "data": {
      "text/plain": [
       "[0.7001160979270935, 0.5005000233650208]"
      ]
     },
     "execution_count": 16,
     "metadata": {},
     "output_type": "execute_result"
    }
   ],
   "source": [
    "func_model.evaluate(x_test_flat,y_test_bin)"
   ]
  },
  {
   "cell_type": "code",
   "execution_count": 17,
   "id": "761dd594",
   "metadata": {},
   "outputs": [
    {
     "name": "stdout",
     "output_type": "stream",
     "text": [
      "1875/1875 [==============================] - 7s 3ms/step - loss: 0.1044 - accuracy: 0.9645 - val_loss: 0.0709 - val_accuracy: 0.9778\n"
     ]
    },
    {
     "data": {
      "text/plain": [
       "<keras.callbacks.History at 0x1b7be0790>"
      ]
     },
     "execution_count": 17,
     "metadata": {},
     "output_type": "execute_result"
    }
   ],
   "source": [
    "func_model.fit(x_train_flat,y_train_bin,epochs=1,\\\n",
    "             validation_data=(x_test_flat,y_test_bin))"
   ]
  },
  {
   "cell_type": "code",
   "execution_count": 18,
   "id": "d1486e76",
   "metadata": {},
   "outputs": [
    {
     "name": "stdout",
     "output_type": "stream",
     "text": [
      "313/313 [==============================] - 0s 1ms/step - loss: 0.0709 - accuracy: 0.9778\n"
     ]
    },
    {
     "data": {
      "text/plain": [
       "[0.0708797350525856, 0.9778000116348267]"
      ]
     },
     "execution_count": 18,
     "metadata": {},
     "output_type": "execute_result"
    }
   ],
   "source": [
    "func_model.evaluate(x_test_flat,y_test_bin)"
   ]
  },
  {
   "cell_type": "code",
   "execution_count": null,
   "id": "80386a15",
   "metadata": {},
   "outputs": [],
   "source": []
  },
  {
   "cell_type": "code",
   "execution_count": null,
   "id": "380c26da",
   "metadata": {},
   "outputs": [],
   "source": []
  },
  {
   "cell_type": "code",
   "execution_count": null,
   "id": "15aa4d98",
   "metadata": {},
   "outputs": [],
   "source": []
  }
 ],
 "metadata": {
  "kernelspec": {
   "display_name": "tflw",
   "language": "python",
   "name": "tflw"
  },
  "language_info": {
   "codemirror_mode": {
    "name": "ipython",
    "version": 3
   },
   "file_extension": ".py",
   "mimetype": "text/x-python",
   "name": "python",
   "nbconvert_exporter": "python",
   "pygments_lexer": "ipython3",
   "version": "3.10.4"
  }
 },
 "nbformat": 4,
 "nbformat_minor": 5
}
