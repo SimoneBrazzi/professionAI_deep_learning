{
 "cells": [
  {
   "cell_type": "code",
   "execution_count": 1,
   "id": "32e5d787",
   "metadata": {},
   "outputs": [],
   "source": [
    "#FINALMENTE DEL CODICEEEEH"
   ]
  },
  {
   "cell_type": "code",
   "execution_count": 2,
   "id": "916d3178",
   "metadata": {},
   "outputs": [],
   "source": [
    "import numpy as np\n",
    "#\n",
    "import tensorflow as tf\n",
    "from tensorflow.keras.backend import clear_session\n",
    "from tensorflow.keras.models import Sequential\n",
    "from tensorflow.keras.layers import InputLayer,Dense"
   ]
  },
  {
   "cell_type": "code",
   "execution_count": 3,
   "id": "74954300",
   "metadata": {},
   "outputs": [],
   "source": [
    "#say no to warnings!\n",
    "import warnings\n",
    "warnings.filterwarnings(\"ignore\")\n",
    "import os\n",
    "os.environ['TF_CPP_MIN_LOG_LEVEL'] = '3' \n",
    "import tensorflow as tf\n",
    "tf.compat.v1.logging.set_verbosity(tf.compat.v1.logging.ERROR)"
   ]
  },
  {
   "cell_type": "markdown",
   "id": "8b93ca48",
   "metadata": {},
   "source": [
    "# MODELLO SEQUENZIALE"
   ]
  },
  {
   "cell_type": "code",
   "execution_count": 4,
   "id": "cb7b83a6",
   "metadata": {},
   "outputs": [],
   "source": [
    "seq_model = Sequential()\n",
    "input_layer = InputLayer(input_shape=(100,))\n",
    "hidden_layer_one = Dense(128,activation='relu')\n",
    "hidden_layer_two = Dense(32,activation='relu')\n",
    "output_layer = Dense(10,activation='softmax')"
   ]
  },
  {
   "cell_type": "code",
   "execution_count": 5,
   "id": "a7db9c07",
   "metadata": {},
   "outputs": [],
   "source": [
    "seq_model.add(input_layer)\n",
    "seq_model.add(hidden_layer_one)\n",
    "seq_model.add(hidden_layer_two)\n",
    "seq_model.add(output_layer)"
   ]
  },
  {
   "cell_type": "code",
   "execution_count": 6,
   "id": "05104454",
   "metadata": {},
   "outputs": [
    {
     "name": "stdout",
     "output_type": "stream",
     "text": [
      "Model: \"sequential\"\n",
      "_________________________________________________________________\n",
      "Layer (type)                 Output Shape              Param #   \n",
      "=================================================================\n",
      "dense (Dense)                (None, 128)               12928     \n",
      "_________________________________________________________________\n",
      "dense_1 (Dense)              (None, 32)                4128      \n",
      "_________________________________________________________________\n",
      "dense_2 (Dense)              (None, 10)                330       \n",
      "=================================================================\n",
      "Total params: 17,386\n",
      "Trainable params: 17,386\n",
      "Non-trainable params: 0\n",
      "_________________________________________________________________\n"
     ]
    }
   ],
   "source": [
    "seq_model.summary()"
   ]
  },
  {
   "cell_type": "code",
   "execution_count": 7,
   "id": "f1cd3186",
   "metadata": {},
   "outputs": [
    {
     "name": "stdout",
     "output_type": "stream",
     "text": [
      "12928\n",
      "4128\n",
      "330\n"
     ]
    }
   ],
   "source": [
    "print((100+1)*128)\n",
    "print((128+1)*32)\n",
    "print((32+1)*10)"
   ]
  },
  {
   "cell_type": "code",
   "execution_count": 8,
   "id": "4c6f2326",
   "metadata": {},
   "outputs": [],
   "source": [
    "def get_seq_model():\n",
    "    seq_model = Sequential()\n",
    "    input_layer = InputLayer(input_shape=(100,))\n",
    "    hidden_layer_one = Dense(128,activation='relu')\n",
    "    hidden_layer_two = Dense(32,activation='relu')\n",
    "    output_layer = Dense(10,activation='softmax')\n",
    "    seq_model.add(input_layer)\n",
    "    seq_model.add(hidden_layer_one)\n",
    "    seq_model.add(hidden_layer_two)\n",
    "    seq_model.add(output_layer)\n",
    "    return seq_model"
   ]
  },
  {
   "cell_type": "markdown",
   "id": "55e55b1f",
   "metadata": {},
   "source": [
    "# Propagazione in avanti"
   ]
  },
  {
   "cell_type": "code",
   "execution_count": 9,
   "id": "e0ccda1d",
   "metadata": {},
   "outputs": [],
   "source": [
    "x = np.random.rand(1,100).astype(np.float32)"
   ]
  },
  {
   "cell_type": "code",
   "execution_count": 10,
   "id": "c8f05fa7",
   "metadata": {},
   "outputs": [
    {
     "data": {
      "text/plain": [
       "array([[0.0888828 , 0.11633698, 0.18995553, 0.1260561 , 0.08493721,\n",
       "        0.08098055, 0.04852037, 0.10522322, 0.07181891, 0.08728833]],\n",
       "      dtype=float32)"
      ]
     },
     "execution_count": 10,
     "metadata": {},
     "output_type": "execute_result"
    }
   ],
   "source": [
    "seq_model = get_seq_model()\n",
    "seq_model.predict(x)"
   ]
  },
  {
   "cell_type": "code",
   "execution_count": 11,
   "id": "ba17aae4",
   "metadata": {},
   "outputs": [
    {
     "data": {
      "text/plain": [
       "array([[0.0888828 , 0.11633698, 0.18995553, 0.1260561 , 0.08493721,\n",
       "        0.08098055, 0.04852037, 0.10522322, 0.07181891, 0.08728833]],\n",
       "      dtype=float32)"
      ]
     },
     "execution_count": 11,
     "metadata": {},
     "output_type": "execute_result"
    }
   ],
   "source": [
    "seq_model.predict(x)"
   ]
  },
  {
   "cell_type": "code",
   "execution_count": 12,
   "id": "7ee2bf5a",
   "metadata": {},
   "outputs": [
    {
     "data": {
      "text/plain": [
       "array([[0.1506617 , 0.08956368, 0.08078044, 0.08538312, 0.09062907,\n",
       "        0.09775218, 0.11739088, 0.11615082, 0.08353748, 0.08815066]],\n",
       "      dtype=float32)"
      ]
     },
     "execution_count": 12,
     "metadata": {},
     "output_type": "execute_result"
    }
   ],
   "source": [
    "seq_model = get_seq_model()\n",
    "seq_model.predict(x)"
   ]
  },
  {
   "cell_type": "code",
   "execution_count": 13,
   "id": "968b0442",
   "metadata": {},
   "outputs": [
    {
     "name": "stdout",
     "output_type": "stream",
     "text": [
      "1.000000037252903\n",
      "0.9999999441206455\n",
      "1.000000063329935\n",
      "0.9999999441206455\n",
      "0.9999999962747097\n",
      "0.9999999552965164\n",
      "0.9999999701976776\n",
      "0.9999999664723873\n",
      "0.9999999478459358\n",
      "0.9999999552965164\n"
     ]
    }
   ],
   "source": [
    "for _ in range(10):\n",
    "    seq_model = get_seq_model()\n",
    "    pred = seq_model.predict(x)\n",
    "    print(sum(pred[0]))"
   ]
  },
  {
   "cell_type": "code",
   "execution_count": 14,
   "id": "434c6ee1",
   "metadata": {},
   "outputs": [
    {
     "data": {
      "text/plain": [
       "(1, 10)"
      ]
     },
     "execution_count": 14,
     "metadata": {},
     "output_type": "execute_result"
    }
   ],
   "source": [
    "x = np.random.rand(1,100).astype(np.float32)\n",
    "seq_model.predict(x).shape"
   ]
  },
  {
   "cell_type": "code",
   "execution_count": 15,
   "id": "d8548e69",
   "metadata": {},
   "outputs": [
    {
     "data": {
      "text/plain": [
       "(42, 10)"
      ]
     },
     "execution_count": 15,
     "metadata": {},
     "output_type": "execute_result"
    }
   ],
   "source": [
    "x = np.random.rand(42,100).astype(np.float32)\n",
    "seq_model.predict(x).shape"
   ]
  },
  {
   "cell_type": "markdown",
   "id": "9ff28036",
   "metadata": {},
   "source": [
    "# Pulizia backend"
   ]
  },
  {
   "cell_type": "code",
   "execution_count": 16,
   "id": "3061dd35",
   "metadata": {},
   "outputs": [
    {
     "name": "stdout",
     "output_type": "stream",
     "text": [
      "Model: \"sequential_13\"\n",
      "_________________________________________________________________\n",
      "Layer (type)                 Output Shape              Param #   \n",
      "=================================================================\n",
      "dense_39 (Dense)             (None, 128)               12928     \n",
      "_________________________________________________________________\n",
      "dense_40 (Dense)             (None, 32)                4128      \n",
      "_________________________________________________________________\n",
      "dense_41 (Dense)             (None, 10)                330       \n",
      "=================================================================\n",
      "Total params: 17,386\n",
      "Trainable params: 17,386\n",
      "Non-trainable params: 0\n",
      "_________________________________________________________________\n"
     ]
    }
   ],
   "source": [
    "seq_model = get_seq_model()\n",
    "seq_model.summary()"
   ]
  },
  {
   "cell_type": "code",
   "execution_count": 17,
   "id": "bf314cee",
   "metadata": {},
   "outputs": [
    {
     "name": "stdout",
     "output_type": "stream",
     "text": [
      "Model: \"sequential_14\"\n",
      "_________________________________________________________________\n",
      "Layer (type)                 Output Shape              Param #   \n",
      "=================================================================\n",
      "dense_42 (Dense)             (None, 128)               12928     \n",
      "_________________________________________________________________\n",
      "dense_43 (Dense)             (None, 32)                4128      \n",
      "_________________________________________________________________\n",
      "dense_44 (Dense)             (None, 10)                330       \n",
      "=================================================================\n",
      "Total params: 17,386\n",
      "Trainable params: 17,386\n",
      "Non-trainable params: 0\n",
      "_________________________________________________________________\n"
     ]
    }
   ],
   "source": [
    "seq_model = get_seq_model()\n",
    "seq_model.summary()"
   ]
  },
  {
   "cell_type": "code",
   "execution_count": 18,
   "id": "6a298350",
   "metadata": {},
   "outputs": [
    {
     "name": "stdout",
     "output_type": "stream",
     "text": [
      "Model: \"sequential\"\n",
      "_________________________________________________________________\n",
      "Layer (type)                 Output Shape              Param #   \n",
      "=================================================================\n",
      "dense (Dense)                (None, 128)               12928     \n",
      "_________________________________________________________________\n",
      "dense_1 (Dense)              (None, 32)                4128      \n",
      "_________________________________________________________________\n",
      "dense_2 (Dense)              (None, 10)                330       \n",
      "=================================================================\n",
      "Total params: 17,386\n",
      "Trainable params: 17,386\n",
      "Non-trainable params: 0\n",
      "_________________________________________________________________\n"
     ]
    }
   ],
   "source": [
    "clear_session()\n",
    "seq_model = get_seq_model()\n",
    "seq_model.summary()"
   ]
  },
  {
   "cell_type": "markdown",
   "id": "2a6ada7f",
   "metadata": {},
   "source": [
    "# Funzioni di attivazione"
   ]
  },
  {
   "cell_type": "code",
   "execution_count": 19,
   "id": "86576c26",
   "metadata": {},
   "outputs": [],
   "source": [
    "def get_seq_model(myfun):\n",
    "    seq_model = Sequential()\n",
    "    input_layer = InputLayer(input_shape=(100,))\n",
    "    hidden_layer_one = Dense(128,activation='relu')\n",
    "    hidden_layer_two = Dense(32,activation='relu')\n",
    "    output_layer = Dense(10,activation=myfun)\n",
    "    seq_model.add(input_layer)\n",
    "    seq_model.add(hidden_layer_one)\n",
    "    seq_model.add(hidden_layer_two)\n",
    "    seq_model.add(output_layer)\n",
    "    return seq_model"
   ]
  },
  {
   "cell_type": "code",
   "execution_count": 20,
   "id": "d8a79969",
   "metadata": {},
   "outputs": [
    {
     "name": "stdout",
     "output_type": "stream",
     "text": [
      "[[0.14652473 0.10605922 0.07214168 0.05889107 0.21365462 0.09596379\n",
      "  0.04705328 0.05335679 0.03839457 0.16796027]]\n",
      "shape (1, 10)\n",
      "sum 1.0000000223517418\n"
     ]
    }
   ],
   "source": [
    "model = get_seq_model('softmax')\n",
    "pred = model.predict(np.random.rand(1,100))\n",
    "print(pred)\n",
    "print('shape',pred.shape)\n",
    "print('sum',sum(pred[0]))"
   ]
  },
  {
   "cell_type": "code",
   "execution_count": 21,
   "id": "3af843e5",
   "metadata": {},
   "outputs": [
    {
     "name": "stdout",
     "output_type": "stream",
     "text": [
      "[[-0.8758651   0.0408582  -0.05814026  0.00749208 -0.5384035   0.84914935\n",
      "   0.10018453 -0.5832264   0.16045608 -0.00771484]]\n",
      "shape (1, 10)\n",
      "sum -0.9052098579704762\n"
     ]
    }
   ],
   "source": [
    "model = get_seq_model('linear')\n",
    "pred = model.predict(np.random.rand(1,100))\n",
    "print(pred)\n",
    "print('shape',pred.shape)\n",
    "print('sum',sum(pred[0]))"
   ]
  },
  {
   "cell_type": "code",
   "execution_count": 22,
   "id": "c2c8d89c",
   "metadata": {},
   "outputs": [
    {
     "name": "stdout",
     "output_type": "stream",
     "text": [
      "[[0.52772576 0.5658507  0.5517045  0.63573855 0.513419   0.52008706\n",
      "  0.55238587 0.44009358 0.6875631  0.516129  ]]\n",
      "shape (1, 10)\n",
      "sum 5.51069712638855\n"
     ]
    }
   ],
   "source": [
    "model = get_seq_model('sigmoid')\n",
    "pred = model.predict(np.random.rand(1,100))\n",
    "print(pred)\n",
    "print('shape',pred.shape)\n",
    "print('sum',sum(pred[0]))"
   ]
  },
  {
   "cell_type": "markdown",
   "id": "e86a4756",
   "metadata": {},
   "source": [
    "# Funzione di attivazione custom"
   ]
  },
  {
   "cell_type": "code",
   "execution_count": 23,
   "id": "a2bd7489",
   "metadata": {},
   "outputs": [
    {
     "name": "stdout",
     "output_type": "stream",
     "text": [
      "[[  675.4378   2355.281    5073.9897   2437.4138   -441.79822  1740.3484\n",
      "   1278.4542   1595.2198  -1814.5879   3289.828  ]]\n",
      "shape (1, 10)\n",
      "sum 16189.586608886719\n"
     ]
    }
   ],
   "source": [
    "def f(x):\n",
    "    return x*10000\n",
    "model = get_seq_model(f)\n",
    "pred = model.predict(np.random.rand(1,100))\n",
    "print(pred)\n",
    "print('shape',pred.shape)\n",
    "print('sum',sum(pred[0]))"
   ]
  },
  {
   "cell_type": "code",
   "execution_count": 24,
   "id": "b6e69cc0",
   "metadata": {},
   "outputs": [
    {
     "name": "stdout",
     "output_type": "stream",
     "text": [
      "[[-3009.186   -2041.771    -568.60913  6148.2847   -490.44083 -1408.1832\n",
      "  -2511.015    5008.2637    866.76965  2256.4666 ]]\n",
      "shape (1, 10)\n",
      "sum 4250.579437255859\n"
     ]
    }
   ],
   "source": [
    "f = lambda x:x*10000\n",
    "model = get_seq_model(f)\n",
    "pred = model.predict(np.random.rand(1,100))\n",
    "print(pred)\n",
    "print('shape',pred.shape)\n",
    "print('sum',sum(pred[0]))"
   ]
  },
  {
   "cell_type": "code",
   "execution_count": null,
   "id": "ca866934",
   "metadata": {},
   "outputs": [],
   "source": []
  }
 ],
 "metadata": {
  "kernelspec": {
   "display_name": "tflow",
   "language": "python",
   "name": "tflow"
  },
  "language_info": {
   "codemirror_mode": {
    "name": "ipython",
    "version": 3
   },
   "file_extension": ".py",
   "mimetype": "text/x-python",
   "name": "python",
   "nbconvert_exporter": "python",
   "pygments_lexer": "ipython3",
   "version": "3.7.13"
  }
 },
 "nbformat": 4,
 "nbformat_minor": 5
}
