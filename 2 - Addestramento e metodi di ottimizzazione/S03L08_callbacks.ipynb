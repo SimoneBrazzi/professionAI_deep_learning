{
 "cells": [
  {
   "cell_type": "code",
   "execution_count": 1,
   "id": "203df813",
   "metadata": {},
   "outputs": [],
   "source": [
    "#say no to warnings!\n",
    "import warnings\n",
    "warnings.filterwarnings(\"ignore\")\n",
    "import os\n",
    "os.environ['TF_CPP_MIN_LOG_LEVEL'] = '3' \n",
    "import tensorflow as tf\n",
    "tf.compat.v1.logging.set_verbosity(tf.compat.v1.logging.ERROR)"
   ]
  },
  {
   "cell_type": "code",
   "execution_count": 2,
   "id": "301861e3",
   "metadata": {},
   "outputs": [],
   "source": [
    "import tensorflow as tf\n",
    "import numpy as np\n",
    "from sklearn import datasets\n",
    "from sklearn.model_selection import train_test_split\n",
    "from tensorflow.keras.backend import clear_session\n",
    "import matplotlib.pyplot as plt\n",
    "from tensorflow.keras import Sequential\n",
    "from tensorflow.keras.layers import InputLayer,Dense"
   ]
  },
  {
   "cell_type": "code",
   "execution_count": 3,
   "id": "8e9c59fa",
   "metadata": {},
   "outputs": [],
   "source": [
    "bc = datasets.load_breast_cancer()\n",
    "x = bc.data\n",
    "y = bc.target"
   ]
  },
  {
   "cell_type": "code",
   "execution_count": 4,
   "id": "870f1cd3",
   "metadata": {},
   "outputs": [],
   "source": [
    "xtrain, xtest, ytrain, ytest = \\\n",
    "    train_test_split(x, y, test_size = 0.25, stratify=y)"
   ]
  },
  {
   "cell_type": "code",
   "execution_count": 63,
   "id": "6229fe5f",
   "metadata": {},
   "outputs": [],
   "source": [
    "def get_model():\n",
    "    model = Sequential()\n",
    "    model.add(Dense(units=16, activation='relu', input_dim=30))\n",
    "    model.add(Dense(units=1, activation='sigmoid'))\n",
    "    model.compile(\n",
    "        optimizer=tf.keras.optimizers.Adam(learning_rate=12.),\n",
    "        loss='binary_crossentropy', metrics=['accuracy'])\n",
    "    return model"
   ]
  },
  {
   "cell_type": "code",
   "execution_count": 6,
   "id": "13f7c911",
   "metadata": {},
   "outputs": [
    {
     "name": "stdout",
     "output_type": "stream",
     "text": [
      "CPU times: user 1.39 s, sys: 946 ms, total: 2.33 s\n",
      "Wall time: 2 s\n"
     ]
    }
   ],
   "source": [
    "%%time\n",
    "clear_session()\n",
    "model = get_model()\n",
    "history = model.fit(xtrain, ytrain, epochs=5,\n",
    "            validation_data=(xtest, ytest), verbose=0);"
   ]
  },
  {
   "cell_type": "markdown",
   "id": "4161703f",
   "metadata": {},
   "source": [
    "### Callbacks!"
   ]
  },
  {
   "cell_type": "code",
   "execution_count": 7,
   "id": "c9da8150",
   "metadata": {},
   "outputs": [],
   "source": [
    "cb = tf.keras.callbacks.Callback()"
   ]
  },
  {
   "cell_type": "code",
   "execution_count": 9,
   "id": "beaffb10",
   "metadata": {},
   "outputs": [
    {
     "data": {
      "text/plain": [
       "['model',\n",
       " 'on_batch_begin',\n",
       " 'on_batch_end',\n",
       " 'on_epoch_begin',\n",
       " 'on_epoch_end',\n",
       " 'on_predict_batch_begin',\n",
       " 'on_predict_batch_end',\n",
       " 'on_predict_begin',\n",
       " 'on_predict_end',\n",
       " 'on_test_batch_begin',\n",
       " 'on_test_batch_end',\n",
       " 'on_test_begin',\n",
       " 'on_test_end',\n",
       " 'on_train_batch_begin',\n",
       " 'on_train_batch_end',\n",
       " 'on_train_begin',\n",
       " 'on_train_end',\n",
       " 'set_model',\n",
       " 'set_params',\n",
       " 'validation_data']"
      ]
     },
     "execution_count": 9,
     "metadata": {},
     "output_type": "execute_result"
    }
   ],
   "source": [
    "[x for x in dir(cb) if not x.startswith('_')]"
   ]
  },
  {
   "cell_type": "code",
   "execution_count": 64,
   "id": "285857f1",
   "metadata": {},
   "outputs": [],
   "source": [
    "class MyCallBack(tf.keras.callbacks.Callback):\n",
    "    def on_train_begin(self,*args,**kwargs):\n",
    "        print('inizio train!')\n",
    "    def on_train_end(self,*args,**kwargs):\n",
    "        print('\\nfine train!')\n",
    "    def on_epoch_begin(self,epoch,arg,**kwargs):\n",
    "        if epoch==2:\n",
    "            self.model.optimizer.learning_rate=0.001\n",
    "        print('\\ninizio epoca',epoch,\\\n",
    "              'LR',self.model.optimizer.learning_rate.numpy())\n",
    "    def on_epoch_end(self,epoch,logs,**kwargs):\n",
    "        print('fine epoca',epoch,'val_loss',logs['val_loss'])"
   ]
  },
  {
   "cell_type": "code",
   "execution_count": 65,
   "id": "178d42ca",
   "metadata": {},
   "outputs": [
    {
     "name": "stdout",
     "output_type": "stream",
     "text": [
      "inizio train!\n",
      "\n",
      "inizio epoca 0 LR 12.0\n",
      "fine epoca 0 val_loss 0.6883295916177176\n",
      "\n",
      "inizio epoca 1 LR 12.0\n",
      "fine epoca 1 val_loss 0.7791218286627656\n",
      "\n",
      "inizio epoca 2 LR 0.001\n",
      "fine epoca 2 val_loss 0.7778534243156859\n",
      "\n",
      "inizio epoca 3 LR 0.001\n",
      "fine epoca 3 val_loss 0.7757175681474325\n",
      "\n",
      "inizio epoca 4 LR 0.001\n",
      "fine epoca 4 val_loss 0.7733748371784503\n",
      "\n",
      "fine train!\n"
     ]
    }
   ],
   "source": [
    "clear_session()\n",
    "model = get_model()\n",
    "mycb = MyCallBack()\n",
    "history = model.fit(xtrain, ytrain, epochs=5,\n",
    "            validation_data=(xtest, ytest), verbose=0,\n",
    "            callbacks=[mycb]);"
   ]
  },
  {
   "cell_type": "code",
   "execution_count": null,
   "id": "19de37ef",
   "metadata": {},
   "outputs": [],
   "source": []
  },
  {
   "cell_type": "code",
   "execution_count": null,
   "id": "e7117368",
   "metadata": {},
   "outputs": [],
   "source": []
  },
  {
   "cell_type": "code",
   "execution_count": null,
   "id": "c1cc76c7",
   "metadata": {},
   "outputs": [],
   "source": []
  },
  {
   "cell_type": "code",
   "execution_count": null,
   "id": "9a869b39",
   "metadata": {},
   "outputs": [],
   "source": []
  },
  {
   "cell_type": "code",
   "execution_count": null,
   "id": "53b400ce",
   "metadata": {},
   "outputs": [],
   "source": []
  },
  {
   "cell_type": "code",
   "execution_count": null,
   "id": "880f9c49",
   "metadata": {},
   "outputs": [],
   "source": []
  },
  {
   "cell_type": "code",
   "execution_count": null,
   "id": "7b6e6f12",
   "metadata": {},
   "outputs": [],
   "source": []
  },
  {
   "cell_type": "code",
   "execution_count": null,
   "id": "87e955d2",
   "metadata": {},
   "outputs": [],
   "source": []
  },
  {
   "cell_type": "code",
   "execution_count": null,
   "id": "e5c80c1f",
   "metadata": {},
   "outputs": [],
   "source": []
  }
 ],
 "metadata": {
  "kernelspec": {
   "display_name": "tflow",
   "language": "python",
   "name": "tflow"
  },
  "language_info": {
   "codemirror_mode": {
    "name": "ipython",
    "version": 3
   },
   "file_extension": ".py",
   "mimetype": "text/x-python",
   "name": "python",
   "nbconvert_exporter": "python",
   "pygments_lexer": "ipython3",
   "version": "3.7.13"
  }
 },
 "nbformat": 4,
 "nbformat_minor": 5
}
