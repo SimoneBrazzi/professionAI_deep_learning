{
 "cells": [
  {
   "cell_type": "markdown",
   "id": "eb17be40",
   "metadata": {},
   "source": [
    "### Partiamo dal solito BreastCancer dataset e modello (codice sotto)\n",
    "### Scrivi TRE callbacks\n",
    "- (1) un batch logger che salvi la loss ad ogni batch\n",
    "- (2) un learning rate scheduler che setti il LR a 0.001 in epoche pari e 0.005 in epoche dispari\n",
    "- (3) un early stopper che fermi il training se la validation accuracy sale sopra .9\n",
    "### Fai girare il training con 100 epoche e le tre callbacks\n",
    "### Visualizza, allineandole, le loss per batch ed epoca"
   ]
  },
  {
   "cell_type": "code",
   "execution_count": 3,
   "id": "203df813",
   "metadata": {},
   "outputs": [],
   "source": [
    "#say no to warnings!\n",
    "import warnings\n",
    "warnings.filterwarnings(\"ignore\")\n",
    "import os\n",
    "os.environ['TF_CPP_MIN_LOG_LEVEL'] = '3' \n",
    "import tensorflow as tf\n",
    "tf.compat.v1.logging.set_verbosity(tf.compat.v1.logging.ERROR)"
   ]
  },
  {
   "cell_type": "code",
   "execution_count": 4,
   "id": "301861e3",
   "metadata": {},
   "outputs": [],
   "source": [
    "import tensorflow as tf\n",
    "import numpy as np\n",
    "from sklearn import datasets\n",
    "from sklearn.model_selection import train_test_split\n",
    "from tensorflow.keras.backend import clear_session\n",
    "import matplotlib.pyplot as plt\n",
    "from tensorflow.keras import Sequential\n",
    "from tensorflow.keras.layers import InputLayer,Dense"
   ]
  },
  {
   "cell_type": "code",
   "execution_count": 5,
   "id": "8e9c59fa",
   "metadata": {},
   "outputs": [],
   "source": [
    "bc = datasets.load_breast_cancer()\n",
    "x = bc.data\n",
    "y = bc.target"
   ]
  },
  {
   "cell_type": "code",
   "execution_count": 6,
   "id": "870f1cd3",
   "metadata": {},
   "outputs": [],
   "source": [
    "xtrain, xtest, ytrain, ytest = \\\n",
    "    train_test_split(x, y, test_size = 0.25, stratify=y)"
   ]
  },
  {
   "cell_type": "code",
   "execution_count": 7,
   "id": "6229fe5f",
   "metadata": {},
   "outputs": [],
   "source": [
    "def get_model():\n",
    "    model = Sequential()\n",
    "    model.add(Dense(units=16, activation='relu', input_dim=30))\n",
    "    model.add(Dense(units=1, activation='sigmoid'))\n",
    "    model.compile(\n",
    "        optimizer='adam',\n",
    "        loss='binary_crossentropy', metrics=['accuracy'])\n",
    "    return model"
   ]
  },
  {
   "cell_type": "code",
   "execution_count": 8,
   "id": "13f7c911",
   "metadata": {},
   "outputs": [
    {
     "name": "stdout",
     "output_type": "stream",
     "text": [
      "CPU times: user 1.95 s, sys: 901 ms, total: 2.85 s\n",
      "Wall time: 2.29 s\n"
     ]
    }
   ],
   "source": [
    "%%time\n",
    "clear_session()\n",
    "model = get_model()\n",
    "history = model.fit(xtrain, ytrain, epochs=5,\n",
    "            validation_data=(xtest, ytest), verbose=0);"
   ]
  },
  {
   "cell_type": "markdown",
   "id": "4161703f",
   "metadata": {},
   "source": [
    "### Da qui in poi!"
   ]
  },
  {
   "cell_type": "code",
   "execution_count": null,
   "id": "041bf326",
   "metadata": {},
   "outputs": [],
   "source": []
  },
  {
   "cell_type": "code",
   "execution_count": null,
   "id": "746b96ba",
   "metadata": {},
   "outputs": [],
   "source": []
  },
  {
   "cell_type": "code",
   "execution_count": null,
   "id": "c467b587",
   "metadata": {},
   "outputs": [],
   "source": []
  },
  {
   "cell_type": "code",
   "execution_count": null,
   "id": "86c0f5af",
   "metadata": {},
   "outputs": [],
   "source": []
  },
  {
   "cell_type": "code",
   "execution_count": null,
   "id": "7f7c7a12",
   "metadata": {},
   "outputs": [],
   "source": []
  },
  {
   "cell_type": "code",
   "execution_count": null,
   "id": "3318e7a3",
   "metadata": {},
   "outputs": [],
   "source": []
  },
  {
   "cell_type": "code",
   "execution_count": null,
   "id": "416304f1",
   "metadata": {},
   "outputs": [],
   "source": []
  },
  {
   "cell_type": "code",
   "execution_count": null,
   "id": "65630ed1",
   "metadata": {},
   "outputs": [],
   "source": []
  }
 ],
 "metadata": {
  "kernelspec": {
   "display_name": "tflow",
   "language": "python",
   "name": "tflow"
  },
  "language_info": {
   "codemirror_mode": {
    "name": "ipython",
    "version": 3
   },
   "file_extension": ".py",
   "mimetype": "text/x-python",
   "name": "python",
   "nbconvert_exporter": "python",
   "pygments_lexer": "ipython3",
   "version": "3.7.13"
  }
 },
 "nbformat": 4,
 "nbformat_minor": 5
}
