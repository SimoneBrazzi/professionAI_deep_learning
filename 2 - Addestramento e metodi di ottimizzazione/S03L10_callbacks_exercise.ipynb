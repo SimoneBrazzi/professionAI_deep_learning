{
 "cells": [
  {
   "cell_type": "code",
   "execution_count": 1,
   "id": "203df813",
   "metadata": {},
   "outputs": [],
   "source": [
    "#say no to warnings!\n",
    "import warnings\n",
    "warnings.filterwarnings(\"ignore\")\n",
    "import os\n",
    "os.environ['TF_CPP_MIN_LOG_LEVEL'] = '3' \n",
    "import tensorflow as tf\n",
    "tf.compat.v1.logging.set_verbosity(tf.compat.v1.logging.ERROR)"
   ]
  },
  {
   "cell_type": "code",
   "execution_count": 2,
   "id": "301861e3",
   "metadata": {},
   "outputs": [],
   "source": [
    "import tensorflow as tf\n",
    "import numpy as np\n",
    "from sklearn import datasets\n",
    "from sklearn.model_selection import train_test_split\n",
    "from tensorflow.keras.backend import clear_session\n",
    "import matplotlib.pyplot as plt\n",
    "from tensorflow.keras import Sequential\n",
    "from tensorflow.keras.layers import InputLayer,Dense"
   ]
  },
  {
   "cell_type": "code",
   "execution_count": 3,
   "id": "8e9c59fa",
   "metadata": {},
   "outputs": [],
   "source": [
    "bc = datasets.load_breast_cancer()\n",
    "x = bc.data\n",
    "y = bc.target"
   ]
  },
  {
   "cell_type": "code",
   "execution_count": 4,
   "id": "870f1cd3",
   "metadata": {},
   "outputs": [],
   "source": [
    "xtrain, xtest, ytrain, ytest = \\\n",
    "    train_test_split(x, y, test_size = 0.25, stratify=y)"
   ]
  },
  {
   "cell_type": "code",
   "execution_count": 5,
   "id": "6229fe5f",
   "metadata": {},
   "outputs": [],
   "source": [
    "def get_model():\n",
    "    model = Sequential()\n",
    "    model.add(Dense(units=16, activation='relu', input_dim=30))\n",
    "    model.add(Dense(units=1, activation='sigmoid'))\n",
    "    model.compile(\n",
    "        optimizer='adam',\n",
    "        loss='binary_crossentropy', metrics=['accuracy'])\n",
    "    return model"
   ]
  },
  {
   "cell_type": "code",
   "execution_count": 6,
   "id": "13f7c911",
   "metadata": {},
   "outputs": [
    {
     "name": "stdout",
     "output_type": "stream",
     "text": [
      "CPU times: user 1.38 s, sys: 876 ms, total: 2.26 s\n",
      "Wall time: 1.94 s\n"
     ]
    }
   ],
   "source": [
    "%%time\n",
    "clear_session()\n",
    "model = get_model()\n",
    "history = model.fit(xtrain, ytrain, epochs=5,\n",
    "            validation_data=(xtest, ytest), verbose=0);"
   ]
  },
  {
   "cell_type": "markdown",
   "id": "4161703f",
   "metadata": {},
   "source": [
    "### Callbacks!"
   ]
  },
  {
   "cell_type": "code",
   "execution_count": 11,
   "id": "11c1a614",
   "metadata": {},
   "outputs": [
    {
     "data": {
      "text/plain": [
       "['on_batch_begin',\n",
       " 'on_batch_end',\n",
       " 'on_predict_batch_begin',\n",
       " 'on_predict_batch_end',\n",
       " 'on_test_batch_begin',\n",
       " 'on_test_batch_end',\n",
       " 'on_train_batch_begin',\n",
       " 'on_train_batch_end']"
      ]
     },
     "execution_count": 11,
     "metadata": {},
     "output_type": "execute_result"
    }
   ],
   "source": [
    "[x for x in dir(tf.keras.callbacks.Callback())\\\n",
    "    if 'batch' in x]"
   ]
  },
  {
   "cell_type": "code",
   "execution_count": 51,
   "id": "593c2c1c",
   "metadata": {},
   "outputs": [],
   "source": [
    "#un batch logger che salvi la loss ad ogni batch\n",
    "class BatchLogger(tf.keras.callbacks.Callback):\n",
    "    def on_train_begin(self,*args,**kwargs):\n",
    "        self.batch_loss = []\n",
    "    def on_batch_end(self,batch_num,logs):\n",
    "        self.batch_loss+=[logs['loss']]"
   ]
  },
  {
   "cell_type": "code",
   "execution_count": 72,
   "id": "4be7544f",
   "metadata": {},
   "outputs": [],
   "source": [
    "#un learning rate scheduler che setti il LR a 0.001 in epoche pari \n",
    "#e 0.005 in epoche dispari\n",
    "class LRScheduler(tf.keras.callbacks.Callback):\n",
    "    def on_epoch_begin(self,epoch,args,**kwargs):\n",
    "        if epoch%2==0:#epoca pari\n",
    "            self.model.optimizer.learning_rate = 0.001\n",
    "        else:\n",
    "            self.model.optimizer.learning_rate = 0.005"
   ]
  },
  {
   "cell_type": "code",
   "execution_count": 99,
   "id": "f95cb635",
   "metadata": {},
   "outputs": [],
   "source": [
    "#un early stopper che fermi il training se validation accuracy > .9\n",
    "class EarlyStopper(tf.keras.callbacks.Callback):\n",
    "    def on_epoch_end(self,epoch,logs,**kwargs):\n",
    "        if logs['val_accuracy']>.9:\n",
    "            print('STOP AT EPOCH',epoch)\n",
    "            self.model.stop_training=True"
   ]
  },
  {
   "cell_type": "code",
   "execution_count": 100,
   "id": "fa14b39d",
   "metadata": {
    "scrolled": true
   },
   "outputs": [
    {
     "name": "stdout",
     "output_type": "stream",
     "text": [
      "STOP AT EPOCH 8\n"
     ]
    }
   ],
   "source": [
    "clear_session()\n",
    "model = get_model()\n",
    "batchlogger = BatchLogger()\n",
    "lrscheduler = LRScheduler()\n",
    "earlystopper = EarlyStopper()\n",
    "history = model.fit(xtrain, ytrain, epochs=100,\n",
    "            validation_data=(xtest, ytest), verbose=0,\n",
    "            callbacks=[batchlogger,lrscheduler,earlystopper]);"
   ]
  },
  {
   "cell_type": "code",
   "execution_count": 56,
   "id": "25f8adef",
   "metadata": {},
   "outputs": [],
   "source": [
    "#batchlogger.batch_loss"
   ]
  },
  {
   "cell_type": "code",
   "execution_count": 107,
   "id": "b648d019",
   "metadata": {},
   "outputs": [],
   "source": [
    "stretched_epoch_loss = [[x]*14 for x in history.history['loss']]\n",
    "flattened_epoch_loss = [a for b in stretched_epoch_loss for a in b]"
   ]
  },
  {
   "cell_type": "code",
   "execution_count": 108,
   "id": "043da244",
   "metadata": {},
   "outputs": [
    {
     "data": {
      "image/png": "[encoded data removed]",
      "text/plain": [
       "<Figure size 432x288 with 1 Axes>"
      ]
     },
     "metadata": {
      "needs_background": "light"
     },
     "output_type": "display_data"
    }
   ],
   "source": [
    "plt.plot(batchlogger.batch_loss,label='batch loss')\n",
    "plt.plot(flattened_epoch_loss,label='epoch loss')\n",
    "plt.legend();"
   ]
  },
  {
   "cell_type": "code",
   "execution_count": 117,
   "id": "5af86a9c",
   "metadata": {},
   "outputs": [
    {
     "name": "stdout",
     "output_type": "stream",
     "text": [
      "epoch 0\n",
      "avg batch loss 145.41090385902655\n",
      "logged epoch loss 145.41090385902655\n",
      "\n",
      "epoch 1\n",
      "avg batch loss 55.58798891166006\n",
      "logged epoch loss 55.58798891166006\n",
      "\n",
      "epoch 2\n",
      "avg batch loss 18.652804985896033\n",
      "logged epoch loss 18.652804985896033\n",
      "\n",
      "epoch 3\n",
      "avg batch loss 15.719465425876384\n",
      "logged epoch loss 15.719465425876384\n",
      "\n",
      "epoch 4\n",
      "avg batch loss 1.5056851447468074\n",
      "logged epoch loss 1.5056851447468074\n",
      "\n",
      "epoch 5\n",
      "avg batch loss 1.1226318134388453\n",
      "logged epoch loss 1.1226318134388453\n",
      "\n",
      "epoch 6\n",
      "avg batch loss 1.0704130004925276\n",
      "logged epoch loss 1.0704130004925276\n",
      "\n",
      "epoch 7\n",
      "avg batch loss 1.004318488595631\n",
      "logged epoch loss 1.004318488595631\n",
      "\n",
      "epoch 8\n",
      "avg batch loss 0.9795007950543237\n",
      "logged epoch loss 0.9795007950543237\n",
      "\n"
     ]
    }
   ],
   "source": [
    "for i in range(9):\n",
    "    print('epoch',i)\n",
    "    current_batch = batchlogger.batch_loss[14*i:14*(i+1)]\n",
    "    batch_dimensions = [32]*13+[10]\n",
    "    batch_mult = np.array(current_batch)*batch_dimensions\n",
    "    print('avg batch loss',np.sum(batch_mult)/426)\n",
    "    print('logged epoch loss',history.history['loss'][i])\n",
    "    print()"
   ]
  },
  {
   "cell_type": "code",
   "execution_count": 113,
   "id": "5abeaf16",
   "metadata": {},
   "outputs": [
    {
     "data": {
      "text/plain": [
       "426"
      ]
     },
     "execution_count": 113,
     "metadata": {},
     "output_type": "execute_result"
    }
   ],
   "source": [
    "32*13+10"
   ]
  },
  {
   "cell_type": "code",
   "execution_count": null,
   "id": "e13d3dfd",
   "metadata": {},
   "outputs": [],
   "source": []
  },
  {
   "cell_type": "code",
   "execution_count": null,
   "id": "aa1a0ce0",
   "metadata": {},
   "outputs": [],
   "source": []
  },
  {
   "cell_type": "code",
   "execution_count": null,
   "id": "5836bfe3",
   "metadata": {},
   "outputs": [],
   "source": []
  },
  {
   "cell_type": "code",
   "execution_count": null,
   "id": "bc6a7d5f",
   "metadata": {},
   "outputs": [],
   "source": []
  },
  {
   "cell_type": "code",
   "execution_count": null,
   "id": "a1821ab1",
   "metadata": {},
   "outputs": [],
   "source": []
  },
  {
   "cell_type": "code",
   "execution_count": null,
   "id": "b01b1f52",
   "metadata": {},
   "outputs": [],
   "source": []
  }
 ],
 "metadata": {
  "kernelspec": {
   "display_name": "tflow",
   "language": "python",
   "name": "tflow"
  },
  "language_info": {
   "codemirror_mode": {
    "name": "ipython",
    "version": 3
   },
   "file_extension": ".py",
   "mimetype": "text/x-python",
   "name": "python",
   "nbconvert_exporter": "python",
   "pygments_lexer": "ipython3",
   "version": "3.7.13"
  }
 },
 "nbformat": 4,
 "nbformat_minor": 5
}
