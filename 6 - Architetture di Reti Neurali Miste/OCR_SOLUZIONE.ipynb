{
 "cells": [
  {
   "cell_type": "markdown",
   "id": "7ebfcfe3",
   "metadata": {},
   "source": [
    "## OCR ESERCITAZIONE"
   ]
  },
  {
   "cell_type": "markdown",
   "id": "8e0154dd",
   "metadata": {},
   "source": [
    "Costruire un modello ibrido per il riconoscimento di caratteri (OCR).\n",
    "1. Il modello deve comprendere almeno un layer convoluzionale in input e successivamente un layer ricorrente\n",
    "2. Utilizza un layer Reshape tra la parte convoluzionale e lo strato ricorrente"
   ]
  },
  {
   "cell_type": "code",
   "execution_count": 1,
   "id": "679f2343",
   "metadata": {},
   "outputs": [],
   "source": [
    "import matplotlib.pyplot as plt\n",
    "from sklearn.model_selection import train_test_split\n",
    "import tensorflow as tf\n",
    "from keras.models import Sequential, load_model\n",
    "from keras.callbacks import EarlyStopping, ModelCheckpoint\n",
    "from keras import layers\n",
    "from keras.layers import *\n",
    "from keras.utils import np_utils\n",
    "import pandas as pd"
   ]
  },
  {
   "cell_type": "code",
   "execution_count": 2,
   "id": "bc43e6d9",
   "metadata": {},
   "outputs": [],
   "source": [
    "import pandas as pd\n",
    "train_df = pd.read_csv('./emnist_train.csv')"
   ]
  },
  {
   "cell_type": "code",
   "execution_count": 3,
   "id": "06746346",
   "metadata": {},
   "outputs": [
    {
     "data": {
      "text/html": [
       "<div>\n",
       "<style scoped>\n",
       "    .dataframe tbody tr th:only-of-type {\n",
       "        vertical-align: middle;\n",
       "    }\n",
       "\n",
       "    .dataframe tbody tr th {\n",
       "        vertical-align: top;\n",
       "    }\n",
       "\n",
       "    .dataframe thead th {\n",
       "        text-align: right;\n",
       "    }\n",
       "</style>\n",
       "<table border=\"1\" class=\"dataframe\">\n",
       "  <thead>\n",
       "    <tr style=\"text-align: right;\">\n",
       "      <th></th>\n",
       "      <th>char</th>\n",
       "      <th>0</th>\n",
       "      <th>1</th>\n",
       "      <th>2</th>\n",
       "      <th>3</th>\n",
       "      <th>4</th>\n",
       "      <th>5</th>\n",
       "      <th>6</th>\n",
       "      <th>7</th>\n",
       "      <th>8</th>\n",
       "      <th>...</th>\n",
       "      <th>775</th>\n",
       "      <th>776</th>\n",
       "      <th>777</th>\n",
       "      <th>778</th>\n",
       "      <th>779</th>\n",
       "      <th>780</th>\n",
       "      <th>781</th>\n",
       "      <th>782</th>\n",
       "      <th>783</th>\n",
       "      <th>784</th>\n",
       "    </tr>\n",
       "  </thead>\n",
       "  <tbody>\n",
       "    <tr>\n",
       "      <th>0</th>\n",
       "      <td>r</td>\n",
       "      <td>45</td>\n",
       "      <td>0</td>\n",
       "      <td>0</td>\n",
       "      <td>0</td>\n",
       "      <td>0</td>\n",
       "      <td>0</td>\n",
       "      <td>0</td>\n",
       "      <td>0</td>\n",
       "      <td>0</td>\n",
       "      <td>...</td>\n",
       "      <td>0</td>\n",
       "      <td>0</td>\n",
       "      <td>0</td>\n",
       "      <td>0</td>\n",
       "      <td>0</td>\n",
       "      <td>0</td>\n",
       "      <td>0</td>\n",
       "      <td>0</td>\n",
       "      <td>0</td>\n",
       "      <td>0</td>\n",
       "    </tr>\n",
       "    <tr>\n",
       "      <th>1</th>\n",
       "      <td>a</td>\n",
       "      <td>36</td>\n",
       "      <td>0</td>\n",
       "      <td>0</td>\n",
       "      <td>0</td>\n",
       "      <td>0</td>\n",
       "      <td>0</td>\n",
       "      <td>0</td>\n",
       "      <td>0</td>\n",
       "      <td>0</td>\n",
       "      <td>...</td>\n",
       "      <td>0</td>\n",
       "      <td>0</td>\n",
       "      <td>0</td>\n",
       "      <td>0</td>\n",
       "      <td>0</td>\n",
       "      <td>0</td>\n",
       "      <td>0</td>\n",
       "      <td>0</td>\n",
       "      <td>0</td>\n",
       "      <td>0</td>\n",
       "    </tr>\n",
       "    <tr>\n",
       "      <th>2</th>\n",
       "      <td>n</td>\n",
       "      <td>43</td>\n",
       "      <td>0</td>\n",
       "      <td>0</td>\n",
       "      <td>0</td>\n",
       "      <td>0</td>\n",
       "      <td>0</td>\n",
       "      <td>0</td>\n",
       "      <td>0</td>\n",
       "      <td>0</td>\n",
       "      <td>...</td>\n",
       "      <td>0</td>\n",
       "      <td>0</td>\n",
       "      <td>0</td>\n",
       "      <td>0</td>\n",
       "      <td>0</td>\n",
       "      <td>0</td>\n",
       "      <td>0</td>\n",
       "      <td>0</td>\n",
       "      <td>0</td>\n",
       "      <td>0</td>\n",
       "    </tr>\n",
       "    <tr>\n",
       "      <th>3</th>\n",
       "      <td>F</td>\n",
       "      <td>15</td>\n",
       "      <td>0</td>\n",
       "      <td>0</td>\n",
       "      <td>0</td>\n",
       "      <td>0</td>\n",
       "      <td>0</td>\n",
       "      <td>0</td>\n",
       "      <td>0</td>\n",
       "      <td>0</td>\n",
       "      <td>...</td>\n",
       "      <td>0</td>\n",
       "      <td>0</td>\n",
       "      <td>0</td>\n",
       "      <td>0</td>\n",
       "      <td>0</td>\n",
       "      <td>0</td>\n",
       "      <td>0</td>\n",
       "      <td>0</td>\n",
       "      <td>0</td>\n",
       "      <td>0</td>\n",
       "    </tr>\n",
       "    <tr>\n",
       "      <th>4</th>\n",
       "      <td>4</td>\n",
       "      <td>4</td>\n",
       "      <td>0</td>\n",
       "      <td>0</td>\n",
       "      <td>0</td>\n",
       "      <td>0</td>\n",
       "      <td>0</td>\n",
       "      <td>0</td>\n",
       "      <td>0</td>\n",
       "      <td>0</td>\n",
       "      <td>...</td>\n",
       "      <td>0</td>\n",
       "      <td>0</td>\n",
       "      <td>0</td>\n",
       "      <td>0</td>\n",
       "      <td>0</td>\n",
       "      <td>0</td>\n",
       "      <td>0</td>\n",
       "      <td>0</td>\n",
       "      <td>0</td>\n",
       "      <td>0</td>\n",
       "    </tr>\n",
       "  </tbody>\n",
       "</table>\n",
       "<p>5 rows × 786 columns</p>\n",
       "</div>"
      ],
      "text/plain": [
       "  char   0  1  2  3  4  5  6  7  8  ...  775  776  777  778  779  780  781  \\\n",
       "0    r  45  0  0  0  0  0  0  0  0  ...    0    0    0    0    0    0    0   \n",
       "1    a  36  0  0  0  0  0  0  0  0  ...    0    0    0    0    0    0    0   \n",
       "2    n  43  0  0  0  0  0  0  0  0  ...    0    0    0    0    0    0    0   \n",
       "3    F  15  0  0  0  0  0  0  0  0  ...    0    0    0    0    0    0    0   \n",
       "4    4   4  0  0  0  0  0  0  0  0  ...    0    0    0    0    0    0    0   \n",
       "\n",
       "   782  783  784  \n",
       "0    0    0    0  \n",
       "1    0    0    0  \n",
       "2    0    0    0  \n",
       "3    0    0    0  \n",
       "4    0    0    0  \n",
       "\n",
       "[5 rows x 786 columns]"
      ]
     },
     "execution_count": 3,
     "metadata": {},
     "output_type": "execute_result"
    }
   ],
   "source": [
    "train_df.head()"
   ]
  },
  {
   "cell_type": "code",
   "execution_count": 4,
   "id": "1a173e02",
   "metadata": {},
   "outputs": [],
   "source": [
    "W, H=28,28\n",
    "X = train_df.iloc[:,2:]"
   ]
  },
  {
   "cell_type": "code",
   "execution_count": 5,
   "id": "23ffde83",
   "metadata": {},
   "outputs": [],
   "source": [
    "import numpy as np\n",
    "\n",
    "def reshape_and_rotate(image):\n",
    "    W = 28\n",
    "    H = 28\n",
    "    image = image.reshape(W, H)\n",
    "    image = np.fliplr(image)\n",
    "    image = np.rot90(image)\n",
    "    return image\n",
    "\n"
   ]
  },
  {
   "cell_type": "code",
   "execution_count": 6,
   "id": "b018b4d4",
   "metadata": {},
   "outputs": [
    {
     "data": {
      "text/plain": [
       "((784,), 'a')"
      ]
     },
     "execution_count": 6,
     "metadata": {},
     "output_type": "execute_result"
    }
   ],
   "source": [
    "sample_image = train_df.iloc[1,2:]\n",
    "sample_label = train_df.iloc[1]['char']\n",
    "sample_image.shape,sample_label"
   ]
  },
  {
   "cell_type": "code",
   "execution_count": 7,
   "id": "62e22946",
   "metadata": {},
   "outputs": [],
   "source": [
    "X = np.apply_along_axis(reshape_and_rotate, 1, X.values.astype('float32'))\n",
    "X = X / 255"
   ]
  },
  {
   "cell_type": "code",
   "execution_count": 9,
   "id": "c618a036",
   "metadata": {},
   "outputs": [
    {
     "data": {
      "image/png": "[encoded data removed]",
      "text/plain": [
       "<Figure size 1000x1000 with 19 Axes>"
      ]
     },
     "metadata": {},
     "output_type": "display_data"
    }
   ],
   "source": [
    "plt.figure(figsize=(10,10))\n",
    "for i in range(1,20):\n",
    "    plt.subplot(1,20,i)\n",
    "    plt.imshow(X[i].reshape(28, 28), cmap=plt.cm.gray)\n",
    "    plt.title(train_df.iloc[i]['char'])\n",
    "    plt.axis('off')"
   ]
  },
  {
   "cell_type": "code",
   "execution_count": 10,
   "id": "6faa1ca8",
   "metadata": {},
   "outputs": [],
   "source": [
    "X = X.reshape(-1, W, H, 1)\n"
   ]
  },
  {
   "cell_type": "code",
   "execution_count": null,
   "id": "b19a6b0e",
   "metadata": {},
   "outputs": [],
   "source": [
    "y = train_df.iloc[:,1].values\n",
    "number_of_classes = len(set(y))\n",
    "y = np_utils.to_categorical(y, number_of_classes)\n"
   ]
  },
  {
   "cell_type": "code",
   "execution_count": 11,
   "id": "952d5586",
   "metadata": {},
   "outputs": [],
   "source": [
    "X_train, X_val, y_train, y_val = train_test_split(X, y, test_size= 0.1, random_state=1)"
   ]
  },
  {
   "cell_type": "code",
   "execution_count": 106,
   "id": "2ee55e23",
   "metadata": {},
   "outputs": [
    {
     "name": "stdout",
     "output_type": "stream",
     "text": [
      "Model: \"sequential\"\n",
      "_________________________________________________________________\n",
      " Layer (type)                Output Shape              Param #   \n",
      "=================================================================\n",
      " conv2d (Conv2D)             (None, 28, 28, 16)        160       \n",
      "                                                                 \n",
      " max_pooling2d (MaxPooling2D  (None, 14, 14, 16)       0         \n",
      " )                                                               \n",
      "                                                                 \n",
      " conv2d_1 (Conv2D)           (None, 14, 14, 32)        4640      \n",
      "                                                                 \n",
      " max_pooling2d_1 (MaxPooling  (None, 7, 7, 32)         0         \n",
      " 2D)                                                             \n",
      "                                                                 \n",
      " batch_normalization (BatchN  (None, 7, 7, 32)         128       \n",
      " ormalization)                                                   \n",
      "                                                                 \n",
      " reshape (Reshape)           (None, 1, 1568)           0         \n",
      "                                                                 \n",
      " bidirectional (Bidirectiona  (None, 1, 256)           1737728   \n",
      " l)                                                              \n",
      "                                                                 \n",
      " bidirectional_1 (Bidirectio  (None, 1, 256)           394240    \n",
      " nal)                                                            \n",
      "                                                                 \n",
      " flatten (Flatten)           (None, 256)               0         \n",
      "                                                                 \n",
      " dense (Dense)               (None, 128)               32896     \n",
      "                                                                 \n",
      " dense_1 (Dense)             (None, 47)                6063      \n",
      "                                                                 \n",
      "=================================================================\n",
      "Total params: 2,175,855\n",
      "Trainable params: 2,175,791\n",
      "Non-trainable params: 64\n",
      "_________________________________________________________________\n"
     ]
    }
   ],
   "source": [
    "import keras.backend as K\n",
    "from keras.backend import clear_session\n",
    "clear_session()\n",
    "model = Sequential() \n",
    "model.add(layers.Conv2D(16, (3,3), activation = 'relu', padding='same',input_shape=(W, H, 1)))\n",
    "model.add(layers.MaxPool2D(pool_size=(2, 2), strides=2))\n",
    "model.add(layers.Conv2D(32, (3,3), activation = 'relu', padding='same'))\n",
    "model.add(layers.MaxPool2D(pool_size=(2, 2), strides=2))\n",
    "model.add(layers.BatchNormalization())\n",
    "model.add(layers.Reshape(target_shape=((1, 1568)), name='reshape'))\n",
    "model.add(layers.Bidirectional(layers.LSTM(128, return_sequences=True, dropout = 0.2)))\n",
    "model.add(layers.Bidirectional(layers.LSTM(128, return_sequences=True, dropout = 0.2)))\n",
    "model.add(layers.Flatten())\n",
    "model.add(layers.Dense(128, activation='relu'))\n",
    "model.add(layers.Dense(number_of_classes, activation='softmax'))\n",
    "model.summary()"
   ]
  },
  {
   "cell_type": "code",
   "execution_count": 108,
   "id": "a9a59f6a",
   "metadata": {},
   "outputs": [],
   "source": [
    "model.compile(loss='categorical_crossentropy', optimizer='adam', metrics=['accuracy'])\n",
    "early_stopping = EarlyStopping(monitor='val_loss', patience=5, verbose=1, mode='min')"
   ]
  },
  {
   "cell_type": "code",
   "execution_count": 109,
   "id": "b73c06be",
   "metadata": {
    "scrolled": true
   },
   "outputs": [
    {
     "name": "stdout",
     "output_type": "stream",
     "text": [
      "Epoch 1/30\n",
      "1428/1428 [==============================] - 69s 45ms/step - loss: 0.6766 - accuracy: 0.7848 - val_loss: 0.4425 - val_accuracy: 0.8467\n",
      "Epoch 2/30\n",
      "1428/1428 [==============================] - 70s 49ms/step - loss: 0.3997 - accuracy: 0.8566 - val_loss: 0.3857 - val_accuracy: 0.8658\n",
      "Epoch 3/30\n",
      "1428/1428 [==============================] - 74s 52ms/step - loss: 0.3479 - accuracy: 0.8712 - val_loss: 0.3922 - val_accuracy: 0.8630\n",
      "Epoch 4/30\n",
      "1428/1428 [==============================] - 70s 49ms/step - loss: 0.3181 - accuracy: 0.8802 - val_loss: 0.3756 - val_accuracy: 0.8691\n",
      "Epoch 5/30\n",
      "1428/1428 [==============================] - 66s 47ms/step - loss: 0.2962 - accuracy: 0.8887 - val_loss: 0.3821 - val_accuracy: 0.8692\n",
      "Epoch 6/30\n",
      "1428/1428 [==============================] - 69s 48ms/step - loss: 0.2752 - accuracy: 0.8946 - val_loss: 0.3910 - val_accuracy: 0.8720\n",
      "Epoch 7/30\n",
      "1428/1428 [==============================] - 68s 48ms/step - loss: 0.2617 - accuracy: 0.8985 - val_loss: 0.3636 - val_accuracy: 0.8786\n",
      "Epoch 8/30\n",
      "1428/1428 [==============================] - 66s 46ms/step - loss: 0.2476 - accuracy: 0.9028 - val_loss: 0.3666 - val_accuracy: 0.8744\n",
      "Epoch 9/30\n",
      "1428/1428 [==============================] - 69s 48ms/step - loss: 0.2386 - accuracy: 0.9063 - val_loss: 0.3772 - val_accuracy: 0.8755\n",
      "Epoch 10/30\n",
      "1428/1428 [==============================] - 74s 52ms/step - loss: 0.2269 - accuracy: 0.9092 - val_loss: 0.3692 - val_accuracy: 0.8798\n",
      "Epoch 11/30\n",
      "1428/1428 [==============================] - 73s 51ms/step - loss: 0.2224 - accuracy: 0.9116 - val_loss: 0.3820 - val_accuracy: 0.8795\n",
      "Epoch 12/30\n",
      "1428/1428 [==============================] - 72s 50ms/step - loss: 0.2128 - accuracy: 0.9143 - val_loss: 0.3853 - val_accuracy: 0.8771\n",
      "Epoch 12: early stopping\n"
     ]
    }
   ],
   "source": [
    "history = model.fit(X_train,\n",
    "                    y_train, \n",
    "                    epochs=30, \n",
    "                    batch_size=64, \n",
    "                    verbose=1, \n",
    "                    validation_split=0.1,\n",
    "                    callbacks=[early_stopping])"
   ]
  },
  {
   "cell_type": "code",
   "execution_count": 119,
   "id": "95fd3a74",
   "metadata": {},
   "outputs": [
    {
     "data": {
      "image/png": "[encoded data removed]",
      "text/plain": [
       "<Figure size 1000x1000 with 19 Axes>"
      ]
     },
     "metadata": {},
     "output_type": "display_data"
    }
   ],
   "source": [
    "plt.figure(figsize=(10,10))\n",
    "for i in range(1,20):\n",
    "    plt.subplot(1,20,i)\n",
    "    plt.imshow(X_val[i].reshape(28, 28), cmap=plt.cm.gray)\n",
    "    plt.title(label_dict[y_pred[i].argmax()])\n",
    "    plt.axis('off')"
   ]
  },
  {
   "cell_type": "code",
   "execution_count": 125,
   "id": "f9a7cc3e",
   "metadata": {},
   "outputs": [],
   "source": [
    "test_df = pd.read_csv('./emnist_test.csv')\n",
    "X_test = test_df.iloc[:,2:]\n",
    "X_test = np.apply_along_axis(reshape_and_rotate, 1, X_test.values.astype('float32'))\n",
    "X_test = X_test / 255\n",
    "X_test = X_test.reshape(-1, W, H, 1)"
   ]
  },
  {
   "cell_type": "code",
   "execution_count": 130,
   "id": "3cc3fc2a",
   "metadata": {},
   "outputs": [],
   "source": [
    "y_test = test_df.iloc[:,1].values\n",
    "number_of_classes = len(set(y_test))\n",
    "y_test = np_utils.to_categorical(y_test, number_of_classes)"
   ]
  },
  {
   "cell_type": "code",
   "execution_count": 131,
   "id": "9456e774",
   "metadata": {},
   "outputs": [
    {
     "name": "stdout",
     "output_type": "stream",
     "text": [
      "588/588 [==============================] - 7s 11ms/step - loss: 0.3987 - accuracy: 0.8768\n"
     ]
    },
    {
     "data": {
      "text/plain": [
       "[0.39866968989372253, 0.8767552971839905]"
      ]
     },
     "execution_count": 131,
     "metadata": {},
     "output_type": "execute_result"
    }
   ],
   "source": [
    "model.evaluate(X_test,y_test)"
   ]
  },
  {
   "cell_type": "code",
   "execution_count": 134,
   "id": "85fba469",
   "metadata": {},
   "outputs": [
    {
     "name": "stdout",
     "output_type": "stream",
     "text": [
      "588/588 [==============================] - 6s 11ms/step\n"
     ]
    },
    {
     "data": {
      "image/png": "[encoded data removed]",
      "text/plain": [
       "<Figure size 1000x1000 with 19 Axes>"
      ]
     },
     "metadata": {},
     "output_type": "display_data"
    }
   ],
   "source": [
    "y_pred = model.predict(X_test)\n",
    "\n",
    "plt.figure(figsize=(10,10))\n",
    "for i in range(1,20):\n",
    "    plt.subplot(1,20,i)\n",
    "    plt.imshow(X_test[i].reshape(28, 28), cmap=plt.cm.gray)\n",
    "    plt.title(label_dict[y_pred[i].argmax()])\n",
    "    plt.axis('off')"
   ]
  },
  {
   "cell_type": "code",
   "execution_count": null,
   "id": "da2de93b",
   "metadata": {},
   "outputs": [],
   "source": []
  },
  {
   "cell_type": "code",
   "execution_count": null,
   "id": "9fb9665e",
   "metadata": {},
   "outputs": [],
   "source": []
  }
 ],
 "metadata": {
  "kernelspec": {
   "display_name": "Python 3 (ipykernel)",
   "language": "python",
   "name": "python3"
  },
  "language_info": {
   "codemirror_mode": {
    "name": "ipython",
    "version": 3
   },
   "file_extension": ".py",
   "mimetype": "text/x-python",
   "name": "python",
   "nbconvert_exporter": "python",
   "pygments_lexer": "ipython3",
   "version": "3.9.1"
  }
 },
 "nbformat": 4,
 "nbformat_minor": 5
}
